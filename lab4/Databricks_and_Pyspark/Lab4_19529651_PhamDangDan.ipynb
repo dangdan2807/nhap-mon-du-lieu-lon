{
 "cells": [
  {
   "cell_type": "markdown",
   "metadata": {
    "application/vnd.databricks.v1+cell": {
     "cellMetadata": {},
     "inputWidgets": {},
     "nuid": "2d1537c8-add0-421d-a863-85664a7c4849",
     "showTitle": false,
     "title": ""
    }
   },
   "source": [
    "# Lab 4\n"
   ]
  },
  {
   "cell_type": "markdown",
   "metadata": {
    "application/vnd.databricks.v1+cell": {
     "cellMetadata": {},
     "inputWidgets": {},
     "nuid": "52b88c87-ca3e-4b03-a59c-953ee434519d",
     "showTitle": false,
     "title": ""
    }
   },
   "source": [
    "## Phạm Đăng Đan\n",
    "## MSSV: 19529651"
   ]
  },
  {
   "cell_type": "markdown",
   "metadata": {
    "application/vnd.databricks.v1+cell": {
     "cellMetadata": {},
     "inputWidgets": {},
     "nuid": "d63b1100-6691-4d3a-95b0-e12fb28c11ba",
     "showTitle": false,
     "title": ""
    }
   },
   "source": [
    "# Câu 1 (3 điểm): \n",
    "\n",
    "Cho một RDD trong Spark chứa danh sách lớp như cell dưới đây\n",
    "\n",
    "(a)\t(1 điểm) Sử dụng Pyspark, liệt kê các tên trong danh sách trên (mỗi tên chỉ xuất hiện một lần).\n",
    "\n",
    "(b)\t(2 điểm) Sử dụng hàm map() và reduceByKey() (Pyspark), tìm số sinh viên tương ứng với mỗi tên trong danh sách từ Câu (1a).\n"
   ]
  },
  {
   "cell_type": "code",
   "execution_count": 9,
   "metadata": {
    "application/vnd.databricks.v1+cell": {
     "cellMetadata": {},
     "inputWidgets": {},
     "nuid": "5a331ab0-858e-4595-8ff2-384d6f725bd1",
     "showTitle": false,
     "title": ""
    }
   },
   "outputs": [],
   "source": [
    "from pyspark.sql import SparkSession\n",
    "spark = SparkSession.builder.appName(\"Lab4_1\").getOrCreate()\n",
    "sc = spark.sparkContext\n",
    "\n",
    "list_class = ['Tuan', 'Hoang', 'Minh', 'Nga', 'Tam', 'Tuan', 'Minh', 'Tam', 'Tuan', 'Phuong']\n",
    "rdd_class = sc.parallelize(list_class)                                                  "
   ]
  },
  {
   "cell_type": "code",
   "execution_count": 10,
   "metadata": {},
   "outputs": [
    {
     "name": "stdout",
     "output_type": "stream",
     "text": [
      "['Nga', 'Tuan', 'Tam', 'Minh', 'Hoang', 'Phuong']\n"
     ]
    }
   ],
   "source": [
    "# print(rdd_class)\n",
    "# câu a\n",
    "# Sử dụng hàm distinct() để lấy các tên duy nhất từ RDD\n",
    "unique_names = rdd_class.distinct()\n",
    "\n",
    "# Thu thập kết quả về một danh sách Python và in ra\n",
    "unique_names_list = unique_names.collect()\n",
    "print(unique_names_list)"
   ]
  },
  {
   "cell_type": "code",
   "execution_count": 11,
   "metadata": {},
   "outputs": [
    {
     "name": "stdout",
     "output_type": "stream",
     "text": [
      "[('Nga', 1), ('Tuan', 3), ('Tam', 2), ('Minh', 2), ('Hoang', 1), ('Phuong', 1)]\n"
     ]
    }
   ],
   "source": [
    "# câu b\n",
    "# Đầu tiên, sử dụng hàm map() để tạo cặp (tên, 1) cho mỗi tên trong RDD\n",
    "name_count_pairs = rdd_class.map(lambda name: (name, 1))\n",
    "\n",
    "# Tiếp theo, sử dụng hàm reduceByKey() để tính tổng số lần xuất hiện của mỗi tên\n",
    "name_counts = name_count_pairs.reduceByKey(lambda a, b: a + b)\n",
    "\n",
    "# Thu thập kết quả về một danh sách Python và in ra\n",
    "name_counts_list = name_counts.collect()\n",
    "print(name_counts_list)"
   ]
  },
  {
   "cell_type": "markdown",
   "metadata": {
    "application/vnd.databricks.v1+cell": {
     "cellMetadata": {},
     "inputWidgets": {},
     "nuid": "16fed68a-487f-42b7-9586-406d849d4f19",
     "showTitle": false,
     "title": ""
    }
   },
   "source": [
    "## Câu 2 (7 điểm)\n",
    "\n",
    "Trong câu này, bạn sẽ upload file data shakespeare.txt từ thư mục LMS và đếm từ trong file này."
   ]
  },
  {
   "cell_type": "markdown",
   "metadata": {
    "application/vnd.databricks.v1+cell": {
     "cellMetadata": {},
     "inputWidgets": {},
     "nuid": "6b65f919-9be3-46cf-ae2f-3ba207e8ea04",
     "showTitle": false,
     "title": ""
    }
   },
   "source": [
    "### (2a) (1 điểm) \n",
    "\n",
    "Upload file lên LMS và gán vào RDD có tên là **rdd_shp**"
   ]
  },
  {
   "cell_type": "code",
   "execution_count": 12,
   "metadata": {
    "application/vnd.databricks.v1+cell": {
     "cellMetadata": {},
     "inputWidgets": {},
     "nuid": "2c353908-6495-45af-b428-2a573e07f3c0",
     "showTitle": false,
     "title": ""
    }
   },
   "outputs": [
    {
     "name": "stdout",
     "output_type": "stream",
     "text": [
      "File exist\n"
     ]
    }
   ],
   "source": [
    "import os.path\n",
    "\n",
    "# Ví dụ\n",
    "fileName = \"./LMS/shakespeare.txt\"\n",
    "\n",
    "if os.path.exists(fileName) == False:\n",
    "  print(\"File does not exist\")\n",
    "else:\n",
    "  print(\"File exist\")"
   ]
  },
  {
   "cell_type": "code",
   "execution_count": 13,
   "metadata": {
    "application/vnd.databricks.v1+cell": {
     "cellMetadata": {},
     "inputWidgets": {},
     "nuid": "d7655f05-ffa6-4910-b9d6-04aeaa9a7703",
     "showTitle": false,
     "title": ""
    }
   },
   "outputs": [],
   "source": [
    "from pyspark import SparkContext\n",
    "spark = SparkSession.builder.appName(\"Lab4_2\").getOrCreate()\n",
    "sc = spark.sparkContext\n",
    "\n",
    "rdd_shp = sc.textFile(fileName)\n",
    "\n",
    "assert rdd_shp.take(3)==['The Complete Works of William Shakespeare', '', 'by William Shakespeare'], \"Assertion Error\""
   ]
  },
  {
   "cell_type": "markdown",
   "metadata": {
    "application/vnd.databricks.v1+cell": {
     "cellMetadata": {},
     "inputWidgets": {},
     "nuid": "81ebf1a8-88be-4bd6-b8ea-d8cd746a8666",
     "showTitle": false,
     "title": ""
    }
   },
   "source": [
    "### (2b) (1 điểm)\n",
    "\n",
    "Viết hàm **removePunctuation** để chuyển một đoạn văn bản thành chữ thường (lower case) và xoá tất cả các dấu chấm câu. Áp dụng hàm này cho **rdd_shp** để nhận được RDD **rdd_shp_2**"
   ]
  },
  {
   "cell_type": "code",
   "execution_count": 14,
   "metadata": {
    "application/vnd.databricks.v1+cell": {
     "cellMetadata": {},
     "inputWidgets": {},
     "nuid": "16a1be57-ab46-4656-bd9a-853311e11dfa",
     "showTitle": false,
     "title": ""
    }
   },
   "outputs": [],
   "source": [
    "import re\n",
    "from pyspark import SparkContext\n",
    "\n",
    "def removePunctuation(text):\n",
    "    # Sử dụng biểu thức chính quy để loại bỏ dấu chấm câu và chuyển thành chữ thường\n",
    "    cleaned_text = re.sub(r'[^\\w\\s]', '', text).lower()\n",
    "    return cleaned_text\n",
    "\n",
    "# Tạo SparkContext\n",
    "sc = spark.sparkContext"
   ]
  },
  {
   "cell_type": "code",
   "execution_count": 15,
   "metadata": {
    "application/vnd.databricks.v1+cell": {
     "cellMetadata": {},
     "inputWidgets": {},
     "nuid": "9cb53d0b-c7b8-457a-a01a-93ff346222ae",
     "showTitle": false,
     "title": ""
    }
   },
   "outputs": [
    {
     "name": "stdout",
     "output_type": "stream",
     "text": [
      "the complete works of william shakespeare\n",
      "\n",
      "by william shakespeare\n",
      "\n",
      "\n",
      "\n",
      "\n",
      "                    contents\n",
      "\n",
      "    the sonnets\n",
      "    alls well that ends well\n",
      "    the tragedy of antony and cleopatra\n",
      "    as you like it\n",
      "    the comedy of errors\n",
      "    the tragedy of coriolanus\n"
     ]
    }
   ],
   "source": [
    "# Áp dụng hàm removePunctuation cho RDD rdd_shp để nhận được rdd_shp_2\n",
    "rdd_shp_2 = rdd_shp.map(removePunctuation)\n",
    "\n",
    "# Hiển thị một số dòng đầu tiên trong RDD rdd_shp_2 để kiểm tra\n",
    "for line in rdd_shp_2.take(15):\n",
    "    print(line)\n"
   ]
  },
  {
   "cell_type": "markdown",
   "metadata": {
    "application/vnd.databricks.v1+cell": {
     "cellMetadata": {},
     "inputWidgets": {},
     "nuid": "2d1f599a-d049-40d3-9a87-aada100d2e4d",
     "showTitle": false,
     "title": ""
    }
   },
   "source": [
    "### (2c) 2 điểm\n",
    "\n",
    "Tạo RDD **rdd_words** gồm các words từ **rdd_shp_2** bằng cách split **rdd_shp_2** sử dụng dấu cách (space). In ra 5 từ đầu tiên của **rdd_words** và số lượng từ trong **rdd_words**."
   ]
  },
  {
   "cell_type": "code",
   "execution_count": 16,
   "metadata": {
    "application/vnd.databricks.v1+cell": {
     "cellMetadata": {},
     "inputWidgets": {},
     "nuid": "15465700-4bcf-410a-ab83-25be1028229c",
     "showTitle": false,
     "title": ""
    }
   },
   "outputs": [
    {
     "name": "stdout",
     "output_type": "stream",
     "text": [
      "5 từ đầu tiên trong rdd_words: ['the', 'complete', 'works', 'of', 'william']\n",
      "Số lượng từ trong rdd_words: 1222431\n"
     ]
    }
   ],
   "source": [
    "# Tách các từ từ RDD rdd_shp_2 bằng dấu cách và tạo RDD rdd_words\n",
    "rdd_words = rdd_shp_2.flatMap(lambda line: line.split(\" \"))\n",
    "\n",
    "# In ra 5 từ đầu tiên của rdd_words\n",
    "first_5_words = rdd_words.take(5)\n",
    "print(\"5 từ đầu tiên trong rdd_words:\", first_5_words)\n",
    "\n",
    "# Đếm số lượng từ trong rdd_words\n",
    "word_count = rdd_words.count()\n",
    "print(\"Số lượng từ trong rdd_words:\", word_count)\n"
   ]
  },
  {
   "cell_type": "markdown",
   "metadata": {
    "application/vnd.databricks.v1+cell": {
     "cellMetadata": {},
     "inputWidgets": {},
     "nuid": "9976afff-992c-481a-a242-03378acaeb3d",
     "showTitle": false,
     "title": ""
    }
   },
   "source": [
    "### (2d) 1 điểm\n",
    "\n",
    "Tạo RDD **rdd_words_2** từ **rdd_words** bằng cách xoá tất cả các empty word (''). In ra số lượng từ trong **rdd_words_2**."
   ]
  },
  {
   "cell_type": "code",
   "execution_count": 17,
   "metadata": {},
   "outputs": [
    {
     "name": "stdout",
     "output_type": "stream",
     "text": [
      "Số lượng từ trong rdd_words_2: 958702\n"
     ]
    }
   ],
   "source": [
    "# Loại bỏ tất cả các empty word ('') từ RDD rdd_words và tạo RDD rdd_words_2\n",
    "rdd_words_2 = rdd_words.filter(lambda word: word != '')\n",
    "\n",
    "# In ra số lượng từ trong rdd_words_2\n",
    "word_count_2 = rdd_words_2.count()\n",
    "print(\"Số lượng từ trong rdd_words_2:\", word_count_2)\n"
   ]
  },
  {
   "cell_type": "markdown",
   "metadata": {
    "application/vnd.databricks.v1+cell": {
     "cellMetadata": {},
     "inputWidgets": {},
     "nuid": "ca7621a6-88a2-441f-814e-a6fd2b7c8abf",
     "showTitle": false,
     "title": ""
    }
   },
   "source": [
    "### (2e) 2 điểm\n",
    "\n",
    "Sử dụng code từ câu (1b), viết một function nhận một RDD với một danh sách word đầu vào và đếm số lần xuất hiện của mỗi từ. Sử dụng function này để đếm từ trong **rdd_words_2**. **Bravo! Bạn đã hoàn thành việc đếm số lần xuất hiện của tất cả các từ trong toàn bộ các tác phẩm của Shakespeare!** In ra 10 từ được sử dụng nhiều nhất trong toàn bộ các tác phẩm của Shakespeare."
   ]
  },
  {
   "cell_type": "code",
   "execution_count": 18,
   "metadata": {
    "application/vnd.databricks.v1+cell": {
     "cellMetadata": {},
     "inputWidgets": {},
     "nuid": "2e7d9711-0085-47ed-b46d-89d5277ca497",
     "showTitle": false,
     "title": ""
    }
   },
   "outputs": [],
   "source": [
    "def wordCount(wordListRDD):\n",
    "    # Sử dụng hàm map() để tạo cặp (từ, 1) cho mỗi từ trong RDD\n",
    "    word_count_pairs = wordListRDD.map(lambda word: (word, 1))\n",
    "    \n",
    "    # Sử dụng hàm reduceByKey() để tính tổng số lần xuất hiện của mỗi từ\n",
    "    word_counts = word_count_pairs.reduceByKey(lambda a, b: a + b)\n",
    "    \n",
    "    # Sử dụng hàm sortBy() để sắp xếp theo số lần xuất hiện giảm dần và lấy 10 từ đầu tiên\n",
    "    top_10_words = word_counts.sortBy(lambda x: x[1], ascending=False).take(10)\n",
    "    \n",
    "    return top_10_words"
   ]
  },
  {
   "cell_type": "code",
   "execution_count": 19,
   "metadata": {
    "application/vnd.databricks.v1+cell": {
     "cellMetadata": {},
     "inputWidgets": {},
     "nuid": "1dd19d92-709c-4068-9bd4-cd14c104cb44",
     "showTitle": false,
     "title": ""
    }
   },
   "outputs": [
    {
     "name": "stdout",
     "output_type": "stream",
     "text": [
      "10 từ được sử dụng nhiều nhất trong toàn bộ các tác phẩm của Shakespeare:\n",
      "the: 30022 lần\n",
      "and: 28328 lần\n",
      "i: 21963 lần\n",
      "to: 20684 lần\n",
      "of: 18689 lần\n",
      "a: 16131 lần\n",
      "you: 14363 lần\n",
      "my: 13182 lần\n",
      "in: 12198 lần\n",
      "that: 11762 lần\n"
     ]
    }
   ],
   "source": [
    "# Sử dụng hàm countWords để đếm từ trong rdd_words_2\n",
    "top_10_words_shakespeare = wordCount(rdd_words_2)\n",
    "\n",
    "# In ra 10 từ được sử dụng nhiều nhất\n",
    "print(\"10 từ được sử dụng nhiều nhất trong toàn bộ các tác phẩm của Shakespeare:\")\n",
    "for word, count in top_10_words_shakespeare:\n",
    "    print(f\"{word}: {count} lần\")"
   ]
  }
 ],
 "metadata": {
  "application/vnd.databricks.v1+notebook": {
   "dashboards": [],
   "language": "python",
   "notebookMetadata": {
    "pythonIndentUnit": 2
   },
   "notebookName": "Lab4_to_be_submitted",
   "widgets": {}
  },
  "kernelspec": {
   "display_name": "Python 3",
   "language": "python",
   "name": "python3"
  },
  "language_info": {
   "codemirror_mode": {
    "name": "ipython",
    "version": 3
   },
   "file_extension": ".py",
   "mimetype": "text/x-python",
   "name": "python",
   "nbconvert_exporter": "python",
   "pygments_lexer": "ipython3",
   "version": "3.10.11"
  }
 },
 "nbformat": 4,
 "nbformat_minor": 0
}
