{
 "cells": [
  {
   "cell_type": "code",
   "execution_count": 2,
   "metadata": {
    "application/vnd.databricks.v1+cell": {
     "cellMetadata": {
      "byteLimit": 2048000,
      "rowLimit": 10000
     },
     "inputWidgets": {},
     "nuid": "d24ab881-743b-4a4b-805a-89707ea1be88",
     "showTitle": false,
     "title": ""
    }
   },
   "outputs": [
    {
     "name": "stderr",
     "output_type": "stream",
     "text": [
      "C:\\Users\\GF66\\AppData\\Local\\Packages\\PythonSoftwareFoundation.Python.3.10_qbz5n2kfra8p0\\LocalCache\\local-packages\\Python310\\site-packages\\pyspark\\sql\\context.py:113: FutureWarning: Deprecated in 3.0.0. Use SparkSession.builder.getOrCreate() instead.\n",
      "  warnings.warn(\n"
     ]
    }
   ],
   "source": [
    "from pyspark.sql import SQLContext, SparkSession\n",
    "spark = SparkSession.builder.appName(\"Lab4_1\").getOrCreate()\n",
    "sc = spark.sparkContext\n",
    "sqlContext = SQLContext(sc)"
   ]
  },
  {
   "cell_type": "code",
   "execution_count": 3,
   "metadata": {
    "application/vnd.databricks.v1+cell": {
     "cellMetadata": {
      "byteLimit": 2048000,
      "rowLimit": 10000
     },
     "inputWidgets": {},
     "nuid": "09869202-782c-48a8-929e-ae80f4343bc7",
     "showTitle": false,
     "title": ""
    }
   },
   "outputs": [],
   "source": [
    "users_rdd = sc.parallelize([[1, 'Alice', 10], [2, 'Bob', 8]], 4) "
   ]
  },
  {
   "cell_type": "code",
   "execution_count": 4,
   "metadata": {
    "application/vnd.databricks.v1+cell": {
     "cellMetadata": {
      "byteLimit": 2048000,
      "rowLimit": 10000
     },
     "inputWidgets": {},
     "nuid": "e9d1c4e3-dded-4475-a949-805c20ef7b87",
     "showTitle": false,
     "title": ""
    }
   },
   "outputs": [
    {
     "data": {
      "text/plain": [
       "ParallelCollectionRDD[0] at readRDDFromFile at PythonRDD.scala:289"
      ]
     },
     "execution_count": 4,
     "metadata": {},
     "output_type": "execute_result"
    }
   ],
   "source": [
    "users_rdd"
   ]
  },
  {
   "cell_type": "code",
   "execution_count": 5,
   "metadata": {
    "application/vnd.databricks.v1+cell": {
     "cellMetadata": {
      "byteLimit": 2048000,
      "rowLimit": 10000
     },
     "inputWidgets": {},
     "nuid": "10e782d9-a7f4-4c70-bd41-b447c6ca7f67",
     "showTitle": false,
     "title": ""
    }
   },
   "outputs": [
    {
     "data": {
      "text/plain": [
       "4"
      ]
     },
     "execution_count": 5,
     "metadata": {},
     "output_type": "execute_result"
    }
   ],
   "source": [
    "users_rdd.getNumPartitions()"
   ]
  },
  {
   "cell_type": "code",
   "execution_count": 6,
   "metadata": {
    "application/vnd.databricks.v1+cell": {
     "cellMetadata": {
      "byteLimit": 2048000,
      "rowLimit": 10000
     },
     "inputWidgets": {},
     "nuid": "84a6380e-737e-4ab9-bfd5-244072b19145",
     "showTitle": false,
     "title": ""
    }
   },
   "outputs": [
    {
     "data": {
      "text/plain": [
       "[[1, 'Alice', 10], [2, 'Bob', 8]]"
      ]
     },
     "execution_count": 6,
     "metadata": {},
     "output_type": "execute_result"
    }
   ],
   "source": [
    "users_rdd.collect()"
   ]
  },
  {
   "cell_type": "code",
   "execution_count": 7,
   "metadata": {
    "application/vnd.databricks.v1+cell": {
     "cellMetadata": {
      "byteLimit": 2048000,
      "rowLimit": 10000
     },
     "inputWidgets": {},
     "nuid": "f7ae1a8c-3fc1-446a-a2a0-7686513281b5",
     "showTitle": false,
     "title": ""
    }
   },
   "outputs": [
    {
     "name": "stdout",
     "output_type": "stream",
     "text": [
      "root\n",
      " |-- id: long (nullable = true)\n",
      " |-- name: string (nullable = true)\n",
      " |-- num_posts: long (nullable = true)\n",
      "\n"
     ]
    }
   ],
   "source": [
    "users = sqlContext.createDataFrame(\n",
    "  users_rdd,\n",
    "  ['id', 'name', 'num_posts']) \n",
    "users.printSchema()"
   ]
  },
  {
   "cell_type": "code",
   "execution_count": 8,
   "metadata": {
    "application/vnd.databricks.v1+cell": {
     "cellMetadata": {
      "byteLimit": 2048000,
      "rowLimit": 10000
     },
     "inputWidgets": {},
     "nuid": "8833cd59-a7e1-4509-a5ac-f2c54182e1da",
     "showTitle": false,
     "title": ""
    }
   },
   "outputs": [
    {
     "data": {
      "text/plain": [
       "[Row(id=1, name='Alice', num_posts=10), Row(id=2, name='Bob', num_posts=8)]"
      ]
     },
     "execution_count": 8,
     "metadata": {},
     "output_type": "execute_result"
    }
   ],
   "source": [
    "users.head(5)"
   ]
  },
  {
   "cell_type": "code",
   "execution_count": null,
   "metadata": {
    "application/vnd.databricks.v1+cell": {
     "cellMetadata": {
      "byteLimit": 2048000,
      "rowLimit": 10000
     },
     "inputWidgets": {},
     "nuid": "e7cd9945-9ec4-4af5-8a14-4e14df94b18f",
     "showTitle": false,
     "title": ""
    }
   },
   "outputs": [
    {
     "data": {
      "text/plain": [
       "[Row(id=1, name='Alice', num_posts=10), Row(id=2, name='Bob', num_posts=8)]"
      ]
     },
     "execution_count": 125,
     "metadata": {},
     "output_type": "execute_result"
    }
   ],
   "source": [
    "users.take(3)"
   ]
  },
  {
   "cell_type": "code",
   "execution_count": null,
   "metadata": {
    "application/vnd.databricks.v1+cell": {
     "cellMetadata": {
      "byteLimit": 2048000,
      "rowLimit": 10000
     },
     "inputWidgets": {},
     "nuid": "e870b8f3-f875-4c01-8258-21e981b4865d",
     "showTitle": false,
     "title": ""
    }
   },
   "outputs": [
    {
     "data": {
      "text/html": [
       "<div>\n",
       "<style scoped>\n",
       "    .dataframe tbody tr th:only-of-type {\n",
       "        vertical-align: middle;\n",
       "    }\n",
       "\n",
       "    .dataframe tbody tr th {\n",
       "        vertical-align: top;\n",
       "    }\n",
       "\n",
       "    .dataframe thead th {\n",
       "        text-align: right;\n",
       "    }\n",
       "</style>\n",
       "<table border=\"1\" class=\"dataframe\">\n",
       "  <thead>\n",
       "    <tr style=\"text-align: right;\">\n",
       "      <th></th>\n",
       "      <th>id</th>\n",
       "      <th>name</th>\n",
       "      <th>num_posts</th>\n",
       "    </tr>\n",
       "  </thead>\n",
       "  <tbody>\n",
       "    <tr>\n",
       "      <th>0</th>\n",
       "      <td>1</td>\n",
       "      <td>Alice</td>\n",
       "      <td>10</td>\n",
       "    </tr>\n",
       "    <tr>\n",
       "      <th>1</th>\n",
       "      <td>2</td>\n",
       "      <td>Bob</td>\n",
       "      <td>8</td>\n",
       "    </tr>\n",
       "  </tbody>\n",
       "</table>\n",
       "</div>"
      ],
      "text/plain": [
       "   id   name  num_posts\n",
       "0   1  Alice         10\n",
       "1   2    Bob          8"
      ]
     },
     "execution_count": 126,
     "metadata": {},
     "output_type": "execute_result"
    }
   ],
   "source": [
    "users.toPandas().head()"
   ]
  },
  {
   "cell_type": "code",
   "execution_count": null,
   "metadata": {
    "application/vnd.databricks.v1+cell": {
     "cellMetadata": {
      "byteLimit": 2048000,
      "rowLimit": 10000
     },
     "inputWidgets": {},
     "nuid": "e43d84f2-02de-4d84-836d-2cf7af9c0c26",
     "showTitle": false,
     "title": ""
    }
   },
   "outputs": [
    {
     "name": "stdout",
     "output_type": "stream",
     "text": [
      "ls: cannot access '/databricks-datasets/samples': No such file or directory\r\n"
     ]
    }
   ],
   "source": [
    "!ls /databricks-datasets/samples"
   ]
  },
  {
   "cell_type": "code",
   "execution_count": null,
   "metadata": {
    "application/vnd.databricks.v1+cell": {
     "cellMetadata": {
      "byteLimit": 2048000,
      "rowLimit": 10000
     },
     "inputWidgets": {},
     "nuid": "caf2ca97-32ef-4581-867a-4f2eb0c6d74e",
     "showTitle": false,
     "title": ""
    }
   },
   "outputs": [
    {
     "name": "stderr",
     "output_type": "stream",
     "text": [
      "/databricks/spark/python/pyspark/sql/context.py:118: FutureWarning: Deprecated in 3.0.0. Use SparkSession.builder.getOrCreate() instead.\n",
      "  warnings.warn(\n"
     ]
    },
    {
     "name": "stdout",
     "output_type": "stream",
     "text": [
      "root\n",
      " |-- 2014 rank: integer (nullable = true)\n",
      " |-- City: string (nullable = true)\n",
      " |-- State: string (nullable = true)\n",
      " |-- State Code: string (nullable = true)\n",
      " |-- 2014 Population estimate: integer (nullable = true)\n",
      " |-- 2015 median sales price: double (nullable = true)\n",
      "\n"
     ]
    }
   ],
   "source": [
    "from pyspark.sql import SQLContext \n",
    "sqlContext = SQLContext(sc)\n",
    "pop = sqlContext.read.csv(\"/databricks-datasets/samples/population-vs-price/data_geo.csv\", header=\"true\", inferSchema=\"true\")\n",
    "pop.printSchema()"
   ]
  },
  {
   "cell_type": "code",
   "execution_count": null,
   "metadata": {
    "application/vnd.databricks.v1+cell": {
     "cellMetadata": {
      "byteLimit": 2048000,
      "rowLimit": 10000
     },
     "inputWidgets": {},
     "nuid": "400348d5-60dc-4479-b5ca-469b4ded4a88",
     "showTitle": false,
     "title": ""
    }
   },
   "outputs": [
    {
     "data": {
      "text/plain": [
       "294"
      ]
     },
     "execution_count": 129,
     "metadata": {},
     "output_type": "execute_result"
    }
   ],
   "source": [
    "pop.count()"
   ]
  },
  {
   "cell_type": "code",
   "execution_count": null,
   "metadata": {
    "application/vnd.databricks.v1+cell": {
     "cellMetadata": {
      "byteLimit": 2048000,
      "rowLimit": 10000
     },
     "inputWidgets": {},
     "nuid": "e971eb15-fcc8-45fc-b608-f9028117737b",
     "showTitle": false,
     "title": ""
    }
   },
   "outputs": [
    {
     "name": "stdout",
     "output_type": "stream",
     "text": [
      "BUILD\t\t\t databricks_vm_pipe  keys\r\n",
      "BUILDINFO\t\t devbricks\t     licenses\r\n",
      "DBR_VERSION\t\t driver\t\t     miniconda\r\n",
      "airbyte\t\t\t executor\t     python\r\n",
      "chauffeur\t\t glue\t\t     python-bootstrap\r\n",
      "chauffeur-jars\t\t hadoop-safety-jars  python3\r\n",
      "common\t\t\t hive\t\t     python_shell\r\n",
      "conda\t\t\t init_scripts\t     safespark\r\n",
      "conf_reader_version.bzl  jars\t\t     safespark-daemon\r\n",
      "data\t\t\t jdkpatch\t     scala-kernel-jars\r\n",
      "databricks-hive\t\t kernel-connections  spark\r\n"
     ]
    }
   ],
   "source": [
    "!ls \"/databricks\""
   ]
  },
  {
   "cell_type": "code",
   "execution_count": null,
   "metadata": {
    "application/vnd.databricks.v1+cell": {
     "cellMetadata": {
      "byteLimit": 2048000,
      "rowLimit": 10000
     },
     "inputWidgets": {},
     "nuid": "e49debce-ed1c-479f-882e-3b738971f35e",
     "showTitle": false,
     "title": ""
    }
   },
   "outputs": [
    {
     "data": {
      "text/plain": [
       "DataFrame[2014 rank: int, City: string, State: string, State Code: string, 2014 Population estimate: int, 2015 median sales price: double]"
      ]
     },
     "execution_count": 131,
     "metadata": {},
     "output_type": "execute_result"
    }
   ],
   "source": [
    "pop"
   ]
  },
  {
   "cell_type": "code",
   "execution_count": null,
   "metadata": {
    "application/vnd.databricks.v1+cell": {
     "cellMetadata": {
      "byteLimit": 2048000,
      "rowLimit": 10000
     },
     "inputWidgets": {},
     "nuid": "c8791069-520d-4fbf-bdb9-05d84733bf07",
     "showTitle": false,
     "title": ""
    }
   },
   "outputs": [
    {
     "data": {
      "text/plain": [
       "[Row(2014 rank=101, City='Birmingham', State='Alabama', State Code='AL', 2014 Population estimate=212247, 2015 median sales price=162.9),\n",
       " Row(2014 rank=125, City='Huntsville', State='Alabama', State Code='AL', 2014 Population estimate=188226, 2015 median sales price=157.7),\n",
       " Row(2014 rank=122, City='Mobile', State='Alabama', State Code='AL', 2014 Population estimate=194675, 2015 median sales price=122.5),\n",
       " Row(2014 rank=114, City='Montgomery', State='Alabama', State Code='AL', 2014 Population estimate=200481, 2015 median sales price=129.0),\n",
       " Row(2014 rank=64, City='Anchorage[19]', State='Alaska', State Code='AK', 2014 Population estimate=301010, 2015 median sales price=None),\n",
       " Row(2014 rank=78, City='Chandler', State='Arizona', State Code='AZ', 2014 Population estimate=254276, 2015 median sales price=None),\n",
       " Row(2014 rank=86, City='Gilbert[20]', State='Arizona', State Code='AZ', 2014 Population estimate=239277, 2015 median sales price=None),\n",
       " Row(2014 rank=88, City='Glendale', State='Arizona', State Code='AZ', 2014 Population estimate=237517, 2015 median sales price=None),\n",
       " Row(2014 rank=38, City='Mesa', State='Arizona', State Code='AZ', 2014 Population estimate=464704, 2015 median sales price=None),\n",
       " Row(2014 rank=148, City='Peoria', State='Arizona', State Code='AZ', 2014 Population estimate=166934, 2015 median sales price=None)]"
      ]
     },
     "execution_count": 132,
     "metadata": {},
     "output_type": "execute_result"
    }
   ],
   "source": [
    "pop.createOrReplaceTempView( 'pops')\n",
    "   # Query the table\n",
    "sqlContext.sql(\n",
    "'SELECT * FROM pops limit 10' ).collect()\n"
   ]
  },
  {
   "cell_type": "code",
   "execution_count": null,
   "metadata": {
    "application/vnd.databricks.v1+cell": {
     "cellMetadata": {
      "byteLimit": 2048000,
      "rowLimit": 10000
     },
     "inputWidgets": {},
     "nuid": "633cf29f-9ab3-4d04-8b40-8b257e364ccf",
     "showTitle": false,
     "title": ""
    }
   },
   "outputs": [
    {
     "data": {
      "text/plain": [
       "[Row(max(2014 Population estimate)=8491079)]"
      ]
     },
     "execution_count": 133,
     "metadata": {},
     "output_type": "execute_result"
    }
   ],
   "source": [
    "sqlContext.sql(\n",
    "'SELECT max(`2014 Population estimate`) FROM pops' ).collect()"
   ]
  },
  {
   "cell_type": "code",
   "execution_count": null,
   "metadata": {
    "application/vnd.databricks.v1+cell": {
     "cellMetadata": {
      "byteLimit": 2048000,
      "rowLimit": 10000
     },
     "inputWidgets": {},
     "nuid": "a963e3b8-c3da-4ffc-a789-c17ebb990661",
     "showTitle": false,
     "title": ""
    }
   },
   "outputs": [
    {
     "data": {
      "text/plain": [
       "[Row(2014 rank=294, City='Las Cruces', State='New Mexico', State Code='NM', 2014 Population estimate=101408, 2015 median sales price=None),\n",
       " Row(2014 rank=293, City='Tyler', State='Texas', State Code='TX', 2014 Population estimate=101421, 2015 median sales price=None),\n",
       " Row(2014 rank=292, City='Sandy Springs', State='Georgia', State Code='GA', 2014 Population estimate=101908, 2015 median sales price=None),\n",
       " Row(2014 rank=291, City='Clovis', State='California', State Code='CA', 2014 Population estimate=102189, 2015 median sales price=None),\n",
       " Row(2014 rank=290, City='Lakeland', State='Florida', State Code='FL', 2014 Population estimate=102346, 2015 median sales price=136.0),\n",
       " Row(2014 rank=289, City='Davenport', State='Iowa', State Code='IA', 2014 Population estimate=102448, 2015 median sales price=109.4),\n",
       " Row(2014 rank=288, City='Rialto', State='California', State Code='CA', 2014 Population estimate=102741, 2015 median sales price=None),\n",
       " Row(2014 rank=287, City='Lewisville', State='Texas', State Code='TX', 2014 Population estimate=102889, 2015 median sales price=None),\n",
       " Row(2014 rank=286, City='San Mateo', State='California', State Code='CA', 2014 Population estimate=102893, 2015 median sales price=None),\n",
       " Row(2014 rank=285, City='El Cajon', State='California', State Code='CA', 2014 Population estimate=103091, 2015 median sales price=None),\n",
       " Row(2014 rank=284, City='Santa Maria', State='California', State Code='CA', 2014 Population estimate=103410, 2015 median sales price=None),\n",
       " Row(2014 rank=283, City='Pearland', State='Texas', State Code='TX', 2014 Population estimate=103441, 2015 median sales price=None),\n",
       " Row(2014 rank=282, City='College Station', State='Texas', State Code='TX', 2014 Population estimate=103483, 2015 median sales price=None),\n",
       " Row(2014 rank=281, City='West Palm Beach', State='Florida', State Code='FL', 2014 Population estimate=104031, 2015 median sales price=None),\n",
       " Row(2014 rank=280, City='Broken Arrow', State='Oklahoma', State Code='OK', 2014 Population estimate=104726, 2015 median sales price=None),\n",
       " Row(2014 rank=279, City='Green Bay', State='Wisconsin', State Code='WI', 2014 Population estimate=104891, 2015 median sales price=None),\n",
       " Row(2014 rank=278, City='Boulder', State='Colorado', State Code='CO', 2014 Population estimate=105112, 2015 median sales price=442.2),\n",
       " Row(2014 rank=277, City='Wichita Falls', State='Texas', State Code='TX', 2014 Population estimate=105114, 2015 median sales price=None),\n",
       " Row(2014 rank=276, City='Burbank', State='California', State Code='CA', 2014 Population estimate=105368, 2015 median sales price=None),\n",
       " Row(2014 rank=275, City='Palm Bay', State='Florida', State Code='FL', 2014 Population estimate=105838, 2015 median sales price=145.0),\n",
       " Row(2014 rank=274, City='Daly City', State='California', State Code='CA', 2014 Population estimate=106094, 2015 median sales price=None),\n",
       " Row(2014 rank=273, City='Pompano Beach', State='Florida', State Code='FL', 2014 Population estimate=106105, 2015 median sales price=None),\n",
       " Row(2014 rank=272, City='Everett', State='Washington', State Code='WA', 2014 Population estimate=106736, 2015 median sales price=None),\n",
       " Row(2014 rank=271, City='North Charleston', State='South Carolina', State Code='SC', 2014 Population estimate=106749, 2015 median sales price=None),\n",
       " Row(2014 rank=270, City='Norwalk', State='California', State Code='CA', 2014 Population estimate=107096, 2015 median sales price=None),\n",
       " Row(2014 rank=269, City='Centennial', State='Colorado', State Code='CO', 2014 Population estimate=107201, 2015 median sales price=None),\n",
       " Row(2014 rank=268, City='Murrieta', State='California', State Code='CA', 2014 Population estimate=108368, 2015 median sales price=None),\n",
       " Row(2014 rank=267, City='Pueblo', State='Colorado', State Code='CO', 2014 Population estimate=108423, 2015 median sales price=None),\n",
       " Row(2014 rank=266, City='West Covina', State='California', State Code='CA', 2014 Population estimate=108455, 2015 median sales price=None),\n",
       " Row(2014 rank=265, City='Richmond', State='California', State Code='CA', 2014 Population estimate=108565, 2015 median sales price=None),\n",
       " Row(2014 rank=264, City='Richardson', State='Texas', State Code='TX', 2014 Population estimate=108617, 2015 median sales price=None),\n",
       " Row(2014 rank=263, City='High Point', State='North Carolina', State Code='NC', 2014 Population estimate=108629, 2015 median sales price=None),\n",
       " Row(2014 rank=262, City='Billings', State='Montana', State Code='MT', 2014 Population estimate=108869, 2015 median sales price=None),\n",
       " Row(2014 rank=261, City='Antioch', State='California', State Code='CA', 2014 Population estimate=108930, 2015 median sales price=None),\n",
       " Row(2014 rank=260, City='Waterbury', State='Connecticut', State Code='CT', 2014 Population estimate=109307, 2015 median sales price=None),\n",
       " Row(2014 rank=259, City='Temecula', State='California', State Code='CA', 2014 Population estimate=109428, 2015 median sales price=None),\n",
       " Row(2014 rank=258, City='Ventura[29]', State='California', State Code='CA', 2014 Population estimate=109484, 2015 median sales price=None),\n",
       " Row(2014 rank=257, City='Cambridge', State='Massachusetts', State Code='MA', 2014 Population estimate=109694, 2015 median sales price=None),\n",
       " Row(2014 rank=256, City='Gresham', State='Oregon', State Code='OR', 2014 Population estimate=109892, 2015 median sales price=None),\n",
       " Row(2014 rank=255, City='Lowell', State='Massachusetts', State Code='MA', 2014 Population estimate=109945, 2015 median sales price=None),\n",
       " Row(2014 rank=254, City='Manchester', State='New Hampshire', State Code='NH', 2014 Population estimate=110448, 2015 median sales price=237.4),\n",
       " Row(2014 rank=253, City='Clearwater', State='Florida', State Code='FL', 2014 Population estimate=110703, 2015 median sales price=None),\n",
       " Row(2014 rank=252, City='West Jordan', State='Utah', State Code='UT', 2014 Population estimate=110920, 2015 median sales price=None),\n",
       " Row(2014 rank=251, City='Elgin', State='Illinois', State Code='IL', 2014 Population estimate=111117, 2015 median sales price=None),\n",
       " Row(2014 rank=250, City='Fairfield', State='California', State Code='CA', 2014 Population estimate=111125, 2015 median sales price=None),\n",
       " Row(2014 rank=249, City='Rochester', State='Minnesota', State Code='MN', 2014 Population estimate=111402, 2015 median sales price=None),\n",
       " Row(2014 rank=248, City='Inglewood', State='California', State Code='CA', 2014 Population estimate=111905, 2015 median sales price=None),\n",
       " Row(2014 rank=247, City='Westminster', State='Colorado', State Code='CO', 2014 Population estimate=112090, 2015 median sales price=None),\n",
       " Row(2014 rank=246, City='Miami Gardens', State='Florida', State Code='FL', 2014 Population estimate=112265, 2015 median sales price=None),\n",
       " Row(2014 rank=245, City='Carlsbad', State='California', State Code='CA', 2014 Population estimate=112299, 2015 median sales price=None),\n",
       " Row(2014 rank=244, City='Round Rock', State='Texas', State Code='TX', 2014 Population estimate=112744, 2015 median sales price=None),\n",
       " Row(2014 rank=243, City='Costa Mesa', State='California', State Code='CA', 2014 Population estimate=112784, 2015 median sales price=None),\n",
       " Row(2014 rank=242, City='Arvada', State='Colorado', State Code='CO', 2014 Population estimate=113574, 2015 median sales price=None),\n",
       " Row(2014 rank=241, City='Wilmington', State='North Carolina', State Code='NC', 2014 Population estimate=113657, 2015 median sales price=197.5),\n",
       " Row(2014 rank=240, City='Downey', State='California', State Code='CA', 2014 Population estimate=114172, 2015 median sales price=None),\n",
       " Row(2014 rank=239, City='Odessa', State='Texas', State Code='TX', 2014 Population estimate=114597, 2015 median sales price=None),\n",
       " Row(2014 rank=238, City='Lansing', State='Michigan', State Code='MI', 2014 Population estimate=114620, 2015 median sales price=114.6),\n",
       " Row(2014 rank=237, City='Provo', State='Utah', State Code='UT', 2014 Population estimate=114801, 2015 median sales price=None),\n",
       " Row(2014 rank=236, City='Peoria', State='Illinois', State Code='IL', 2014 Population estimate=115828, 2015 median sales price=105.2),\n",
       " Row(2014 rank=235, City='Fargo', State='North Dakota', State Code='ND', 2014 Population estimate=115863, 2015 median sales price=180.0),\n",
       " Row(2014 rank=234, City='El Monte', State='California', State Code='CA', 2014 Population estimate=116631, 2015 median sales price=None),\n",
       " Row(2014 rank=233, City='Springfield', State='Illinois', State Code='IL', 2014 Population estimate=116809, 2015 median sales price=115.2),\n",
       " Row(2014 rank=232, City='Columbia', State='Missouri', State Code='MO', 2014 Population estimate=116906, 2015 median sales price=None),\n",
       " Row(2014 rank=231, City='Independence', State='Missouri', State Code='MO', 2014 Population estimate=117494, 2015 median sales price=None),\n",
       " Row(2014 rank=230, City='Beaumont', State='Texas', State Code='TX', 2014 Population estimate=117585, 2015 median sales price=133.3),\n",
       " Row(2014 rank=229, City='Ann Arbor', State='Michigan', State Code='MI', 2014 Population estimate=117770, 2015 median sales price=None),\n",
       " Row(2014 rank=228, City='Norman', State='Oklahoma', State Code='OK', 2014 Population estimate=118040, 2015 median sales price=None),\n",
       " Row(2014 rank=227, City='Berkeley', State='California', State Code='CA', 2014 Population estimate=118853, 2015 median sales price=None),\n",
       " Row(2014 rank=226, City='Allentown', State='Pennsylvania', State Code='PA', 2014 Population estimate=119104, 2015 median sales price=162.7),\n",
       " Row(2014 rank=225, City='Athens[28]', State='Georgia', State Code='GA', 2014 Population estimate=119648, 2015 median sales price=None),\n",
       " Row(2014 rank=224, City='Vallejo', State='California', State Code='CA', 2014 Population estimate=120228, 2015 median sales price=None),\n",
       " Row(2014 rank=223, City='Evansville', State='Indiana', State Code='IN', 2014 Population estimate=120346, 2015 median sales price=None),\n",
       " Row(2014 rank=222, City='Murfreesboro', State='Tennessee', State Code='TN', 2014 Population estimate=120954, 2015 median sales price=None),\n",
       " Row(2014 rank=221, City='Abilene', State='Texas', State Code='TX', 2014 Population estimate=120958, 2015 median sales price=145.7),\n",
       " Row(2014 rank=220, City='Victorville', State='California', State Code='CA', 2014 Population estimate=121901, 2015 median sales price=None),\n",
       " Row(2014 rank=219, City='Santa Clara', State='California', State Code='CA', 2014 Population estimate=122192, 2015 median sales price=None),\n",
       " Row(2014 rank=218, City='Hartford', State='Connecticut', State Code='CT', 2014 Population estimate=124705, 2015 median sales price=202.6),\n",
       " Row(2014 rank=217, City='Kent', State='Washington', State Code='WA', 2014 Population estimate=125560, 2015 median sales price=None),\n",
       " Row(2014 rank=216, City='Lafayette[27]', State='Louisiana', State Code='LA', 2014 Population estimate=126066, 2015 median sales price=None),\n",
       " Row(2014 rank=215, City='Surprise', State='Arizona', State Code='AZ', 2014 Population estimate=126275, 2015 median sales price=None),\n",
       " Row(2014 rank=214, City='Simi Valley', State='California', State Code='CA', 2014 Population estimate=126871, 2015 median sales price=None),\n",
       " Row(2014 rank=213, City='Topeka', State='Kansas', State Code='KS', 2014 Population estimate=127215, 2015 median sales price=105.3),\n",
       " Row(2014 rank=212, City='Concord', State='California', State Code='CA', 2014 Population estimate=127522, 2015 median sales price=None),\n",
       " Row(2014 rank=211, City='Coral Springs', State='Florida', State Code='FL', 2014 Population estimate=127952, 2015 median sales price=None),\n",
       " Row(2014 rank=210, City='Midland', State='Texas', State Code='TX', 2014 Population estimate=128037, 2015 median sales price=None),\n",
       " Row(2014 rank=209, City='Denton', State='Texas', State Code='TX', 2014 Population estimate=128205, 2015 median sales price=None),\n",
       " Row(2014 rank=208, City='Stamford', State='Connecticut', State Code='CT', 2014 Population estimate=128278, 2015 median sales price=None),\n",
       " Row(2014 rank=207, City='Carrollton', State='Texas', State Code='TX', 2014 Population estimate=128353, 2015 median sales price=None),\n",
       " Row(2014 rank=206, City='Gainesville', State='Florida', State Code='FL', 2014 Population estimate=128460, 2015 median sales price=169.9),\n",
       " Row(2014 rank=205, City='Roseville', State='California', State Code='CA', 2014 Population estimate=128615, 2015 median sales price=None),\n",
       " Row(2014 rank=204, City='Elizabeth', State='New Jersey', State Code='NJ', 2014 Population estimate=128705, 2015 median sales price=None),\n",
       " Row(2014 rank=203, City='Cedar Rapids', State='Iowa', State Code='IA', 2014 Population estimate=129195, 2015 median sales price=156.9),\n",
       " Row(2014 rank=202, City='Visalia', State='California', State Code='CA', 2014 Population estimate=129281, 2015 median sales price=None),\n",
       " Row(2014 rank=201, City='Thousand Oaks', State='California', State Code='CA', 2014 Population estimate=129342, 2015 median sales price=None),\n",
       " Row(2014 rank=200, City='Charleston', State='South Carolina', State Code='SC', 2014 Population estimate=130113, 2015 median sales price=None),\n",
       " Row(2014 rank=199, City='Waco', State='Texas', State Code='TX', 2014 Population estimate=130194, 2015 median sales price=None),\n",
       " Row(2014 rank=198, City='New Haven', State='Connecticut', State Code='CT', 2014 Population estimate=130282, 2015 median sales price=205.1),\n",
       " Row(2014 rank=197, City='Thornton', State='Colorado', State Code='CO', 2014 Population estimate=130307, 2015 median sales price=None),\n",
       " Row(2014 rank=196, City='Sterling Heights', State='Michigan', State Code='MI', 2014 Population estimate=131741, 2015 median sales price=None),\n",
       " Row(2014 rank=195, City='Columbia', State='South Carolina', State Code='SC', 2014 Population estimate=132067, 2015 median sales price=None),\n",
       " Row(2014 rank=194, City='Olathe', State='Kansas', State Code='KS', 2014 Population estimate=133062, 2015 median sales price=None),\n",
       " Row(2014 rank=193, City='West Valley City', State='Utah', State Code='UT', 2014 Population estimate=134495, 2015 median sales price=None),\n",
       " Row(2014 rank=192, City='Miramar', State='Florida', State Code='FL', 2014 Population estimate=134989, 2015 median sales price=None),\n",
       " Row(2014 rank=191, City='Warren', State='Michigan', State Code='MI', 2014 Population estimate=135099, 2015 median sales price=None),\n",
       " Row(2014 rank=190, City='Bellevue', State='Washington', State Code='WA', 2014 Population estimate=136426, 2015 median sales price=None),\n",
       " Row(2014 rank=189, City='Hampton[15]', State='Virginia', State Code='VA', 2014 Population estimate=136879, 2015 median sales price=None),\n",
       " Row(2014 rank=188, City='Killeen', State='Texas', State Code='TX', 2014 Population estimate=138154, 2015 median sales price=None),\n",
       " Row(2014 rank=187, City='McAllen', State='Texas', State Code='TX', 2014 Population estimate=138596, 2015 median sales price=None),\n",
       " Row(2014 rank=186, City='Fullerton', State='California', State Code='CA', 2014 Population estimate=139677, 2015 median sales price=None),\n",
       " Row(2014 rank=185, City='Orange', State='California', State Code='CA', 2014 Population estimate=139812, 2015 median sales price=None),\n",
       " Row(2014 rank=184, City='Pasadena', State='California', State Code='CA', 2014 Population estimate=140881, 2015 median sales price=None),\n",
       " Row(2014 rank=183, City='Dayton', State='Ohio', State Code='OH', 2014 Population estimate=141003, 2015 median sales price=107.2),\n",
       " Row(2014 rank=182, City='Syracuse', State='New York', State Code='NY', 2014 Population estimate=144263, 2015 median sales price=118.3),\n",
       " Row(2014 rank=181, City='Savannah', State='Georgia', State Code='GA', 2014 Population estimate=144352, 2015 median sales price=None),\n",
       " Row(2014 rank=180, City='Mesquite', State='Texas', State Code='TX', 2014 Population estimate=144416, 2015 median sales price=None),\n",
       " Row(2014 rank=179, City='Frisco', State='Texas', State Code='TX', 2014 Population estimate=145035, 2015 median sales price=None),\n",
       " Row(2014 rank=178, City='Naperville', State='Illinois', State Code='IL', 2014 Population estimate=146128, 2015 median sales price=None),\n",
       " Row(2014 rank=177, City='Paterson', State='New Jersey', State Code='NJ', 2014 Population estimate=146753, 2015 median sales price=None),\n",
       " Row(2014 rank=176, City='Clarksville', State='Tennessee', State Code='TN', 2014 Population estimate=146806, 2015 median sales price=None),\n",
       " Row(2014 rank=175, City='Bridgeport', State='Connecticut', State Code='CT', 2014 Population estimate=147612, 2015 median sales price=342.7),\n",
       " Row(2014 rank=174, City='Joliet', State='Illinois', State Code='IL', 2014 Population estimate=147928, 2015 median sales price=None),\n",
       " Row(2014 rank=173, City='Hollywood', State='Florida', State Code='FL', 2014 Population estimate=148047, 2015 median sales price=None),\n",
       " Row(2014 rank=172, City='Torrance', State='California', State Code='CA', 2014 Population estimate=148495, 2015 median sales price=None),\n",
       " Row(2014 rank=171, City='Rockford', State='Illinois', State Code='IL', 2014 Population estimate=149123, 2015 median sales price=78.6),\n",
       " Row(2014 rank=170, City='Kansas City[26]', State='Kansas', State Code='KS', 2014 Population estimate=149636, 2015 median sales price=None),\n",
       " Row(2014 rank=169, City='Lakewood', State='Colorado', State Code='CO', 2014 Population estimate=149643, 2015 median sales price=None),\n",
       " Row(2014 rank=168, City='Sunnyvale', State='California', State Code='CA', 2014 Population estimate=149980, 2015 median sales price=None),\n",
       " Row(2014 rank=167, City='Escondido', State='California', State Code='CA', 2014 Population estimate=150243, 2015 median sales price=None),\n",
       " Row(2014 rank=166, City='Alexandria[15]', State='Virginia', State Code='VA', 2014 Population estimate=150575, 2015 median sales price=None),\n",
       " Row(2014 rank=165, City='Pomona', State='California', State Code='CA', 2014 Population estimate=153350, 2015 median sales price=None),\n",
       " Row(2014 rank=163, City='Pasadena', State='Texas', State Code='TX', 2014 Population estimate=153887, 2015 median sales price=None),\n",
       " Row(2014 rank=162, City='Springfield', State='Massachusetts', State Code='MA', 2014 Population estimate=153991, 2015 median sales price=183.9),\n",
       " Row(2014 rank=161, City='Hayward', State='California', State Code='CA', 2014 Population estimate=154612, 2015 median sales price=None),\n",
       " Row(2014 rank=160, City='Cary[25]', State='North Carolina', State Code='NC', 2014 Population estimate=155227, 2015 median sales price=None),\n",
       " Row(2014 rank=159, City='Fort Collins', State='Colorado', State Code='CO', 2014 Population estimate=156480, 2015 median sales price=None),\n",
       " Row(2014 rank=158, City='Salinas', State='California', State Code='CA', 2014 Population estimate=156677, 2015 median sales price=None),\n",
       " Row(2014 rank=157, City='McKinney', State='Texas', State Code='TX', 2014 Population estimate=156767, 2015 median sales price=None),\n",
       " Row(2014 rank=156, City='Palmdale', State='California', State Code='CA', 2014 Population estimate=158279, 2015 median sales price=None),\n",
       " Row(2014 rank=155, City='Eugene', State='Oregon', State Code='OR', 2014 Population estimate=160561, 2015 median sales price=211.3),\n",
       " Row(2014 rank=154, City='Lancaster', State='California', State Code='CA', 2014 Population estimate=161043, 2015 median sales price=None),\n",
       " Row(2014 rank=153, City='Corona', State='California', State Code='CA', 2014 Population estimate=161486, 2015 median sales price=None),\n",
       " Row(2014 rank=152, City='Salem', State='Oregon', State Code='OR', 2014 Population estimate=161637, 2015 median sales price=193.9),\n",
       " Row(2014 rank=151, City='Elk Grove', State='California', State Code='CA', 2014 Population estimate=163553, 2015 median sales price=None),\n",
       " Row(2014 rank=150, City='Pembroke Pines', State='Florida', State Code='FL', 2014 Population estimate=164626, 2015 median sales price=None),\n",
       " Row(2014 rank=149, City='Springfield', State='Missouri', State Code='MO', 2014 Population estimate=165378, 2015 median sales price=116.5),\n",
       " Row(2014 rank=148, City='Peoria', State='Arizona', State Code='AZ', 2014 Population estimate=166934, 2015 median sales price=None),\n",
       " Row(2014 rank=147, City='Sioux Falls', State='South Dakota', State Code='SD', 2014 Population estimate=168586, 2015 median sales price=159.5),\n",
       " Row(2014 rank=146, City='Ontario', State='California', State Code='CA', 2014 Population estimate=169089, 2015 median sales price=None),\n",
       " Row(2014 rank=145, City='Vancouver', State='Washington', State Code='WA', 2014 Population estimate=169294, 2015 median sales price=None),\n",
       " Row(2014 rank=144, City='Cape Coral', State='Florida', State Code='FL', 2014 Population estimate=169854, 2015 median sales price=208.0),\n",
       " Row(2014 rank=143, City='Jackson', State='Mississippi', State Code='MS', 2014 Population estimate=171155, 2015 median sales price=154.1),\n",
       " Row(2014 rank=142, City='Tempe', State='Arizona', State Code='AZ', 2014 Population estimate=172816, 2015 median sales price=None),\n",
       " Row(2014 rank=141, City='Chattanooga', State='Tennessee', State Code='TN', 2014 Population estimate=173778, 2015 median sales price=143.6),\n",
       " Row(2014 rank=140, City='Port St. Lucie', State='Florida', State Code='FL', 2014 Population estimate=174110, 2015 median sales price=172.0),\n",
       " Row(2014 rank=139, City='Santa Rosa', State='California', State Code='CA', 2014 Population estimate=174170, 2015 median sales price=None),\n",
       " Row(2014 rank=138, City='Rancho Cucamonga', State='California', State Code='CA', 2014 Population estimate=174305, 2015 median sales price=None),\n",
       " Row(2014 rank=137, City='Oceanside', State='California', State Code='CA', 2014 Population estimate=174558, 2015 median sales price=None),\n",
       " Row(2014 rank=136, City='Garden Grove', State='California', State Code='CA', 2014 Population estimate=175078, 2015 median sales price=None),\n",
       " Row(2014 rank=135, City='Fort Lauderdale', State='Florida', State Code='FL', 2014 Population estimate=176013, 2015 median sales price=None),\n",
       " Row(2014 rank=134, City='Providence', State='Rhode Island', State Code='RI', 2014 Population estimate=179154, 2015 median sales price=233.3),\n",
       " Row(2014 rank=133, City='Santa Clarita', State='California', State Code='CA', 2014 Population estimate=181557, 2015 median sales price=None),\n",
       " Row(2014 rank=132, City='Newport News[15]', State='Virginia', State Code='VA', 2014 Population estimate=182965, 2015 median sales price=None),\n",
       " Row(2014 rank=131, City='Worcester', State='Massachusetts', State Code='MA', 2014 Population estimate=183016, 2015 median sales price=226.9),\n",
       " Row(2014 rank=130, City='Brownsville', State='Texas', State Code='TX', 2014 Population estimate=183046, 2015 median sales price=None),\n",
       " Row(2014 rank=129, City='Knoxville', State='Tennessee', State Code='TN', 2014 Population estimate=184281, 2015 median sales price=149.2),\n",
       " Row(2014 rank=128, City='Overland Park', State='Kansas', State Code='KS', 2014 Population estimate=184525, 2015 median sales price=None),\n",
       " Row(2014 rank=127, City='Grand Prairie', State='Texas', State Code='TX', 2014 Population estimate=185453, 2015 median sales price=None),\n",
       " Row(2014 rank=126, City='Tallahassee', State='Florida', State Code='FL', 2014 Population estimate=188107, 2015 median sales price=170.5),\n",
       " Row(2014 rank=125, City='Huntsville', State='Alabama', State Code='AL', 2014 Population estimate=188226, 2015 median sales price=157.7),\n",
       " Row(2014 rank=124, City='Salt Lake City', State='Utah', State Code='UT', 2014 Population estimate=190884, 2015 median sales price=243.3),\n",
       " Row(2014 rank=123, City='Grand Rapids', State='Michigan', State Code='MI', 2014 Population estimate=193792, 2015 median sales price=None),\n",
       " Row(2014 rank=122, City='Mobile', State='Alabama', State Code='AL', 2014 Population estimate=194675, 2015 median sales price=122.5),\n",
       " Row(2014 rank=121, City='Augusta[24]', State='Georgia', State Code='GA', 2014 Population estimate=196741, 2015 median sales price=None),\n",
       " Row(2014 rank=120, City='Amarillo', State='Texas', State Code='TX', 2014 Population estimate=197254, 2015 median sales price=144.4),\n",
       " Row(2014 rank=119, City='Little Rock', State='Arkansas', State Code='AR', 2014 Population estimate=197706, 2015 median sales price=131.8),\n",
       " Row(2014 rank=118, City='Akron', State='Ohio', State Code='OH', 2014 Population estimate=197859, 2015 median sales price=95.4),\n",
       " Row(2014 rank=117, City='Shreveport', State='Louisiana', State Code='LA', 2014 Population estimate=198242, 2015 median sales price=151.6),\n",
       " Row(2014 rank=116, City='Glendale', State='California', State Code='CA', 2014 Population estimate=200167, 2015 median sales price=None),\n",
       " Row(2014 rank=115, City='Aurora', State='Illinois', State Code='IL', 2014 Population estimate=200456, 2015 median sales price=None),\n",
       " Row(2014 rank=114, City='Montgomery', State='Alabama', State Code='AL', 2014 Population estimate=200481, 2015 median sales price=129.0),\n",
       " Row(2014 rank=113, City='Yonkers', State='New York', State Code='NY', 2014 Population estimate=200667, 2015 median sales price=None),\n",
       " Row(2014 rank=112, City='Huntington Beach', State='California', State Code='CA', 2014 Population estimate=200809, 2015 median sales price=None),\n",
       " Row(2014 rank=111, City='Columbus[23]', State='Georgia', State Code='GA', 2014 Population estimate=200887, 2015 median sales price=None),\n",
       " Row(2014 rank=110, City='Moreno Valley', State='California', State Code='CA', 2014 Population estimate=202976, 2015 median sales price=None),\n",
       " Row(2014 rank=109, City='Fayetteville', State='North Carolina', State Code='NC', 2014 Population estimate=203948, 2015 median sales price=145.0),\n",
       " Row(2014 rank=108, City='Fontana', State='California', State Code='CA', 2014 Population estimate=204950, 2015 median sales price=None),\n",
       " Row(2014 rank=107, City='Tacoma', State='Washington', State Code='WA', 2014 Population estimate=205159, 2015 median sales price=None),\n",
       " Row(2014 rank=106, City='Oxnard', State='California', State Code='CA', 2014 Population estimate=205437, 2015 median sales price=None),\n",
       " Row(2014 rank=105, City='Des Moines', State='Iowa', State Code='IA', 2014 Population estimate=209220, 2015 median sales price=None),\n",
       " Row(2014 rank=104, City='Modesto', State='California', State Code='CA', 2014 Population estimate=209286, 2015 median sales price=None),\n",
       " Row(2014 rank=103, City='Rochester', State='New York', State Code='NY', 2014 Population estimate=209983, 2015 median sales price=118.9),\n",
       " Row(2014 rank=102, City='Spokane', State='Washington', State Code='WA', 2014 Population estimate=212052, 2015 median sales price=180.2),\n",
       " Row(2014 rank=101, City='Birmingham', State='Alabama', State Code='AL', 2014 Population estimate=212247, 2015 median sales price=162.9),\n",
       " Row(2014 rank=100, City='San Bernardino', State='California', State Code='CA', 2014 Population estimate=215213, 2015 median sales price=None),\n",
       " Row(2014 rank=99, City='Boise[22]', State='Idaho', State Code='ID', 2014 Population estimate=216282, 2015 median sales price=178.7),\n",
       " Row(2014 rank=98, City='Richmond[15]', State='Virginia', State Code='VA', 2014 Population estimate=217853, 2015 median sales price=212.5),\n",
       " Row(2014 rank=97, City='Fremont', State='California', State Code='CA', 2014 Population estimate=228758, 2015 median sales price=None),\n",
       " Row(2014 rank=96, City='Baton Rouge[21]', State='Louisiana', State Code='LA', 2014 Population estimate=228895, 2015 median sales price=177.2),\n",
       " Row(2014 rank=95, City='Scottsdale', State='Arizona', State Code='AZ', 2014 Population estimate=230512, 2015 median sales price=None),\n",
       " Row(2014 rank=94, City='North Las Vegas', State='Nevada', State Code='NV', 2014 Population estimate=230788, 2015 median sales price=None),\n",
       " Row(2014 rank=93, City='Irving', State='Texas', State Code='TX', 2014 Population estimate=232406, 2015 median sales price=None),\n",
       " Row(2014 rank=92, City='Chesapeake[15]', State='Virginia', State Code='VA', 2014 Population estimate=233371, 2015 median sales price=None),\n",
       " Row(2014 rank=91, City='Garland', State='Texas', State Code='TX', 2014 Population estimate=235501, 2015 median sales price=None),\n",
       " Row(2014 rank=90, City='Hialeah', State='Florida', State Code='FL', 2014 Population estimate=235563, 2015 median sales price=None),\n",
       " Row(2014 rank=89, City='Reno', State='Nevada', State Code='NV', 2014 Population estimate=236995, 2015 median sales price=268.7),\n",
       " Row(2014 rank=88, City='Glendale', State='Arizona', State Code='AZ', 2014 Population estimate=237517, 2015 median sales price=None),\n",
       " Row(2014 rank=87, City='Winston�Salem', State='North Carolina', State Code='NC', 2014 Population estimate=239269, 2015 median sales price=138.6),\n",
       " Row(2014 rank=86, City='Gilbert[20]', State='Arizona', State Code='AZ', 2014 Population estimate=239277, 2015 median sales price=None),\n",
       " Row(2014 rank=85, City='Lubbock', State='Texas', State Code='TX', 2014 Population estimate=243839, 2015 median sales price=None),\n",
       " Row(2014 rank=84, City='Norfolk[15]', State='Virginia', State Code='VA', 2014 Population estimate=245428, 2015 median sales price=None),\n",
       " Row(2014 rank=83, City='Madison', State='Wisconsin', State Code='WI', 2014 Population estimate=245691, 2015 median sales price=226.2),\n",
       " Row(2014 rank=82, City='Irvine', State='California', State Code='CA', 2014 Population estimate=248531, 2015 median sales price=None),\n",
       " Row(2014 rank=81, City='Durham', State='North Carolina', State Code='NC', 2014 Population estimate=251893, 2015 median sales price=196.9),\n",
       " Row(2014 rank=80, City='Laredo', State='Texas', State Code='TX', 2014 Population estimate=252309, 2015 median sales price=None),\n",
       " Row(2014 rank=79, City='St. Petersburg', State='Florida', State Code='FL', 2014 Population estimate=253693, 2015 median sales price=None),\n",
       " Row(2014 rank=78, City='Chandler', State='Arizona', State Code='AZ', 2014 Population estimate=254276, 2015 median sales price=None),\n",
       " Row(2014 rank=77, City='Fort Wayne', State='Indiana', State Code='IN', 2014 Population estimate=258522, 2015 median sales price=106.3),\n",
       " Row(2014 rank=76, City='Buffalo', State='New York', State Code='NY', 2014 Population estimate=258703, 2015 median sales price=117.3),\n",
       " Row(2014 rank=75, City='Chula Vista', State='California', State Code='CA', 2014 Population estimate=260988, 2015 median sales price=None),\n",
       " Row(2014 rank=74, City='Jersey City', State='New Jersey', State Code='NJ', 2014 Population estimate=262146, 2015 median sales price=None),\n",
       " Row(2014 rank=73, City='Orlando', State='Florida', State Code='FL', 2014 Population estimate=262372, 2015 median sales price=None),\n",
       " Row(2014 rank=72, City='Lincoln', State='Nebraska', State Code='NE', 2014 Population estimate=272996, 2015 median sales price=150.2),\n",
       " Row(2014 rank=71, City='Henderson', State='Nevada', State Code='NV', 2014 Population estimate=277440, 2015 median sales price=None),\n",
       " Row(2014 rank=70, City='Plano', State='Texas', State Code='TX', 2014 Population estimate=278480, 2015 median sales price=None),\n",
       " Row(2014 rank=69, City='Newark', State='New Jersey', State Code='NJ', 2014 Population estimate=280579, 2015 median sales price=350.8),\n",
       " Row(2014 rank=68, City='Toledo', State='Ohio', State Code='OH', 2014 Population estimate=281031, 2015 median sales price=83.8),\n",
       " Row(2014 rank=67, City='Greensboro', State='North Carolina', State Code='NC', 2014 Population estimate=282586, 2015 median sales price=138.3),\n",
       " Row(2014 rank=66, City='Saint Paul', State='Minnesota', State Code='MN', 2014 Population estimate=297640, 2015 median sales price=None),\n",
       " Row(2014 rank=65, City='Cincinnati', State='Ohio', State Code='OH', 2014 Population estimate=298165, 2015 median sales price=135.0),\n",
       " Row(2014 rank=64, City='Anchorage[19]', State='Alaska', State Code='AK', 2014 Population estimate=301010, 2015 median sales price=None),\n",
       " Row(2014 rank=63, City='Stockton', State='California', State Code='CA', 2014 Population estimate=302389, 2015 median sales price=None),\n",
       " Row(2014 rank=62, City='Pittsburgh', State='Pennsylvania', State Code='PA', 2014 Population estimate=305412, 2015 median sales price=None),\n",
       " Row(2014 rank=61, City='Lexington[18]', State='Kentucky', State Code='KY', 2014 Population estimate=310797, 2015 median sales price=141.2),\n",
       " Row(2014 rank=60, City='St. Louis[15]', State='Missouri', State Code='MO', 2014 Population estimate=317419, 2015 median sales price=None),\n",
       " Row(2014 rank=59, City='Riverside', State='California', State Code='CA', 2014 Population estimate=319504, 2015 median sales price=281.0),\n",
       " Row(2014 rank=58, City='Corpus Christi', State='Texas', State Code='TX', 2014 Population estimate=320434, 2015 median sales price=172.9),\n",
       " Row(2014 rank=57, City='Santa Ana', State='California', State Code='CA', 2014 Population estimate=334909, 2015 median sales price=None),\n",
       " Row(2014 rank=56, City='Anaheim', State='California', State Code='CA', 2014 Population estimate=346997, 2015 median sales price=685.7),\n",
       " Row(2014 rank=55, City='Honolulu[2]', State=\"Hawai'i\", State Code='HI', 2014 Population estimate=350399, 2015 median sales price=699.3),\n",
       " Row(2014 rank=54, City='Aurora', State='Colorado', State Code='CO', 2014 Population estimate=353108, 2015 median sales price=None),\n",
       " Row(2014 rank=53, City='Tampa', State='Florida', State Code='FL', 2014 Population estimate=358699, 2015 median sales price=156.0),\n",
       " Row(2014 rank=52, City='Bakersfield', State='California', State Code='CA', 2014 Population estimate=368759, 2015 median sales price=None),\n",
       " Row(2014 rank=51, City='Arlington', State='Texas', State Code='TX', 2014 Population estimate=383204, 2015 median sales price=None),\n",
       " Row(2014 rank=50, City='New Orleans[17]', State='Louisiana', State Code='LA', 2014 Population estimate=384320, 2015 median sales price=None),\n",
       " Row(2014 rank=49, City='Wichita', State='Kansas', State Code='KS', 2014 Population estimate=388413, 2015 median sales price=126.0),\n",
       " Row(2014 rank=48, City='Cleveland', State='Ohio', State Code='OH', 2014 Population estimate=389521, 2015 median sales price=105.9),\n",
       " Row(2014 rank=47, City='Tulsa', State='Oklahoma', State Code='OK', 2014 Population estimate=399682, 2015 median sales price=145.1),\n",
       " Row(2014 rank=46, City='Minneapolis', State='Minnesota', State Code='MN', 2014 Population estimate=407207, 2015 median sales price=209.4),\n",
       " Row(2014 rank=45, City='Oakland', State='California', State Code='CA', 2014 Population estimate=413775, 2015 median sales price=None),\n",
       " Row(2014 rank=44, City='Miami', State='Florida', State Code='FL', 2014 Population estimate=430332, 2015 median sales price=269.1),\n",
       " Row(2014 rank=43, City='Raleigh', State='North Carolina', State Code='NC', 2014 Population estimate=439896, 2015 median sales price=218.9),\n",
       " Row(2014 rank=42, City='Colorado Springs', State='Colorado', State Code='CO', 2014 Population estimate=445830, 2015 median sales price=220.1),\n",
       " Row(2014 rank=41, City='Omaha', State='Nebraska', State Code='NE', 2014 Population estimate=446599, 2015 median sales price=148.1),\n",
       " Row(2014 rank=40, City='Virginia Beach[15]', State='Virginia', State Code='VA', 2014 Population estimate=450980, 2015 median sales price=190.0),\n",
       " Row(2014 rank=39, City='Atlanta', State='Georgia', State Code='GA', 2014 Population estimate=456002, 2015 median sales price=158.0),\n",
       " Row(2014 rank=38, City='Mesa', State='Arizona', State Code='AZ', 2014 Population estimate=464704, 2015 median sales price=None),\n",
       " Row(2014 rank=37, City='Kansas City', State='Missouri', State Code='MO', 2014 Population estimate=470800, 2015 median sales price=153.0),\n",
       " Row(2014 rank=36, City='Long Beach', State='California', State Code='CA', 2014 Population estimate=473577, 2015 median sales price=None),\n",
       " Row(2014 rank=35, City='Sacramento', State='California', State Code='CA', 2014 Population estimate=485199, 2015 median sales price=275.8),\n",
       " Row(2014 rank=34, City='Fresno', State='California', State Code='CA', 2014 Population estimate=515986, 2015 median sales price=None),\n",
       " Row(2014 rank=33, City='Tucson', State='Arizona', State Code='AZ', 2014 Population estimate=527972, 2015 median sales price=178.1),\n",
       " Row(2014 rank=32, City='Albuquerque', State='New Mexico', State Code='NM', 2014 Population estimate=557169, 2015 median sales price=172.2),\n",
       " Row(2014 rank=31, City='Milwaukee', State='Wisconsin', State Code='WI', 2014 Population estimate=599642, 2015 median sales price=195.4),\n",
       " Row(2014 rank=30, City='Louisville[16]', State='Kentucky', State Code='KY', 2014 Population estimate=612780, 2015 median sales price=141.1),\n",
       " Row(2014 rank=29, City='Las Vegas', State='Nevada', State Code='NV', 2014 Population estimate=613599, 2015 median sales price=205.9),\n",
       " Row(2014 rank=28, City='Portland', State='Oregon', State Code='OR', 2014 Population estimate=619360, 2015 median sales price=289.4),\n",
       " Row(2014 rank=27, City='Oklahoma City', State='Oklahoma', State Code='OK', 2014 Population estimate=620602, 2015 median sales price=None),\n",
       " Row(2014 rank=26, City='Baltimore[15]', State='Maryland', State Code='MD', 2014 Population estimate=622793, 2015 median sales price=223.1),\n",
       " Row(2014 rank=25, City='Nashville[14]', State='Tennessee', State Code='TN', 2014 Population estimate=644014, 2015 median sales price=186.4),\n",
       " Row(2014 rank=24, City='Boston', State='Massachusetts', State Code='MA', 2014 Population estimate=655884, 2015 median sales price=374.6),\n",
       " Row(2014 rank=23, City='Memphis', State='Tennessee', State Code='TN', 2014 Population estimate=656861, 2015 median sales price=132.1),\n",
       " Row(2014 rank=22, City='Washington[13]', State='District of Columbia', State Code='DC', 2014 Population estimate=658893, 2015 median sales price=367.8),\n",
       " Row(2014 rank=21, City='Denver[12]', State='Colorado', State Code='CO', 2014 Population estimate=663862, 2015 median sales price=338.1),\n",
       " Row(2014 rank=20, City='Seattle', State='Washington', State Code='WA', 2014 Population estimate=668342, 2015 median sales price=352.4),\n",
       " Row(2014 rank=19, City='El Paso', State='Texas', State Code='TX', 2014 Population estimate=679036, 2015 median sales price=138.4),\n",
       " Row(2014 rank=18, City='Detroit', State='Michigan', State Code='MI', 2014 Population estimate=680250, 2015 median sales price=None),\n",
       " Row(2014 rank=17, City='Charlotte', State='North Carolina', State Code='NC', 2014 Population estimate=809958, 2015 median sales price=197.2),\n",
       " Row(2014 rank=16, City='Fort Worth', State='Texas', State Code='TX', 2014 Population estimate=812238, 2015 median sales price=None),\n",
       " Row(2014 rank=15, City='Columbus', State='Ohio', State Code='OH', 2014 Population estimate=835957, 2015 median sales price=149.9),\n",
       " Row(2014 rank=14, City='Indianapolis[11]', State='Indiana', State Code='IN', 2014 Population estimate=848788, 2015 median sales price=139.2),\n",
       " Row(2014 rank=13, City='San Francisco[10]', State='California', State Code='CA', 2014 Population estimate=852469, 2015 median sales price=748.3),\n",
       " Row(2014 rank=12, City='Jacksonville[9]', State='Florida', State Code='FL', 2014 Population estimate=853382, 2015 median sales price=182.5),\n",
       " Row(2014 rank=11, City='Austin', State='Texas', State Code='TX', 2014 Population estimate=912791, 2015 median sales price=249.1),\n",
       " Row(2014 rank=10, City='San Jose', State='California', State Code='CA', 2014 Population estimate=1015785, 2015 median sales price=900.0),\n",
       " Row(2014 rank=9, City='Dallas', State='Texas', State Code='TX', 2014 Population estimate=1281047, 2015 median sales price=192.5),\n",
       " Row(2014 rank=8, City='San Diego', State='California', State Code='CA', 2014 Population estimate=1381069, 2015 median sales price=510.3),\n",
       " Row(2014 rank=7, City='San Antonio', State='Texas', State Code='TX', 2014 Population estimate=1436697, 2015 median sales price=184.7),\n",
       " Row(2014 rank=6, City='Phoenix', State='Arizona', State Code='AZ', 2014 Population estimate=1537058, 2015 median sales price=206.1),\n",
       " Row(2014 rank=5, City='Philadelphia[8]', State='Pennsylvania', State Code='PA', 2014 Population estimate=1560297, 2015 median sales price=204.9),\n",
       " Row(2014 rank=4, City='Houston[7]', State='Texas', State Code='TX', 2014 Population estimate=2239558, 2015 median sales price=200.3),\n",
       " Row(2014 rank=3, City='Chicago', State='Illinois', State Code='IL', 2014 Population estimate=2722389, 2015 median sales price=192.5),\n",
       " Row(2014 rank=2, City='Los Angeles', State='California', State Code='CA', 2014 Population estimate=3928864, 2015 median sales price=434.7),\n",
       " Row(2014 rank=1, City='New York[6]', State='New York', State Code='NY', 2014 Population estimate=8491079, 2015 median sales price=388.6)]"
      ]
     },
     "execution_count": 134,
     "metadata": {},
     "output_type": "execute_result"
    }
   ],
   "source": [
    "sqlContext.sql(\n",
    "'SELECT * FROM pops WHERE `2014 Population estimate` is not null \\\n",
    "ORDER BY `2014 Population estimate` ASC ' ).collect()"
   ]
  },
  {
   "cell_type": "code",
   "execution_count": null,
   "metadata": {
    "application/vnd.databricks.v1+cell": {
     "cellMetadata": {
      "byteLimit": 2048000,
      "rowLimit": 10000
     },
     "inputWidgets": {},
     "nuid": "41dc87ac-a82b-4044-a742-a748aa4d4802",
     "showTitle": false,
     "title": ""
    }
   },
   "outputs": [
    {
     "data": {
      "text/plain": [
       "[Row(2014 rank=1, City='New York[6]', State='New York', State Code='NY', 2014 Population estimate=8491079, 2015 median sales price=388.6)]"
      ]
     },
     "execution_count": 135,
     "metadata": {},
     "output_type": "execute_result"
    }
   ],
   "source": [
    "sqlContext.sql(\n",
    "'SELECT * from pops where `2014 Population estimate`=8491079').collect()"
   ]
  },
  {
   "cell_type": "code",
   "execution_count": null,
   "metadata": {
    "application/vnd.databricks.v1+cell": {
     "cellMetadata": {
      "byteLimit": 2048000,
      "rowLimit": 10000
     },
     "inputWidgets": {},
     "nuid": "d4b16031-3220-4aa9-bbe3-49bd56728cf2",
     "showTitle": false,
     "title": ""
    }
   },
   "outputs": [
    {
     "data": {
      "text/plain": [
       "[Row(2014 rank=3, City='Chicago', State='Illinois', State Code='IL', 2014 Population estimate=2722389, 2015 median sales price=192.5),\n",
       " Row(2014 rank=115, City='Aurora', State='Illinois', State Code='IL', 2014 Population estimate=200456, 2015 median sales price=None),\n",
       " Row(2014 rank=171, City='Rockford', State='Illinois', State Code='IL', 2014 Population estimate=149123, 2015 median sales price=78.6),\n",
       " Row(2014 rank=174, City='Joliet', State='Illinois', State Code='IL', 2014 Population estimate=147928, 2015 median sales price=None),\n",
       " Row(2014 rank=178, City='Naperville', State='Illinois', State Code='IL', 2014 Population estimate=146128, 2015 median sales price=None),\n",
       " Row(2014 rank=233, City='Springfield', State='Illinois', State Code='IL', 2014 Population estimate=116809, 2015 median sales price=115.2),\n",
       " Row(2014 rank=236, City='Peoria', State='Illinois', State Code='IL', 2014 Population estimate=115828, 2015 median sales price=105.2),\n",
       " Row(2014 rank=251, City='Elgin', State='Illinois', State Code='IL', 2014 Population estimate=111117, 2015 median sales price=None)]"
      ]
     },
     "execution_count": 136,
     "metadata": {},
     "output_type": "execute_result"
    }
   ],
   "source": [
    "sqlContext.sql(\n",
    "'SELECT * from pops where State=\"Illinois\" ORDER BY `2014 Population estimate` DESC').collect()"
   ]
  },
  {
   "cell_type": "code",
   "execution_count": null,
   "metadata": {
    "application/vnd.databricks.v1+cell": {
     "cellMetadata": {
      "byteLimit": 2048000,
      "rowLimit": 10000
     },
     "inputWidgets": {},
     "nuid": "bc26e129-2b7f-4f83-8854-89eab9dc57ef",
     "showTitle": false,
     "title": ""
    }
   },
   "outputs": [
    {
     "data": {
      "text/plain": [
       "[Row(count(City)=5)]"
      ]
     },
     "execution_count": 137,
     "metadata": {},
     "output_type": "execute_result"
    }
   ],
   "source": [
    "sqlContext.sql(\n",
    "'SELECT count(`City`) from pops where State=\"New York\"').collect()"
   ]
  },
  {
   "cell_type": "code",
   "execution_count": null,
   "metadata": {
    "application/vnd.databricks.v1+cell": {
     "cellMetadata": {
      "byteLimit": 2048000,
      "rowLimit": 10000
     },
     "inputWidgets": {},
     "nuid": "7d891f34-303c-4b72-84a2-219414e7624d",
     "showTitle": false,
     "title": ""
    }
   },
   "outputs": [
    {
     "data": {
      "text/plain": [
       "[Row(count(City)=5)]"
      ]
     },
     "execution_count": 138,
     "metadata": {},
     "output_type": "execute_result"
    }
   ],
   "source": [
    "sqlContext.sql(\n",
    "'SELECT count(`City`) from pops where `State Code`=\"NY\"').collect()"
   ]
  },
  {
   "cell_type": "code",
   "execution_count": null,
   "metadata": {
    "application/vnd.databricks.v1+cell": {
     "cellMetadata": {
      "byteLimit": 2048000,
      "rowLimit": 10000
     },
     "inputWidgets": {},
     "nuid": "fdf67d28-c861-43f5-a48a-3bdfb94f628f",
     "showTitle": false,
     "title": ""
    }
   },
   "outputs": [
    {
     "data": {
      "text/plain": [
       "[Row(State='Utah'),\n",
       " Row(State=\"Hawai'i\"),\n",
       " Row(State='Minnesota'),\n",
       " Row(State='Ohio'),\n",
       " Row(State='Arkansas'),\n",
       " Row(State='Oregon'),\n",
       " Row(State='Texas'),\n",
       " Row(State='North Dakota'),\n",
       " Row(State='Pennsylvania'),\n",
       " Row(State='Connecticut'),\n",
       " Row(State='Nebraska'),\n",
       " Row(State='Nevada'),\n",
       " Row(State='Washington'),\n",
       " Row(State='Illinois'),\n",
       " Row(State='Oklahoma'),\n",
       " Row(State='District of Columbia'),\n",
       " Row(State='Alaska'),\n",
       " Row(State='New Mexico'),\n",
       " Row(State='Missouri'),\n",
       " Row(State='Rhode Island'),\n",
       " Row(State='Georgia'),\n",
       " Row(State='Montana'),\n",
       " Row(State='Michigan'),\n",
       " Row(State='Virginia'),\n",
       " Row(State='North Carolina'),\n",
       " Row(State='Kansas'),\n",
       " Row(State='New Jersey'),\n",
       " Row(State='Maryland'),\n",
       " Row(State='Alabama'),\n",
       " Row(State='Arizona'),\n",
       " Row(State='Iowa'),\n",
       " Row(State='Massachusetts'),\n",
       " Row(State='Kentucky'),\n",
       " Row(State='Louisiana'),\n",
       " Row(State='Mississippi'),\n",
       " Row(State='New Hampshire'),\n",
       " Row(State='Tennessee'),\n",
       " Row(State='Florida'),\n",
       " Row(State='Indiana'),\n",
       " Row(State='Idaho'),\n",
       " Row(State='South Carolina'),\n",
       " Row(State='South Dakota'),\n",
       " Row(State='California'),\n",
       " Row(State='New York'),\n",
       " Row(State='Wisconsin'),\n",
       " Row(State='Colorado')]"
      ]
     },
     "execution_count": 139,
     "metadata": {},
     "output_type": "execute_result"
    }
   ],
   "source": [
    "sqlContext.sql(\n",
    "'SELECT distinct State from pops').collect()"
   ]
  },
  {
   "cell_type": "code",
   "execution_count": null,
   "metadata": {
    "application/vnd.databricks.v1+cell": {
     "cellMetadata": {
      "byteLimit": 2048000,
      "rowLimit": 10000
     },
     "inputWidgets": {},
     "nuid": "a665bd2c-4c70-4eea-9a92-d74324b7744b",
     "showTitle": false,
     "title": ""
    }
   },
   "outputs": [
    {
     "data": {
      "text/plain": [
       "[Row(2014 rank=3, City='Chicago', State='Illinois', State Code='IL', 2014 Population estimate=2722389, 2015 median sales price=192.5),\n",
       " Row(2014 rank=115, City='Aurora', State='Illinois', State Code='IL', 2014 Population estimate=200456, 2015 median sales price=None),\n",
       " Row(2014 rank=171, City='Rockford', State='Illinois', State Code='IL', 2014 Population estimate=149123, 2015 median sales price=78.6),\n",
       " Row(2014 rank=174, City='Joliet', State='Illinois', State Code='IL', 2014 Population estimate=147928, 2015 median sales price=None),\n",
       " Row(2014 rank=178, City='Naperville', State='Illinois', State Code='IL', 2014 Population estimate=146128, 2015 median sales price=None),\n",
       " Row(2014 rank=233, City='Springfield', State='Illinois', State Code='IL', 2014 Population estimate=116809, 2015 median sales price=115.2),\n",
       " Row(2014 rank=236, City='Peoria', State='Illinois', State Code='IL', 2014 Population estimate=115828, 2015 median sales price=105.2),\n",
       " Row(2014 rank=251, City='Elgin', State='Illinois', State Code='IL', 2014 Population estimate=111117, 2015 median sales price=None)]"
      ]
     },
     "execution_count": 140,
     "metadata": {},
     "output_type": "execute_result"
    }
   ],
   "source": [
    "sqlContext.sql(\n",
    "\"SELECT * from pops where State='Illinois' order by `2014 Population estimate` desc\").collect()"
   ]
  },
  {
   "cell_type": "code",
   "execution_count": null,
   "metadata": {
    "application/vnd.databricks.v1+cell": {
     "cellMetadata": {
      "byteLimit": 2048000,
      "rowLimit": 10000
     },
     "inputWidgets": {},
     "nuid": "d02557f7-1b25-43d5-b890-31300ce656ad",
     "showTitle": false,
     "title": ""
    }
   },
   "outputs": [
    {
     "data": {
      "text/plain": [
       "[Row(2014 rank=76, City='Buffalo', State='New York', State Code='NY', 2014 Population estimate=258703, 2015 median sales price=117.3),\n",
       " Row(2014 rank=1, City='New York[6]', State='New York', State Code='NY', 2014 Population estimate=8491079, 2015 median sales price=388.6),\n",
       " Row(2014 rank=103, City='Rochester', State='New York', State Code='NY', 2014 Population estimate=209983, 2015 median sales price=118.9),\n",
       " Row(2014 rank=182, City='Syracuse', State='New York', State Code='NY', 2014 Population estimate=144263, 2015 median sales price=118.3),\n",
       " Row(2014 rank=113, City='Yonkers', State='New York', State Code='NY', 2014 Population estimate=200667, 2015 median sales price=None)]"
      ]
     },
     "execution_count": 141,
     "metadata": {},
     "output_type": "execute_result"
    }
   ],
   "source": [
    "pop.filter(pop.State=='New York').collect() # "
   ]
  },
  {
   "cell_type": "code",
   "execution_count": null,
   "metadata": {
    "application/vnd.databricks.v1+cell": {
     "cellMetadata": {
      "byteLimit": 2048000,
      "rowLimit": 10000
     },
     "inputWidgets": {},
     "nuid": "1df8cc9d-48b3-439d-9a56-234ebc276da0",
     "showTitle": false,
     "title": ""
    }
   },
   "outputs": [],
   "source": [
    "pop = pop.withColumnRenamed(\"2014 Population estimate\", \"Pop_estimate_2014\")"
   ]
  },
  {
   "cell_type": "code",
   "execution_count": null,
   "metadata": {
    "application/vnd.databricks.v1+cell": {
     "cellMetadata": {
      "byteLimit": 2048000,
      "rowLimit": 10000
     },
     "inputWidgets": {},
     "nuid": "b8ad9333-16c8-45ea-b5c3-108667246c35",
     "showTitle": false,
     "title": ""
    }
   },
   "outputs": [
    {
     "data": {
      "text/plain": [
       "Row(2014 rank=101, City='Birmingham', State='Alabama', State Code='AL', Pop_estimate_2014=212247, 2015 median sales price=162.9)"
      ]
     },
     "execution_count": 143,
     "metadata": {},
     "output_type": "execute_result"
    }
   ],
   "source": [
    "pop.head()"
   ]
  },
  {
   "cell_type": "code",
   "execution_count": null,
   "metadata": {
    "application/vnd.databricks.v1+cell": {
     "cellMetadata": {
      "byteLimit": 2048000,
      "rowLimit": 10000
     },
     "inputWidgets": {},
     "nuid": "b21ec6b3-f789-4187-9ba6-26be62ea5528",
     "showTitle": false,
     "title": ""
    }
   },
   "outputs": [
    {
     "data": {
      "text/plain": [
       "[Row(2014 rank=2, City='Los Angeles', State='California', State Code='CA', Pop_estimate_2014=3928864, 2015 median sales price=434.7),\n",
       " Row(2014 rank=1, City='New York[6]', State='New York', State Code='NY', Pop_estimate_2014=8491079, 2015 median sales price=388.6)]"
      ]
     },
     "execution_count": 144,
     "metadata": {},
     "output_type": "execute_result"
    }
   ],
   "source": [
    "pop.filter(pop.Pop_estimate_2014 >= int(3e6)).collect()\n",
    "#.select('City', 'State')"
   ]
  },
  {
   "cell_type": "code",
   "execution_count": null,
   "metadata": {
    "application/vnd.databricks.v1+cell": {
     "cellMetadata": {
      "byteLimit": 2048000,
      "rowLimit": 10000
     },
     "inputWidgets": {},
     "nuid": "8425ea7b-8669-4eef-950c-727189c7b871",
     "showTitle": false,
     "title": ""
    }
   },
   "outputs": [
    {
     "data": {
      "text/plain": [
       "[Row(2014 rank=2, City='Los Angeles', State='California', State Code='CA', Pop_estimate_2014=3928864, 2015 median sales price=434.7),\n",
       " Row(2014 rank=1, City='New York[6]', State='New York', State Code='NY', Pop_estimate_2014=8491079, 2015 median sales price=388.6)]"
      ]
     },
     "execution_count": 146,
     "metadata": {},
     "output_type": "execute_result"
    }
   ],
   "source": [
    "pop.filter(pop[\"Pop_estimate_2014\"] >= int(3e6)).collect()\n",
    "#.select('City', 'State')"
   ]
  },
  {
   "cell_type": "code",
   "execution_count": null,
   "metadata": {
    "application/vnd.databricks.v1+cell": {
     "cellMetadata": {
      "byteLimit": 2048000,
      "rowLimit": 10000
     },
     "inputWidgets": {},
     "nuid": "75ad33bd-8d6f-4a6d-a62b-2eaded271381",
     "showTitle": false,
     "title": ""
    }
   },
   "outputs": [
    {
     "name": "stdout",
     "output_type": "stream",
     "text": [
      "+--------------------+\n",
      "|               State|\n",
      "+--------------------+\n",
      "|                Utah|\n",
      "|             Hawai'i|\n",
      "|           Minnesota|\n",
      "|                Ohio|\n",
      "|            Arkansas|\n",
      "|              Oregon|\n",
      "|               Texas|\n",
      "|        North Dakota|\n",
      "|        Pennsylvania|\n",
      "|         Connecticut|\n",
      "|            Nebraska|\n",
      "|              Nevada|\n",
      "|          Washington|\n",
      "|            Illinois|\n",
      "|            Oklahoma|\n",
      "|District of Columbia|\n",
      "|              Alaska|\n",
      "|          New Mexico|\n",
      "|            Missouri|\n",
      "|        Rhode Island|\n",
      "|             Georgia|\n",
      "|             Montana|\n",
      "|            Michigan|\n",
      "|            Virginia|\n",
      "|      North Carolina|\n",
      "|              Kansas|\n",
      "|          New Jersey|\n",
      "|            Maryland|\n",
      "|             Alabama|\n",
      "|             Arizona|\n",
      "|                Iowa|\n",
      "|       Massachusetts|\n",
      "|            Kentucky|\n",
      "|           Louisiana|\n",
      "|         Mississippi|\n",
      "|       New Hampshire|\n",
      "|           Tennessee|\n",
      "|             Florida|\n",
      "|             Indiana|\n",
      "|               Idaho|\n",
      "|      South Carolina|\n",
      "|        South Dakota|\n",
      "|          California|\n",
      "|            New York|\n",
      "|           Wisconsin|\n",
      "|            Colorado|\n",
      "+--------------------+\n",
      "\n"
     ]
    }
   ],
   "source": [
    "pop.select(\"State\").distinct().show(46)"
   ]
  },
  {
   "cell_type": "code",
   "execution_count": null,
   "metadata": {
    "application/vnd.databricks.v1+cell": {
     "cellMetadata": {
      "byteLimit": 2048000,
      "rowLimit": 10000
     },
     "inputWidgets": {},
     "nuid": "cda910b8-b008-47e7-9e19-73d78e14f855",
     "showTitle": false,
     "title": ""
    }
   },
   "outputs": [
    {
     "data": {
      "text/html": [
       "<div>\n",
       "<style scoped>\n",
       "    .dataframe tbody tr th:only-of-type {\n",
       "        vertical-align: middle;\n",
       "    }\n",
       "\n",
       "    .dataframe tbody tr th {\n",
       "        vertical-align: top;\n",
       "    }\n",
       "\n",
       "    .dataframe thead th {\n",
       "        text-align: right;\n",
       "    }\n",
       "</style>\n",
       "<table border=\"1\" class=\"dataframe\">\n",
       "  <thead>\n",
       "    <tr style=\"text-align: right;\">\n",
       "      <th></th>\n",
       "      <th>State</th>\n",
       "      <th>avg(2015 median sales price)</th>\n",
       "      <th>sum(Pop_estimate_2014)</th>\n",
       "      <th>count(City)</th>\n",
       "    </tr>\n",
       "  </thead>\n",
       "  <tbody>\n",
       "    <tr>\n",
       "      <th>0</th>\n",
       "      <td>Utah</td>\n",
       "      <td>243.300000</td>\n",
       "      <td>551100</td>\n",
       "      <td>4</td>\n",
       "    </tr>\n",
       "    <tr>\n",
       "      <th>1</th>\n",
       "      <td>Hawai'i</td>\n",
       "      <td>699.300000</td>\n",
       "      <td>350399</td>\n",
       "      <td>1</td>\n",
       "    </tr>\n",
       "    <tr>\n",
       "      <th>2</th>\n",
       "      <td>Minnesota</td>\n",
       "      <td>209.400000</td>\n",
       "      <td>816249</td>\n",
       "      <td>3</td>\n",
       "    </tr>\n",
       "    <tr>\n",
       "      <th>3</th>\n",
       "      <td>Ohio</td>\n",
       "      <td>112.866667</td>\n",
       "      <td>2143536</td>\n",
       "      <td>6</td>\n",
       "    </tr>\n",
       "    <tr>\n",
       "      <th>4</th>\n",
       "      <td>Arkansas</td>\n",
       "      <td>131.800000</td>\n",
       "      <td>197706</td>\n",
       "      <td>1</td>\n",
       "    </tr>\n",
       "    <tr>\n",
       "      <th>5</th>\n",
       "      <td>Oregon</td>\n",
       "      <td>231.533333</td>\n",
       "      <td>1051450</td>\n",
       "      <td>4</td>\n",
       "    </tr>\n",
       "    <tr>\n",
       "      <th>6</th>\n",
       "      <td>Texas</td>\n",
       "      <td>173.477778</td>\n",
       "      <td>12355786</td>\n",
       "      <td>36</td>\n",
       "    </tr>\n",
       "    <tr>\n",
       "      <th>7</th>\n",
       "      <td>North Dakota</td>\n",
       "      <td>180.000000</td>\n",
       "      <td>115863</td>\n",
       "      <td>1</td>\n",
       "    </tr>\n",
       "    <tr>\n",
       "      <th>8</th>\n",
       "      <td>Pennsylvania</td>\n",
       "      <td>183.800000</td>\n",
       "      <td>1984813</td>\n",
       "      <td>3</td>\n",
       "    </tr>\n",
       "    <tr>\n",
       "      <th>9</th>\n",
       "      <td>Connecticut</td>\n",
       "      <td>250.133333</td>\n",
       "      <td>640184</td>\n",
       "      <td>5</td>\n",
       "    </tr>\n",
       "    <tr>\n",
       "      <th>10</th>\n",
       "      <td>Nebraska</td>\n",
       "      <td>149.150000</td>\n",
       "      <td>719595</td>\n",
       "      <td>2</td>\n",
       "    </tr>\n",
       "    <tr>\n",
       "      <th>11</th>\n",
       "      <td>Nevada</td>\n",
       "      <td>237.300000</td>\n",
       "      <td>1358822</td>\n",
       "      <td>4</td>\n",
       "    </tr>\n",
       "    <tr>\n",
       "      <th>12</th>\n",
       "      <td>Washington</td>\n",
       "      <td>266.300000</td>\n",
       "      <td>1623569</td>\n",
       "      <td>7</td>\n",
       "    </tr>\n",
       "    <tr>\n",
       "      <th>13</th>\n",
       "      <td>Illinois</td>\n",
       "      <td>122.875000</td>\n",
       "      <td>3709778</td>\n",
       "      <td>8</td>\n",
       "    </tr>\n",
       "    <tr>\n",
       "      <th>14</th>\n",
       "      <td>Oklahoma</td>\n",
       "      <td>145.100000</td>\n",
       "      <td>1243050</td>\n",
       "      <td>4</td>\n",
       "    </tr>\n",
       "    <tr>\n",
       "      <th>15</th>\n",
       "      <td>District of Columbia</td>\n",
       "      <td>367.800000</td>\n",
       "      <td>658893</td>\n",
       "      <td>1</td>\n",
       "    </tr>\n",
       "    <tr>\n",
       "      <th>16</th>\n",
       "      <td>Alaska</td>\n",
       "      <td>NaN</td>\n",
       "      <td>301010</td>\n",
       "      <td>1</td>\n",
       "    </tr>\n",
       "    <tr>\n",
       "      <th>17</th>\n",
       "      <td>New Mexico</td>\n",
       "      <td>172.200000</td>\n",
       "      <td>658577</td>\n",
       "      <td>2</td>\n",
       "    </tr>\n",
       "    <tr>\n",
       "      <th>18</th>\n",
       "      <td>Missouri</td>\n",
       "      <td>134.750000</td>\n",
       "      <td>1187997</td>\n",
       "      <td>5</td>\n",
       "    </tr>\n",
       "    <tr>\n",
       "      <th>19</th>\n",
       "      <td>Rhode Island</td>\n",
       "      <td>233.300000</td>\n",
       "      <td>179154</td>\n",
       "      <td>1</td>\n",
       "    </tr>\n",
       "    <tr>\n",
       "      <th>20</th>\n",
       "      <td>Georgia</td>\n",
       "      <td>158.000000</td>\n",
       "      <td>1219538</td>\n",
       "      <td>7</td>\n",
       "    </tr>\n",
       "    <tr>\n",
       "      <th>21</th>\n",
       "      <td>Montana</td>\n",
       "      <td>NaN</td>\n",
       "      <td>108869</td>\n",
       "      <td>1</td>\n",
       "    </tr>\n",
       "    <tr>\n",
       "      <th>22</th>\n",
       "      <td>Michigan</td>\n",
       "      <td>114.600000</td>\n",
       "      <td>1373272</td>\n",
       "      <td>6</td>\n",
       "    </tr>\n",
       "    <tr>\n",
       "      <th>23</th>\n",
       "      <td>Virginia</td>\n",
       "      <td>201.250000</td>\n",
       "      <td>1618051</td>\n",
       "      <td>7</td>\n",
       "    </tr>\n",
       "    <tr>\n",
       "      <th>24</th>\n",
       "      <td>North Carolina</td>\n",
       "      <td>176.057143</td>\n",
       "      <td>2605063</td>\n",
       "      <td>9</td>\n",
       "    </tr>\n",
       "    <tr>\n",
       "      <th>25</th>\n",
       "      <td>Kansas</td>\n",
       "      <td>115.650000</td>\n",
       "      <td>982851</td>\n",
       "      <td>5</td>\n",
       "    </tr>\n",
       "    <tr>\n",
       "      <th>26</th>\n",
       "      <td>New Jersey</td>\n",
       "      <td>350.800000</td>\n",
       "      <td>818183</td>\n",
       "      <td>4</td>\n",
       "    </tr>\n",
       "    <tr>\n",
       "      <th>27</th>\n",
       "      <td>Maryland</td>\n",
       "      <td>223.100000</td>\n",
       "      <td>622793</td>\n",
       "      <td>1</td>\n",
       "    </tr>\n",
       "    <tr>\n",
       "      <th>28</th>\n",
       "      <td>Alabama</td>\n",
       "      <td>143.025000</td>\n",
       "      <td>795629</td>\n",
       "      <td>4</td>\n",
       "    </tr>\n",
       "    <tr>\n",
       "      <th>29</th>\n",
       "      <td>Arizona</td>\n",
       "      <td>192.100000</td>\n",
       "      <td>3957341</td>\n",
       "      <td>10</td>\n",
       "    </tr>\n",
       "    <tr>\n",
       "      <th>30</th>\n",
       "      <td>Iowa</td>\n",
       "      <td>133.150000</td>\n",
       "      <td>440863</td>\n",
       "      <td>3</td>\n",
       "    </tr>\n",
       "    <tr>\n",
       "      <th>31</th>\n",
       "      <td>Massachusetts</td>\n",
       "      <td>261.800000</td>\n",
       "      <td>1212530</td>\n",
       "      <td>5</td>\n",
       "    </tr>\n",
       "    <tr>\n",
       "      <th>32</th>\n",
       "      <td>Kentucky</td>\n",
       "      <td>141.150000</td>\n",
       "      <td>923577</td>\n",
       "      <td>2</td>\n",
       "    </tr>\n",
       "    <tr>\n",
       "      <th>33</th>\n",
       "      <td>Louisiana</td>\n",
       "      <td>164.400000</td>\n",
       "      <td>937523</td>\n",
       "      <td>4</td>\n",
       "    </tr>\n",
       "    <tr>\n",
       "      <th>34</th>\n",
       "      <td>Mississippi</td>\n",
       "      <td>154.100000</td>\n",
       "      <td>171155</td>\n",
       "      <td>1</td>\n",
       "    </tr>\n",
       "    <tr>\n",
       "      <th>35</th>\n",
       "      <td>New Hampshire</td>\n",
       "      <td>237.400000</td>\n",
       "      <td>110448</td>\n",
       "      <td>1</td>\n",
       "    </tr>\n",
       "    <tr>\n",
       "      <th>36</th>\n",
       "      <td>Tennessee</td>\n",
       "      <td>152.825000</td>\n",
       "      <td>1926694</td>\n",
       "      <td>6</td>\n",
       "    </tr>\n",
       "    <tr>\n",
       "      <th>37</th>\n",
       "      <td>Florida</td>\n",
       "      <td>178.777778</td>\n",
       "      <td>4447487</td>\n",
       "      <td>21</td>\n",
       "    </tr>\n",
       "    <tr>\n",
       "      <th>38</th>\n",
       "      <td>Indiana</td>\n",
       "      <td>122.750000</td>\n",
       "      <td>1227656</td>\n",
       "      <td>3</td>\n",
       "    </tr>\n",
       "    <tr>\n",
       "      <th>39</th>\n",
       "      <td>Idaho</td>\n",
       "      <td>178.700000</td>\n",
       "      <td>216282</td>\n",
       "      <td>1</td>\n",
       "    </tr>\n",
       "    <tr>\n",
       "      <th>40</th>\n",
       "      <td>South Carolina</td>\n",
       "      <td>NaN</td>\n",
       "      <td>368929</td>\n",
       "      <td>3</td>\n",
       "    </tr>\n",
       "    <tr>\n",
       "      <th>41</th>\n",
       "      <td>South Dakota</td>\n",
       "      <td>159.500000</td>\n",
       "      <td>168586</td>\n",
       "      <td>1</td>\n",
       "    </tr>\n",
       "    <tr>\n",
       "      <th>42</th>\n",
       "      <td>California</td>\n",
       "      <td>547.971429</td>\n",
       "      <td>19233075</td>\n",
       "      <td>71</td>\n",
       "    </tr>\n",
       "    <tr>\n",
       "      <th>43</th>\n",
       "      <td>New York</td>\n",
       "      <td>185.775000</td>\n",
       "      <td>9304695</td>\n",
       "      <td>5</td>\n",
       "    </tr>\n",
       "    <tr>\n",
       "      <th>44</th>\n",
       "      <td>Wisconsin</td>\n",
       "      <td>210.800000</td>\n",
       "      <td>950224</td>\n",
       "      <td>3</td>\n",
       "    </tr>\n",
       "    <tr>\n",
       "      <th>45</th>\n",
       "      <td>Colorado</td>\n",
       "      <td>333.466667</td>\n",
       "      <td>2445630</td>\n",
       "      <td>11</td>\n",
       "    </tr>\n",
       "  </tbody>\n",
       "</table>\n",
       "</div>"
      ],
      "text/plain": [
       "                   State  ...  count(City)\n",
       "0                   Utah  ...            4\n",
       "1                Hawai'i  ...            1\n",
       "2              Minnesota  ...            3\n",
       "3                   Ohio  ...            6\n",
       "4               Arkansas  ...            1\n",
       "5                 Oregon  ...            4\n",
       "6                  Texas  ...           36\n",
       "7           North Dakota  ...            1\n",
       "8           Pennsylvania  ...            3\n",
       "9            Connecticut  ...            5\n",
       "10              Nebraska  ...            2\n",
       "11                Nevada  ...            4\n",
       "12            Washington  ...            7\n",
       "13              Illinois  ...            8\n",
       "14              Oklahoma  ...            4\n",
       "15  District of Columbia  ...            1\n",
       "16                Alaska  ...            1\n",
       "17            New Mexico  ...            2\n",
       "18              Missouri  ...            5\n",
       "19          Rhode Island  ...            1\n",
       "20               Georgia  ...            7\n",
       "21               Montana  ...            1\n",
       "22              Michigan  ...            6\n",
       "23              Virginia  ...            7\n",
       "24        North Carolina  ...            9\n",
       "25                Kansas  ...            5\n",
       "26            New Jersey  ...            4\n",
       "27              Maryland  ...            1\n",
       "28               Alabama  ...            4\n",
       "29               Arizona  ...           10\n",
       "30                  Iowa  ...            3\n",
       "31         Massachusetts  ...            5\n",
       "32              Kentucky  ...            2\n",
       "33             Louisiana  ...            4\n",
       "34           Mississippi  ...            1\n",
       "35         New Hampshire  ...            1\n",
       "36             Tennessee  ...            6\n",
       "37               Florida  ...           21\n",
       "38               Indiana  ...            3\n",
       "39                 Idaho  ...            1\n",
       "40        South Carolina  ...            3\n",
       "41          South Dakota  ...            1\n",
       "42            California  ...           71\n",
       "43              New York  ...            5\n",
       "44             Wisconsin  ...            3\n",
       "45              Colorado  ...           11\n",
       "\n",
       "[46 rows x 4 columns]"
      ]
     },
     "execution_count": 159,
     "metadata": {},
     "output_type": "execute_result"
    }
   ],
   "source": [
    "pop.groupby(\"State\").agg({\"City\": \"count\", \"Pop_estimate_2014\": \"sum\", \"2015 median sales price\": \"mean\"}).toPandas().head(50)"
   ]
  },
  {
   "cell_type": "code",
   "execution_count": null,
   "metadata": {
    "application/vnd.databricks.v1+cell": {
     "cellMetadata": {
      "byteLimit": 2048000,
      "rowLimit": 10000
     },
     "inputWidgets": {},
     "nuid": "34670e2a-250a-40b0-98da-11c173ec33f2",
     "showTitle": false,
     "title": ""
    }
   },
   "outputs": [
    {
     "data": {
      "text/plain": [
       "[Row(State=\"Hawai'i\", avg(2015 median sales price)=699.3),\n",
       " Row(State='California', avg(2015 median sales price)=547.9714285714286),\n",
       " Row(State='District of Columbia', avg(2015 median sales price)=367.8),\n",
       " Row(State='New Jersey', avg(2015 median sales price)=350.8),\n",
       " Row(State='Colorado', avg(2015 median sales price)=333.46666666666664),\n",
       " Row(State='Washington', avg(2015 median sales price)=266.29999999999995),\n",
       " Row(State='Massachusetts', avg(2015 median sales price)=261.8),\n",
       " Row(State='Connecticut', avg(2015 median sales price)=250.13333333333333),\n",
       " Row(State='Utah', avg(2015 median sales price)=243.3),\n",
       " Row(State='New Hampshire', avg(2015 median sales price)=237.4),\n",
       " Row(State='Nevada', avg(2015 median sales price)=237.3),\n",
       " Row(State='Rhode Island', avg(2015 median sales price)=233.3),\n",
       " Row(State='Oregon', avg(2015 median sales price)=231.53333333333333),\n",
       " Row(State='Maryland', avg(2015 median sales price)=223.1),\n",
       " Row(State='Wisconsin', avg(2015 median sales price)=210.8),\n",
       " Row(State='Minnesota', avg(2015 median sales price)=209.4),\n",
       " Row(State='Virginia', avg(2015 median sales price)=201.25),\n",
       " Row(State='Arizona', avg(2015 median sales price)=192.1),\n",
       " Row(State='New York', avg(2015 median sales price)=185.775),\n",
       " Row(State='Pennsylvania', avg(2015 median sales price)=183.8),\n",
       " Row(State='North Dakota', avg(2015 median sales price)=180.0),\n",
       " Row(State='Florida', avg(2015 median sales price)=178.77777777777777),\n",
       " Row(State='Idaho', avg(2015 median sales price)=178.7),\n",
       " Row(State='North Carolina', avg(2015 median sales price)=176.05714285714288),\n",
       " Row(State='Texas', avg(2015 median sales price)=173.4777777777778),\n",
       " Row(State='New Mexico', avg(2015 median sales price)=172.2),\n",
       " Row(State='Louisiana', avg(2015 median sales price)=164.39999999999998),\n",
       " Row(State='South Dakota', avg(2015 median sales price)=159.5),\n",
       " Row(State='Georgia', avg(2015 median sales price)=158.0),\n",
       " Row(State='Mississippi', avg(2015 median sales price)=154.1),\n",
       " Row(State='Tennessee', avg(2015 median sales price)=152.825),\n",
       " Row(State='Nebraska', avg(2015 median sales price)=149.14999999999998),\n",
       " Row(State='Oklahoma', avg(2015 median sales price)=145.1),\n",
       " Row(State='Alabama', avg(2015 median sales price)=143.025),\n",
       " Row(State='Kentucky', avg(2015 median sales price)=141.14999999999998),\n",
       " Row(State='Missouri', avg(2015 median sales price)=134.75),\n",
       " Row(State='Iowa', avg(2015 median sales price)=133.15),\n",
       " Row(State='Arkansas', avg(2015 median sales price)=131.8),\n",
       " Row(State='Illinois', avg(2015 median sales price)=122.87499999999999),\n",
       " Row(State='Indiana', avg(2015 median sales price)=122.75),\n",
       " Row(State='Kansas', avg(2015 median sales price)=115.65),\n",
       " Row(State='Michigan', avg(2015 median sales price)=114.6),\n",
       " Row(State='Ohio', avg(2015 median sales price)=112.86666666666667),\n",
       " Row(State='Alaska', avg(2015 median sales price)=None),\n",
       " Row(State='Montana', avg(2015 median sales price)=None),\n",
       " Row(State='South Carolina', avg(2015 median sales price)=None)]"
      ]
     },
     "execution_count": 160,
     "metadata": {},
     "output_type": "execute_result"
    }
   ],
   "source": [
    "pop.groupby(\"State\").agg({\"2015 median sales price\": \"mean\"}).orderBy(\"avg(2015 median sales price)\", ascending=False).collect()"
   ]
  },
  {
   "cell_type": "code",
   "execution_count": null,
   "metadata": {
    "application/vnd.databricks.v1+cell": {
     "cellMetadata": {
      "byteLimit": 2048000,
      "rowLimit": 10000
     },
     "inputWidgets": {},
     "nuid": "2f4be745-7312-40e2-88a3-48fa11b1c23d",
     "showTitle": false,
     "title": ""
    }
   },
   "outputs": [
    {
     "data": {
      "text/plain": [
       "[Row(2014 rank=76, City='Buffalo', State='New York', State Code='NY', Pop_estimate_2014=258703, 2015 median sales price=117.3),\n",
       " Row(2014 rank=1, City='New York[6]', State='New York', State Code='NY', Pop_estimate_2014=8491079, 2015 median sales price=388.6),\n",
       " Row(2014 rank=103, City='Rochester', State='New York', State Code='NY', Pop_estimate_2014=209983, 2015 median sales price=118.9),\n",
       " Row(2014 rank=182, City='Syracuse', State='New York', State Code='NY', Pop_estimate_2014=144263, 2015 median sales price=118.3),\n",
       " Row(2014 rank=113, City='Yonkers', State='New York', State Code='NY', Pop_estimate_2014=200667, 2015 median sales price=None)]"
      ]
     },
     "execution_count": 161,
     "metadata": {},
     "output_type": "execute_result"
    }
   ],
   "source": [
    "pop.filter(pop[\"State\"]==\"New York\").collect()"
   ]
  },
  {
   "cell_type": "code",
   "execution_count": null,
   "metadata": {
    "application/vnd.databricks.v1+cell": {
     "cellMetadata": {
      "byteLimit": 2048000,
      "rowLimit": 10000
     },
     "inputWidgets": {},
     "nuid": "5731a52f-fe27-480f-8ce5-baa180716609",
     "showTitle": false,
     "title": ""
    }
   },
   "outputs": [
    {
     "data": {
      "text/plain": [
       "[Row(2014 rank=1, City='New York[6]', State='New York', State Code='NY', Pop_estimate_2014=8491079, 2015 median sales price=388.6),\n",
       " Row(2014 rank=103, City='Rochester', State='New York', State Code='NY', Pop_estimate_2014=209983, 2015 median sales price=118.9),\n",
       " Row(2014 rank=182, City='Syracuse', State='New York', State Code='NY', Pop_estimate_2014=144263, 2015 median sales price=118.3),\n",
       " Row(2014 rank=76, City='Buffalo', State='New York', State Code='NY', Pop_estimate_2014=258703, 2015 median sales price=117.3),\n",
       " Row(2014 rank=113, City='Yonkers', State='New York', State Code='NY', Pop_estimate_2014=200667, 2015 median sales price=None)]"
      ]
     },
     "execution_count": 162,
     "metadata": {},
     "output_type": "execute_result"
    }
   ],
   "source": [
    "pop.filter(pop[\"State\"]==\"New York\").orderBy(\"2015 median sales price\", ascending=False).collect()"
   ]
  },
  {
   "cell_type": "code",
   "execution_count": null,
   "metadata": {
    "application/vnd.databricks.v1+cell": {
     "cellMetadata": {
      "byteLimit": 2048000,
      "rowLimit": 10000
     },
     "inputWidgets": {},
     "nuid": "2f02171b-164d-4b50-b4ed-a1e9c70f8aa1",
     "showTitle": false,
     "title": ""
    }
   },
   "outputs": [
    {
     "data": {
      "text/plain": [
       "[Row(State=\"Hawai'i\", avg_price=699.3),\n",
       " Row(State='California', avg_price=547.9714285714286),\n",
       " Row(State='District of Columbia', avg_price=367.8),\n",
       " Row(State='New Jersey', avg_price=350.8),\n",
       " Row(State='Colorado', avg_price=333.46666666666664),\n",
       " Row(State='Washington', avg_price=266.29999999999995),\n",
       " Row(State='Massachusetts', avg_price=261.8),\n",
       " Row(State='Connecticut', avg_price=250.13333333333333),\n",
       " Row(State='Utah', avg_price=243.3),\n",
       " Row(State='New Hampshire', avg_price=237.4),\n",
       " Row(State='Nevada', avg_price=237.3),\n",
       " Row(State='Rhode Island', avg_price=233.3),\n",
       " Row(State='Oregon', avg_price=231.53333333333333),\n",
       " Row(State='Maryland', avg_price=223.1),\n",
       " Row(State='Wisconsin', avg_price=210.8),\n",
       " Row(State='Minnesota', avg_price=209.4),\n",
       " Row(State='Virginia', avg_price=201.25),\n",
       " Row(State='Arizona', avg_price=192.1),\n",
       " Row(State='New York', avg_price=185.775),\n",
       " Row(State='Pennsylvania', avg_price=183.8),\n",
       " Row(State='North Dakota', avg_price=180.0),\n",
       " Row(State='Florida', avg_price=178.77777777777777),\n",
       " Row(State='Idaho', avg_price=178.7),\n",
       " Row(State='North Carolina', avg_price=176.05714285714288),\n",
       " Row(State='Texas', avg_price=173.4777777777778),\n",
       " Row(State='New Mexico', avg_price=172.2),\n",
       " Row(State='Louisiana', avg_price=164.39999999999998),\n",
       " Row(State='South Dakota', avg_price=159.5),\n",
       " Row(State='Georgia', avg_price=158.0),\n",
       " Row(State='Mississippi', avg_price=154.1),\n",
       " Row(State='Tennessee', avg_price=152.825),\n",
       " Row(State='Nebraska', avg_price=149.14999999999998),\n",
       " Row(State='Oklahoma', avg_price=145.1),\n",
       " Row(State='Alabama', avg_price=143.025),\n",
       " Row(State='Kentucky', avg_price=141.14999999999998),\n",
       " Row(State='Missouri', avg_price=134.75),\n",
       " Row(State='Iowa', avg_price=133.15),\n",
       " Row(State='Arkansas', avg_price=131.8),\n",
       " Row(State='Illinois', avg_price=122.87499999999999),\n",
       " Row(State='Indiana', avg_price=122.75),\n",
       " Row(State='Kansas', avg_price=115.65),\n",
       " Row(State='Michigan', avg_price=114.6),\n",
       " Row(State='Ohio', avg_price=112.86666666666667),\n",
       " Row(State='Alaska', avg_price=None),\n",
       " Row(State='Montana', avg_price=None),\n",
       " Row(State='South Carolina', avg_price=None)]"
      ]
     },
     "execution_count": 163,
     "metadata": {},
     "output_type": "execute_result"
    }
   ],
   "source": [
    "sqlContext.sql(\n",
    "\"SELECT `State`, avg(`2015 median sales price`) avg_price from pops group by `State` order by avg_price desc\").collect()\n"
   ]
  },
  {
   "cell_type": "code",
   "execution_count": null,
   "metadata": {
    "application/vnd.databricks.v1+cell": {
     "cellMetadata": {
      "byteLimit": 2048000,
      "rowLimit": 10000
     },
     "inputWidgets": {},
     "nuid": "e8655b55-0779-4357-9de0-6efedc1732a4",
     "showTitle": false,
     "title": ""
    }
   },
   "outputs": [
    {
     "data": {
      "text/plain": [
       "[Row(State='Alabama', avg(2015 median sales price)=143.025),\n",
       " Row(State='Alaska', avg(2015 median sales price)=None),\n",
       " Row(State='Arizona', avg(2015 median sales price)=192.1),\n",
       " Row(State='Arkansas', avg(2015 median sales price)=131.8),\n",
       " Row(State='California', avg(2015 median sales price)=547.9714285714286),\n",
       " Row(State='Colorado', avg(2015 median sales price)=333.46666666666664),\n",
       " Row(State='Connecticut', avg(2015 median sales price)=250.13333333333333),\n",
       " Row(State='District of Columbia', avg(2015 median sales price)=367.8),\n",
       " Row(State='Florida', avg(2015 median sales price)=178.77777777777777),\n",
       " Row(State='Georgia', avg(2015 median sales price)=158.0),\n",
       " Row(State=\"Hawai'i\", avg(2015 median sales price)=699.3),\n",
       " Row(State='Idaho', avg(2015 median sales price)=178.7),\n",
       " Row(State='Illinois', avg(2015 median sales price)=122.87499999999999),\n",
       " Row(State='Indiana', avg(2015 median sales price)=122.75),\n",
       " Row(State='Iowa', avg(2015 median sales price)=133.15),\n",
       " Row(State='Kansas', avg(2015 median sales price)=115.65),\n",
       " Row(State='Kentucky', avg(2015 median sales price)=141.14999999999998),\n",
       " Row(State='Louisiana', avg(2015 median sales price)=164.39999999999998),\n",
       " Row(State='Maryland', avg(2015 median sales price)=223.1),\n",
       " Row(State='Massachusetts', avg(2015 median sales price)=261.8),\n",
       " Row(State='Michigan', avg(2015 median sales price)=114.6),\n",
       " Row(State='Minnesota', avg(2015 median sales price)=209.4),\n",
       " Row(State='Mississippi', avg(2015 median sales price)=154.1),\n",
       " Row(State='Missouri', avg(2015 median sales price)=134.75),\n",
       " Row(State='Montana', avg(2015 median sales price)=None),\n",
       " Row(State='Nebraska', avg(2015 median sales price)=149.14999999999998),\n",
       " Row(State='Nevada', avg(2015 median sales price)=237.3),\n",
       " Row(State='New Hampshire', avg(2015 median sales price)=237.4),\n",
       " Row(State='New Jersey', avg(2015 median sales price)=350.8),\n",
       " Row(State='New Mexico', avg(2015 median sales price)=172.2),\n",
       " Row(State='New York', avg(2015 median sales price)=185.775),\n",
       " Row(State='North Carolina', avg(2015 median sales price)=176.05714285714288),\n",
       " Row(State='North Dakota', avg(2015 median sales price)=180.0),\n",
       " Row(State='Ohio', avg(2015 median sales price)=112.86666666666667),\n",
       " Row(State='Oklahoma', avg(2015 median sales price)=145.1),\n",
       " Row(State='Oregon', avg(2015 median sales price)=231.53333333333333),\n",
       " Row(State='Pennsylvania', avg(2015 median sales price)=183.8),\n",
       " Row(State='Rhode Island', avg(2015 median sales price)=233.3),\n",
       " Row(State='South Carolina', avg(2015 median sales price)=None),\n",
       " Row(State='South Dakota', avg(2015 median sales price)=159.5),\n",
       " Row(State='Tennessee', avg(2015 median sales price)=152.825),\n",
       " Row(State='Texas', avg(2015 median sales price)=173.4777777777778),\n",
       " Row(State='Utah', avg(2015 median sales price)=243.3),\n",
       " Row(State='Virginia', avg(2015 median sales price)=201.25),\n",
       " Row(State='Washington', avg(2015 median sales price)=266.29999999999995),\n",
       " Row(State='Wisconsin', avg(2015 median sales price)=210.8)]"
      ]
     },
     "execution_count": 164,
     "metadata": {},
     "output_type": "execute_result"
    }
   ],
   "source": [
    "sqlContext.sql(\n",
    "\"SELECT `State`, avg(`2015 median sales price`) from pops GROUP BY `State` order by `State` asc, avg(`2015 median sales price`) desc\").collect()"
   ]
  },
  {
   "cell_type": "markdown",
   "metadata": {
    "application/vnd.databricks.v1+cell": {
     "cellMetadata": {
      "byteLimit": 2048000,
      "rowLimit": 10000
     },
     "inputWidgets": {},
     "nuid": "af124493-d243-44be-a014-b9bdc29d61a2",
     "showTitle": false,
     "title": ""
    }
   },
   "source": [
    "# Exercise (10 điểm)\n",
    "Dataframe dưới đây chứa data về dân số và giá nhà trung vị (median) của các thành phố ở Mỹ.\n",
    "\n",
    "\"2014 rank\": xếp hạng năm 2014\n",
    "\"City\": tên thành phố\n",
    "\"State\": tên bang (một bang thường có nhiều thành phố)\n",
    "\"State Code\": mã của bang\n",
    "\"2014 Population estimate\": Ước lượng dân số năm 2014\n",
    "\"2015 median sales price\": Giá nhà trung vị năm 2015\n",
    "Bạn phải viết code Pyspark (dùng dataframe hoặc Spark-SQL) để lấy / tính toán các data dưới đây."
   ]
  },
  {
   "cell_type": "code",
   "execution_count": null,
   "metadata": {
    "application/vnd.databricks.v1+cell": {
     "cellMetadata": {
      "byteLimit": 2048000,
      "rowLimit": 10000
     },
     "inputWidgets": {},
     "nuid": "ec5afa22-a039-4524-9711-7253847069dc",
     "showTitle": false,
     "title": ""
    }
   },
   "outputs": [
    {
     "data": {
      "text/plain": [
       "[Row(2014 rank=101, City='Birmingham', State='Alabama', State Code='AL', Pop_estimate_2014=212247, 2015 median sales price=162.9),\n",
       " Row(2014 rank=125, City='Huntsville', State='Alabama', State Code='AL', Pop_estimate_2014=188226, 2015 median sales price=157.7),\n",
       " Row(2014 rank=122, City='Mobile', State='Alabama', State Code='AL', Pop_estimate_2014=194675, 2015 median sales price=122.5),\n",
       " Row(2014 rank=114, City='Montgomery', State='Alabama', State Code='AL', Pop_estimate_2014=200481, 2015 median sales price=129.0),\n",
       " Row(2014 rank=64, City='Anchorage[19]', State='Alaska', State Code='AK', Pop_estimate_2014=301010, 2015 median sales price=None),\n",
       " Row(2014 rank=78, City='Chandler', State='Arizona', State Code='AZ', Pop_estimate_2014=254276, 2015 median sales price=None),\n",
       " Row(2014 rank=86, City='Gilbert[20]', State='Arizona', State Code='AZ', Pop_estimate_2014=239277, 2015 median sales price=None),\n",
       " Row(2014 rank=88, City='Glendale', State='Arizona', State Code='AZ', Pop_estimate_2014=237517, 2015 median sales price=None),\n",
       " Row(2014 rank=38, City='Mesa', State='Arizona', State Code='AZ', Pop_estimate_2014=464704, 2015 median sales price=None),\n",
       " Row(2014 rank=148, City='Peoria', State='Arizona', State Code='AZ', Pop_estimate_2014=166934, 2015 median sales price=None),\n",
       " Row(2014 rank=6, City='Phoenix', State='Arizona', State Code='AZ', Pop_estimate_2014=1537058, 2015 median sales price=206.1),\n",
       " Row(2014 rank=95, City='Scottsdale', State='Arizona', State Code='AZ', Pop_estimate_2014=230512, 2015 median sales price=None),\n",
       " Row(2014 rank=215, City='Surprise', State='Arizona', State Code='AZ', Pop_estimate_2014=126275, 2015 median sales price=None),\n",
       " Row(2014 rank=142, City='Tempe', State='Arizona', State Code='AZ', Pop_estimate_2014=172816, 2015 median sales price=None),\n",
       " Row(2014 rank=33, City='Tucson', State='Arizona', State Code='AZ', Pop_estimate_2014=527972, 2015 median sales price=178.1),\n",
       " Row(2014 rank=119, City='Little Rock', State='Arkansas', State Code='AR', Pop_estimate_2014=197706, 2015 median sales price=131.8),\n",
       " Row(2014 rank=56, City='Anaheim', State='California', State Code='CA', Pop_estimate_2014=346997, 2015 median sales price=685.7),\n",
       " Row(2014 rank=261, City='Antioch', State='California', State Code='CA', Pop_estimate_2014=108930, 2015 median sales price=None),\n",
       " Row(2014 rank=52, City='Bakersfield', State='California', State Code='CA', Pop_estimate_2014=368759, 2015 median sales price=None),\n",
       " Row(2014 rank=227, City='Berkeley', State='California', State Code='CA', Pop_estimate_2014=118853, 2015 median sales price=None),\n",
       " Row(2014 rank=276, City='Burbank', State='California', State Code='CA', Pop_estimate_2014=105368, 2015 median sales price=None),\n",
       " Row(2014 rank=245, City='Carlsbad', State='California', State Code='CA', Pop_estimate_2014=112299, 2015 median sales price=None),\n",
       " Row(2014 rank=75, City='Chula Vista', State='California', State Code='CA', Pop_estimate_2014=260988, 2015 median sales price=None),\n",
       " Row(2014 rank=291, City='Clovis', State='California', State Code='CA', Pop_estimate_2014=102189, 2015 median sales price=None),\n",
       " Row(2014 rank=212, City='Concord', State='California', State Code='CA', Pop_estimate_2014=127522, 2015 median sales price=None),\n",
       " Row(2014 rank=153, City='Corona', State='California', State Code='CA', Pop_estimate_2014=161486, 2015 median sales price=None),\n",
       " Row(2014 rank=243, City='Costa Mesa', State='California', State Code='CA', Pop_estimate_2014=112784, 2015 median sales price=None),\n",
       " Row(2014 rank=274, City='Daly City', State='California', State Code='CA', Pop_estimate_2014=106094, 2015 median sales price=None),\n",
       " Row(2014 rank=240, City='Downey', State='California', State Code='CA', Pop_estimate_2014=114172, 2015 median sales price=None),\n",
       " Row(2014 rank=285, City='El Cajon', State='California', State Code='CA', Pop_estimate_2014=103091, 2015 median sales price=None),\n",
       " Row(2014 rank=234, City='El Monte', State='California', State Code='CA', Pop_estimate_2014=116631, 2015 median sales price=None),\n",
       " Row(2014 rank=151, City='Elk Grove', State='California', State Code='CA', Pop_estimate_2014=163553, 2015 median sales price=None),\n",
       " Row(2014 rank=167, City='Escondido', State='California', State Code='CA', Pop_estimate_2014=150243, 2015 median sales price=None),\n",
       " Row(2014 rank=250, City='Fairfield', State='California', State Code='CA', Pop_estimate_2014=111125, 2015 median sales price=None),\n",
       " Row(2014 rank=108, City='Fontana', State='California', State Code='CA', Pop_estimate_2014=204950, 2015 median sales price=None),\n",
       " Row(2014 rank=97, City='Fremont', State='California', State Code='CA', Pop_estimate_2014=228758, 2015 median sales price=None),\n",
       " Row(2014 rank=34, City='Fresno', State='California', State Code='CA', Pop_estimate_2014=515986, 2015 median sales price=None),\n",
       " Row(2014 rank=186, City='Fullerton', State='California', State Code='CA', Pop_estimate_2014=139677, 2015 median sales price=None),\n",
       " Row(2014 rank=136, City='Garden Grove', State='California', State Code='CA', Pop_estimate_2014=175078, 2015 median sales price=None),\n",
       " Row(2014 rank=116, City='Glendale', State='California', State Code='CA', Pop_estimate_2014=200167, 2015 median sales price=None),\n",
       " Row(2014 rank=161, City='Hayward', State='California', State Code='CA', Pop_estimate_2014=154612, 2015 median sales price=None),\n",
       " Row(2014 rank=112, City='Huntington Beach', State='California', State Code='CA', Pop_estimate_2014=200809, 2015 median sales price=None),\n",
       " Row(2014 rank=248, City='Inglewood', State='California', State Code='CA', Pop_estimate_2014=111905, 2015 median sales price=None),\n",
       " Row(2014 rank=82, City='Irvine', State='California', State Code='CA', Pop_estimate_2014=248531, 2015 median sales price=None),\n",
       " Row(2014 rank=154, City='Lancaster', State='California', State Code='CA', Pop_estimate_2014=161043, 2015 median sales price=None),\n",
       " Row(2014 rank=36, City='Long Beach', State='California', State Code='CA', Pop_estimate_2014=473577, 2015 median sales price=None),\n",
       " Row(2014 rank=2, City='Los Angeles', State='California', State Code='CA', Pop_estimate_2014=3928864, 2015 median sales price=434.7),\n",
       " Row(2014 rank=104, City='Modesto', State='California', State Code='CA', Pop_estimate_2014=209286, 2015 median sales price=None),\n",
       " Row(2014 rank=110, City='Moreno Valley', State='California', State Code='CA', Pop_estimate_2014=202976, 2015 median sales price=None),\n",
       " Row(2014 rank=268, City='Murrieta', State='California', State Code='CA', Pop_estimate_2014=108368, 2015 median sales price=None),\n",
       " Row(2014 rank=270, City='Norwalk', State='California', State Code='CA', Pop_estimate_2014=107096, 2015 median sales price=None),\n",
       " Row(2014 rank=45, City='Oakland', State='California', State Code='CA', Pop_estimate_2014=413775, 2015 median sales price=None),\n",
       " Row(2014 rank=137, City='Oceanside', State='California', State Code='CA', Pop_estimate_2014=174558, 2015 median sales price=None),\n",
       " Row(2014 rank=146, City='Ontario', State='California', State Code='CA', Pop_estimate_2014=169089, 2015 median sales price=None),\n",
       " Row(2014 rank=185, City='Orange', State='California', State Code='CA', Pop_estimate_2014=139812, 2015 median sales price=None),\n",
       " Row(2014 rank=106, City='Oxnard', State='California', State Code='CA', Pop_estimate_2014=205437, 2015 median sales price=None),\n",
       " Row(2014 rank=156, City='Palmdale', State='California', State Code='CA', Pop_estimate_2014=158279, 2015 median sales price=None),\n",
       " Row(2014 rank=184, City='Pasadena', State='California', State Code='CA', Pop_estimate_2014=140881, 2015 median sales price=None),\n",
       " Row(2014 rank=165, City='Pomona', State='California', State Code='CA', Pop_estimate_2014=153350, 2015 median sales price=None),\n",
       " Row(2014 rank=138, City='Rancho Cucamonga', State='California', State Code='CA', Pop_estimate_2014=174305, 2015 median sales price=None),\n",
       " Row(2014 rank=288, City='Rialto', State='California', State Code='CA', Pop_estimate_2014=102741, 2015 median sales price=None),\n",
       " Row(2014 rank=265, City='Richmond', State='California', State Code='CA', Pop_estimate_2014=108565, 2015 median sales price=None),\n",
       " Row(2014 rank=59, City='Riverside', State='California', State Code='CA', Pop_estimate_2014=319504, 2015 median sales price=281.0),\n",
       " Row(2014 rank=205, City='Roseville', State='California', State Code='CA', Pop_estimate_2014=128615, 2015 median sales price=None),\n",
       " Row(2014 rank=35, City='Sacramento', State='California', State Code='CA', Pop_estimate_2014=485199, 2015 median sales price=275.8),\n",
       " Row(2014 rank=158, City='Salinas', State='California', State Code='CA', Pop_estimate_2014=156677, 2015 median sales price=None),\n",
       " Row(2014 rank=100, City='San Bernardino', State='California', State Code='CA', Pop_estimate_2014=215213, 2015 median sales price=None),\n",
       " Row(2014 rank=8, City='San Diego', State='California', State Code='CA', Pop_estimate_2014=1381069, 2015 median sales price=510.3),\n",
       " Row(2014 rank=13, City='San Francisco[10]', State='California', State Code='CA', Pop_estimate_2014=852469, 2015 median sales price=748.3),\n",
       " Row(2014 rank=10, City='San Jose', State='California', State Code='CA', Pop_estimate_2014=1015785, 2015 median sales price=900.0),\n",
       " Row(2014 rank=286, City='San Mateo', State='California', State Code='CA', Pop_estimate_2014=102893, 2015 median sales price=None),\n",
       " Row(2014 rank=57, City='Santa Ana', State='California', State Code='CA', Pop_estimate_2014=334909, 2015 median sales price=None),\n",
       " Row(2014 rank=219, City='Santa Clara', State='California', State Code='CA', Pop_estimate_2014=122192, 2015 median sales price=None),\n",
       " Row(2014 rank=133, City='Santa Clarita', State='California', State Code='CA', Pop_estimate_2014=181557, 2015 median sales price=None),\n",
       " Row(2014 rank=284, City='Santa Maria', State='California', State Code='CA', Pop_estimate_2014=103410, 2015 median sales price=None),\n",
       " Row(2014 rank=139, City='Santa Rosa', State='California', State Code='CA', Pop_estimate_2014=174170, 2015 median sales price=None),\n",
       " Row(2014 rank=214, City='Simi Valley', State='California', State Code='CA', Pop_estimate_2014=126871, 2015 median sales price=None),\n",
       " Row(2014 rank=63, City='Stockton', State='California', State Code='CA', Pop_estimate_2014=302389, 2015 median sales price=None),\n",
       " Row(2014 rank=168, City='Sunnyvale', State='California', State Code='CA', Pop_estimate_2014=149980, 2015 median sales price=None),\n",
       " Row(2014 rank=259, City='Temecula', State='California', State Code='CA', Pop_estimate_2014=109428, 2015 median sales price=None),\n",
       " Row(2014 rank=201, City='Thousand Oaks', State='California', State Code='CA', Pop_estimate_2014=129342, 2015 median sales price=None),\n",
       " Row(2014 rank=172, City='Torrance', State='California', State Code='CA', Pop_estimate_2014=148495, 2015 median sales price=None),\n",
       " Row(2014 rank=224, City='Vallejo', State='California', State Code='CA', Pop_estimate_2014=120228, 2015 median sales price=None),\n",
       " Row(2014 rank=258, City='Ventura[29]', State='California', State Code='CA', Pop_estimate_2014=109484, 2015 median sales price=None),\n",
       " Row(2014 rank=220, City='Victorville', State='California', State Code='CA', Pop_estimate_2014=121901, 2015 median sales price=None),\n",
       " Row(2014 rank=202, City='Visalia', State='California', State Code='CA', Pop_estimate_2014=129281, 2015 median sales price=None),\n",
       " Row(2014 rank=266, City='West Covina', State='California', State Code='CA', Pop_estimate_2014=108455, 2015 median sales price=None),\n",
       " Row(2014 rank=242, City='Arvada', State='Colorado', State Code='CO', Pop_estimate_2014=113574, 2015 median sales price=None),\n",
       " Row(2014 rank=54, City='Aurora', State='Colorado', State Code='CO', Pop_estimate_2014=353108, 2015 median sales price=None),\n",
       " Row(2014 rank=278, City='Boulder', State='Colorado', State Code='CO', Pop_estimate_2014=105112, 2015 median sales price=442.2),\n",
       " Row(2014 rank=269, City='Centennial', State='Colorado', State Code='CO', Pop_estimate_2014=107201, 2015 median sales price=None),\n",
       " Row(2014 rank=42, City='Colorado Springs', State='Colorado', State Code='CO', Pop_estimate_2014=445830, 2015 median sales price=220.1),\n",
       " Row(2014 rank=21, City='Denver[12]', State='Colorado', State Code='CO', Pop_estimate_2014=663862, 2015 median sales price=338.1),\n",
       " Row(2014 rank=159, City='Fort Collins', State='Colorado', State Code='CO', Pop_estimate_2014=156480, 2015 median sales price=None),\n",
       " Row(2014 rank=169, City='Lakewood', State='Colorado', State Code='CO', Pop_estimate_2014=149643, 2015 median sales price=None),\n",
       " Row(2014 rank=267, City='Pueblo', State='Colorado', State Code='CO', Pop_estimate_2014=108423, 2015 median sales price=None),\n",
       " Row(2014 rank=197, City='Thornton', State='Colorado', State Code='CO', Pop_estimate_2014=130307, 2015 median sales price=None),\n",
       " Row(2014 rank=247, City='Westminster', State='Colorado', State Code='CO', Pop_estimate_2014=112090, 2015 median sales price=None),\n",
       " Row(2014 rank=175, City='Bridgeport', State='Connecticut', State Code='CT', Pop_estimate_2014=147612, 2015 median sales price=342.7),\n",
       " Row(2014 rank=218, City='Hartford', State='Connecticut', State Code='CT', Pop_estimate_2014=124705, 2015 median sales price=202.6),\n",
       " Row(2014 rank=198, City='New Haven', State='Connecticut', State Code='CT', Pop_estimate_2014=130282, 2015 median sales price=205.1),\n",
       " Row(2014 rank=208, City='Stamford', State='Connecticut', State Code='CT', Pop_estimate_2014=128278, 2015 median sales price=None),\n",
       " Row(2014 rank=260, City='Waterbury', State='Connecticut', State Code='CT', Pop_estimate_2014=109307, 2015 median sales price=None),\n",
       " Row(2014 rank=22, City='Washington[13]', State='District of Columbia', State Code='DC', Pop_estimate_2014=658893, 2015 median sales price=367.8),\n",
       " Row(2014 rank=144, City='Cape Coral', State='Florida', State Code='FL', Pop_estimate_2014=169854, 2015 median sales price=208.0),\n",
       " Row(2014 rank=253, City='Clearwater', State='Florida', State Code='FL', Pop_estimate_2014=110703, 2015 median sales price=None),\n",
       " Row(2014 rank=211, City='Coral Springs', State='Florida', State Code='FL', Pop_estimate_2014=127952, 2015 median sales price=None),\n",
       " Row(2014 rank=135, City='Fort Lauderdale', State='Florida', State Code='FL', Pop_estimate_2014=176013, 2015 median sales price=None),\n",
       " Row(2014 rank=206, City='Gainesville', State='Florida', State Code='FL', Pop_estimate_2014=128460, 2015 median sales price=169.9),\n",
       " Row(2014 rank=90, City='Hialeah', State='Florida', State Code='FL', Pop_estimate_2014=235563, 2015 median sales price=None),\n",
       " Row(2014 rank=173, City='Hollywood', State='Florida', State Code='FL', Pop_estimate_2014=148047, 2015 median sales price=None),\n",
       " Row(2014 rank=12, City='Jacksonville[9]', State='Florida', State Code='FL', Pop_estimate_2014=853382, 2015 median sales price=182.5),\n",
       " Row(2014 rank=290, City='Lakeland', State='Florida', State Code='FL', Pop_estimate_2014=102346, 2015 median sales price=136.0),\n",
       " Row(2014 rank=44, City='Miami', State='Florida', State Code='FL', Pop_estimate_2014=430332, 2015 median sales price=269.1),\n",
       " Row(2014 rank=246, City='Miami Gardens', State='Florida', State Code='FL', Pop_estimate_2014=112265, 2015 median sales price=None),\n",
       " Row(2014 rank=192, City='Miramar', State='Florida', State Code='FL', Pop_estimate_2014=134989, 2015 median sales price=None),\n",
       " Row(2014 rank=73, City='Orlando', State='Florida', State Code='FL', Pop_estimate_2014=262372, 2015 median sales price=None),\n",
       " Row(2014 rank=275, City='Palm Bay', State='Florida', State Code='FL', Pop_estimate_2014=105838, 2015 median sales price=145.0),\n",
       " Row(2014 rank=150, City='Pembroke Pines', State='Florida', State Code='FL', Pop_estimate_2014=164626, 2015 median sales price=None),\n",
       " Row(2014 rank=273, City='Pompano Beach', State='Florida', State Code='FL', Pop_estimate_2014=106105, 2015 median sales price=None),\n",
       " Row(2014 rank=140, City='Port St. Lucie', State='Florida', State Code='FL', Pop_estimate_2014=174110, 2015 median sales price=172.0),\n",
       " Row(2014 rank=79, City='St. Petersburg', State='Florida', State Code='FL', Pop_estimate_2014=253693, 2015 median sales price=None),\n",
       " Row(2014 rank=126, City='Tallahassee', State='Florida', State Code='FL', Pop_estimate_2014=188107, 2015 median sales price=170.5),\n",
       " Row(2014 rank=53, City='Tampa', State='Florida', State Code='FL', Pop_estimate_2014=358699, 2015 median sales price=156.0),\n",
       " Row(2014 rank=281, City='West Palm Beach', State='Florida', State Code='FL', Pop_estimate_2014=104031, 2015 median sales price=None),\n",
       " Row(2014 rank=225, City='Athens[28]', State='Georgia', State Code='GA', Pop_estimate_2014=119648, 2015 median sales price=None),\n",
       " Row(2014 rank=39, City='Atlanta', State='Georgia', State Code='GA', Pop_estimate_2014=456002, 2015 median sales price=158.0),\n",
       " Row(2014 rank=121, City='Augusta[24]', State='Georgia', State Code='GA', Pop_estimate_2014=196741, 2015 median sales price=None),\n",
       " Row(2014 rank=111, City='Columbus[23]', State='Georgia', State Code='GA', Pop_estimate_2014=200887, 2015 median sales price=None),\n",
       " Row(2014 rank=164, City='Macon', State='Georgia', State Code='GA', Pop_estimate_2014=None, 2015 median sales price=None),\n",
       " Row(2014 rank=292, City='Sandy Springs', State='Georgia', State Code='GA', Pop_estimate_2014=101908, 2015 median sales price=None),\n",
       " Row(2014 rank=181, City='Savannah', State='Georgia', State Code='GA', Pop_estimate_2014=144352, 2015 median sales price=None),\n",
       " Row(2014 rank=55, City='Honolulu[2]', State=\"Hawai'i\", State Code='HI', Pop_estimate_2014=350399, 2015 median sales price=699.3),\n",
       " Row(2014 rank=99, City='Boise[22]', State='Idaho', State Code='ID', Pop_estimate_2014=216282, 2015 median sales price=178.7),\n",
       " Row(2014 rank=115, City='Aurora', State='Illinois', State Code='IL', Pop_estimate_2014=200456, 2015 median sales price=None),\n",
       " Row(2014 rank=3, City='Chicago', State='Illinois', State Code='IL', Pop_estimate_2014=2722389, 2015 median sales price=192.5),\n",
       " Row(2014 rank=251, City='Elgin', State='Illinois', State Code='IL', Pop_estimate_2014=111117, 2015 median sales price=None),\n",
       " Row(2014 rank=174, City='Joliet', State='Illinois', State Code='IL', Pop_estimate_2014=147928, 2015 median sales price=None),\n",
       " Row(2014 rank=178, City='Naperville', State='Illinois', State Code='IL', Pop_estimate_2014=146128, 2015 median sales price=None),\n",
       " Row(2014 rank=236, City='Peoria', State='Illinois', State Code='IL', Pop_estimate_2014=115828, 2015 median sales price=105.2),\n",
       " Row(2014 rank=171, City='Rockford', State='Illinois', State Code='IL', Pop_estimate_2014=149123, 2015 median sales price=78.6),\n",
       " Row(2014 rank=233, City='Springfield', State='Illinois', State Code='IL', Pop_estimate_2014=116809, 2015 median sales price=115.2),\n",
       " Row(2014 rank=223, City='Evansville', State='Indiana', State Code='IN', Pop_estimate_2014=120346, 2015 median sales price=None),\n",
       " Row(2014 rank=77, City='Fort Wayne', State='Indiana', State Code='IN', Pop_estimate_2014=258522, 2015 median sales price=106.3),\n",
       " Row(2014 rank=14, City='Indianapolis[11]', State='Indiana', State Code='IN', Pop_estimate_2014=848788, 2015 median sales price=139.2),\n",
       " Row(2014 rank=203, City='Cedar Rapids', State='Iowa', State Code='IA', Pop_estimate_2014=129195, 2015 median sales price=156.9),\n",
       " Row(2014 rank=289, City='Davenport', State='Iowa', State Code='IA', Pop_estimate_2014=102448, 2015 median sales price=109.4),\n",
       " Row(2014 rank=105, City='Des Moines', State='Iowa', State Code='IA', Pop_estimate_2014=209220, 2015 median sales price=None),\n",
       " Row(2014 rank=170, City='Kansas City[26]', State='Kansas', State Code='KS', Pop_estimate_2014=149636, 2015 median sales price=None),\n",
       " Row(2014 rank=194, City='Olathe', State='Kansas', State Code='KS', Pop_estimate_2014=133062, 2015 median sales price=None),\n",
       " Row(2014 rank=128, City='Overland Park', State='Kansas', State Code='KS', Pop_estimate_2014=184525, 2015 median sales price=None),\n",
       " Row(2014 rank=213, City='Topeka', State='Kansas', State Code='KS', Pop_estimate_2014=127215, 2015 median sales price=105.3),\n",
       " Row(2014 rank=49, City='Wichita', State='Kansas', State Code='KS', Pop_estimate_2014=388413, 2015 median sales price=126.0),\n",
       " Row(2014 rank=61, City='Lexington[18]', State='Kentucky', State Code='KY', Pop_estimate_2014=310797, 2015 median sales price=141.2),\n",
       " Row(2014 rank=30, City='Louisville[16]', State='Kentucky', State Code='KY', Pop_estimate_2014=612780, 2015 median sales price=141.1),\n",
       " Row(2014 rank=96, City='Baton Rouge[21]', State='Louisiana', State Code='LA', Pop_estimate_2014=228895, 2015 median sales price=177.2),\n",
       " Row(2014 rank=216, City='Lafayette[27]', State='Louisiana', State Code='LA', Pop_estimate_2014=126066, 2015 median sales price=None),\n",
       " Row(2014 rank=50, City='New Orleans[17]', State='Louisiana', State Code='LA', Pop_estimate_2014=384320, 2015 median sales price=None),\n",
       " Row(2014 rank=117, City='Shreveport', State='Louisiana', State Code='LA', Pop_estimate_2014=198242, 2015 median sales price=151.6),\n",
       " Row(2014 rank=26, City='Baltimore[15]', State='Maryland', State Code='MD', Pop_estimate_2014=622793, 2015 median sales price=223.1),\n",
       " Row(2014 rank=24, City='Boston', State='Massachusetts', State Code='MA', Pop_estimate_2014=655884, 2015 median sales price=374.6),\n",
       " Row(2014 rank=257, City='Cambridge', State='Massachusetts', State Code='MA', Pop_estimate_2014=109694, 2015 median sales price=None),\n",
       " Row(2014 rank=255, City='Lowell', State='Massachusetts', State Code='MA', Pop_estimate_2014=109945, 2015 median sales price=None),\n",
       " Row(2014 rank=162, City='Springfield', State='Massachusetts', State Code='MA', Pop_estimate_2014=153991, 2015 median sales price=183.9),\n",
       " Row(2014 rank=131, City='Worcester', State='Massachusetts', State Code='MA', Pop_estimate_2014=183016, 2015 median sales price=226.9),\n",
       " Row(2014 rank=229, City='Ann Arbor', State='Michigan', State Code='MI', Pop_estimate_2014=117770, 2015 median sales price=None),\n",
       " Row(2014 rank=18, City='Detroit', State='Michigan', State Code='MI', Pop_estimate_2014=680250, 2015 median sales price=None),\n",
       " Row(2014 rank=123, City='Grand Rapids', State='Michigan', State Code='MI', Pop_estimate_2014=193792, 2015 median sales price=None),\n",
       " Row(2014 rank=238, City='Lansing', State='Michigan', State Code='MI', Pop_estimate_2014=114620, 2015 median sales price=114.6),\n",
       " Row(2014 rank=196, City='Sterling Heights', State='Michigan', State Code='MI', Pop_estimate_2014=131741, 2015 median sales price=None),\n",
       " Row(2014 rank=191, City='Warren', State='Michigan', State Code='MI', Pop_estimate_2014=135099, 2015 median sales price=None),\n",
       " Row(2014 rank=46, City='Minneapolis', State='Minnesota', State Code='MN', Pop_estimate_2014=407207, 2015 median sales price=209.4),\n",
       " Row(2014 rank=249, City='Rochester', State='Minnesota', State Code='MN', Pop_estimate_2014=111402, 2015 median sales price=None),\n",
       " Row(2014 rank=66, City='Saint Paul', State='Minnesota', State Code='MN', Pop_estimate_2014=297640, 2015 median sales price=None),\n",
       " Row(2014 rank=143, City='Jackson', State='Mississippi', State Code='MS', Pop_estimate_2014=171155, 2015 median sales price=154.1),\n",
       " Row(2014 rank=232, City='Columbia', State='Missouri', State Code='MO', Pop_estimate_2014=116906, 2015 median sales price=None),\n",
       " Row(2014 rank=231, City='Independence', State='Missouri', State Code='MO', Pop_estimate_2014=117494, 2015 median sales price=None),\n",
       " Row(2014 rank=37, City='Kansas City', State='Missouri', State Code='MO', Pop_estimate_2014=470800, 2015 median sales price=153.0),\n",
       " Row(2014 rank=149, City='Springfield', State='Missouri', State Code='MO', Pop_estimate_2014=165378, 2015 median sales price=116.5),\n",
       " Row(2014 rank=60, City='St. Louis[15]', State='Missouri', State Code='MO', Pop_estimate_2014=317419, 2015 median sales price=None),\n",
       " Row(2014 rank=262, City='Billings', State='Montana', State Code='MT', Pop_estimate_2014=108869, 2015 median sales price=None),\n",
       " Row(2014 rank=72, City='Lincoln', State='Nebraska', State Code='NE', Pop_estimate_2014=272996, 2015 median sales price=150.2),\n",
       " Row(2014 rank=41, City='Omaha', State='Nebraska', State Code='NE', Pop_estimate_2014=446599, 2015 median sales price=148.1),\n",
       " Row(2014 rank=71, City='Henderson', State='Nevada', State Code='NV', Pop_estimate_2014=277440, 2015 median sales price=None),\n",
       " Row(2014 rank=29, City='Las Vegas', State='Nevada', State Code='NV', Pop_estimate_2014=613599, 2015 median sales price=205.9),\n",
       " Row(2014 rank=94, City='North Las Vegas', State='Nevada', State Code='NV', Pop_estimate_2014=230788, 2015 median sales price=None),\n",
       " Row(2014 rank=89, City='Reno', State='Nevada', State Code='NV', Pop_estimate_2014=236995, 2015 median sales price=268.7),\n",
       " Row(2014 rank=254, City='Manchester', State='New Hampshire', State Code='NH', Pop_estimate_2014=110448, 2015 median sales price=237.4),\n",
       " Row(2014 rank=204, City='Elizabeth', State='New Jersey', State Code='NJ', Pop_estimate_2014=128705, 2015 median sales price=None),\n",
       " Row(2014 rank=74, City='Jersey City', State='New Jersey', State Code='NJ', Pop_estimate_2014=262146, 2015 median sales price=None),\n",
       " Row(2014 rank=69, City='Newark', State='New Jersey', State Code='NJ', Pop_estimate_2014=280579, 2015 median sales price=350.8),\n",
       " Row(2014 rank=177, City='Paterson', State='New Jersey', State Code='NJ', Pop_estimate_2014=146753, 2015 median sales price=None),\n",
       " Row(2014 rank=32, City='Albuquerque', State='New Mexico', State Code='NM', Pop_estimate_2014=557169, 2015 median sales price=172.2),\n",
       " Row(2014 rank=294, City='Las Cruces', State='New Mexico', State Code='NM', Pop_estimate_2014=101408, 2015 median sales price=None),\n",
       " Row(2014 rank=76, City='Buffalo', State='New York', State Code='NY', Pop_estimate_2014=258703, 2015 median sales price=117.3),\n",
       " Row(2014 rank=1, City='New York[6]', State='New York', State Code='NY', Pop_estimate_2014=8491079, 2015 median sales price=388.6),\n",
       " Row(2014 rank=103, City='Rochester', State='New York', State Code='NY', Pop_estimate_2014=209983, 2015 median sales price=118.9),\n",
       " Row(2014 rank=182, City='Syracuse', State='New York', State Code='NY', Pop_estimate_2014=144263, 2015 median sales price=118.3),\n",
       " Row(2014 rank=113, City='Yonkers', State='New York', State Code='NY', Pop_estimate_2014=200667, 2015 median sales price=None),\n",
       " Row(2014 rank=160, City='Cary[25]', State='North Carolina', State Code='NC', Pop_estimate_2014=155227, 2015 median sales price=None),\n",
       " Row(2014 rank=17, City='Charlotte', State='North Carolina', State Code='NC', Pop_estimate_2014=809958, 2015 median sales price=197.2),\n",
       " Row(2014 rank=81, City='Durham', State='North Carolina', State Code='NC', Pop_estimate_2014=251893, 2015 median sales price=196.9),\n",
       " Row(2014 rank=109, City='Fayetteville', State='North Carolina', State Code='NC', Pop_estimate_2014=203948, 2015 median sales price=145.0),\n",
       " Row(2014 rank=67, City='Greensboro', State='North Carolina', State Code='NC', Pop_estimate_2014=282586, 2015 median sales price=138.3),\n",
       " Row(2014 rank=263, City='High Point', State='North Carolina', State Code='NC', Pop_estimate_2014=108629, 2015 median sales price=None),\n",
       " Row(2014 rank=43, City='Raleigh', State='North Carolina', State Code='NC', Pop_estimate_2014=439896, 2015 median sales price=218.9),\n",
       " Row(2014 rank=241, City='Wilmington', State='North Carolina', State Code='NC', Pop_estimate_2014=113657, 2015 median sales price=197.5),\n",
       " Row(2014 rank=87, City='Winston�Salem', State='North Carolina', State Code='NC', Pop_estimate_2014=239269, 2015 median sales price=138.6),\n",
       " Row(2014 rank=235, City='Fargo', State='North Dakota', State Code='ND', Pop_estimate_2014=115863, 2015 median sales price=180.0),\n",
       " Row(2014 rank=118, City='Akron', State='Ohio', State Code='OH', Pop_estimate_2014=197859, 2015 median sales price=95.4),\n",
       " Row(2014 rank=65, City='Cincinnati', State='Ohio', State Code='OH', Pop_estimate_2014=298165, 2015 median sales price=135.0),\n",
       " Row(2014 rank=48, City='Cleveland', State='Ohio', State Code='OH', Pop_estimate_2014=389521, 2015 median sales price=105.9),\n",
       " Row(2014 rank=15, City='Columbus', State='Ohio', State Code='OH', Pop_estimate_2014=835957, 2015 median sales price=149.9),\n",
       " Row(2014 rank=183, City='Dayton', State='Ohio', State Code='OH', Pop_estimate_2014=141003, 2015 median sales price=107.2),\n",
       " Row(2014 rank=68, City='Toledo', State='Ohio', State Code='OH', Pop_estimate_2014=281031, 2015 median sales price=83.8),\n",
       " Row(2014 rank=280, City='Broken Arrow', State='Oklahoma', State Code='OK', Pop_estimate_2014=104726, 2015 median sales price=None),\n",
       " Row(2014 rank=228, City='Norman', State='Oklahoma', State Code='OK', Pop_estimate_2014=118040, 2015 median sales price=None),\n",
       " Row(2014 rank=27, City='Oklahoma City', State='Oklahoma', State Code='OK', Pop_estimate_2014=620602, 2015 median sales price=None),\n",
       " Row(2014 rank=47, City='Tulsa', State='Oklahoma', State Code='OK', Pop_estimate_2014=399682, 2015 median sales price=145.1),\n",
       " Row(2014 rank=155, City='Eugene', State='Oregon', State Code='OR', Pop_estimate_2014=160561, 2015 median sales price=211.3),\n",
       " Row(2014 rank=256, City='Gresham', State='Oregon', State Code='OR', Pop_estimate_2014=109892, 2015 median sales price=None),\n",
       " Row(2014 rank=28, City='Portland', State='Oregon', State Code='OR', Pop_estimate_2014=619360, 2015 median sales price=289.4),\n",
       " Row(2014 rank=152, City='Salem', State='Oregon', State Code='OR', Pop_estimate_2014=161637, 2015 median sales price=193.9),\n",
       " Row(2014 rank=226, City='Allentown', State='Pennsylvania', State Code='PA', Pop_estimate_2014=119104, 2015 median sales price=162.7),\n",
       " Row(2014 rank=5, City='Philadelphia[8]', State='Pennsylvania', State Code='PA', Pop_estimate_2014=1560297, 2015 median sales price=204.9),\n",
       " Row(2014 rank=62, City='Pittsburgh', State='Pennsylvania', State Code='PA', Pop_estimate_2014=305412, 2015 median sales price=None),\n",
       " Row(2014 rank=134, City='Providence', State='Rhode Island', State Code='RI', Pop_estimate_2014=179154, 2015 median sales price=233.3),\n",
       " Row(2014 rank=200, City='Charleston', State='South Carolina', State Code='SC', Pop_estimate_2014=130113, 2015 median sales price=None),\n",
       " Row(2014 rank=195, City='Columbia', State='South Carolina', State Code='SC', Pop_estimate_2014=132067, 2015 median sales price=None),\n",
       " Row(2014 rank=271, City='North Charleston', State='South Carolina', State Code='SC', Pop_estimate_2014=106749, 2015 median sales price=None),\n",
       " Row(2014 rank=147, City='Sioux Falls', State='South Dakota', State Code='SD', Pop_estimate_2014=168586, 2015 median sales price=159.5),\n",
       " Row(2014 rank=141, City='Chattanooga', State='Tennessee', State Code='TN', Pop_estimate_2014=173778, 2015 median sales price=143.6),\n",
       " Row(2014 rank=176, City='Clarksville', State='Tennessee', State Code='TN', Pop_estimate_2014=146806, 2015 median sales price=None),\n",
       " Row(2014 rank=129, City='Knoxville', State='Tennessee', State Code='TN', Pop_estimate_2014=184281, 2015 median sales price=149.2),\n",
       " Row(2014 rank=23, City='Memphis', State='Tennessee', State Code='TN', Pop_estimate_2014=656861, 2015 median sales price=132.1),\n",
       " Row(2014 rank=222, City='Murfreesboro', State='Tennessee', State Code='TN', Pop_estimate_2014=120954, 2015 median sales price=None),\n",
       " Row(2014 rank=25, City='Nashville[14]', State='Tennessee', State Code='TN', Pop_estimate_2014=644014, 2015 median sales price=186.4),\n",
       " Row(2014 rank=221, City='Abilene', State='Texas', State Code='TX', Pop_estimate_2014=120958, 2015 median sales price=145.7),\n",
       " Row(2014 rank=120, City='Amarillo', State='Texas', State Code='TX', Pop_estimate_2014=197254, 2015 median sales price=144.4),\n",
       " Row(2014 rank=51, City='Arlington', State='Texas', State Code='TX', Pop_estimate_2014=383204, 2015 median sales price=None),\n",
       " Row(2014 rank=11, City='Austin', State='Texas', State Code='TX', Pop_estimate_2014=912791, 2015 median sales price=249.1),\n",
       " Row(2014 rank=230, City='Beaumont', State='Texas', State Code='TX', Pop_estimate_2014=117585, 2015 median sales price=133.3),\n",
       " Row(2014 rank=130, City='Brownsville', State='Texas', State Code='TX', Pop_estimate_2014=183046, 2015 median sales price=None),\n",
       " Row(2014 rank=207, City='Carrollton', State='Texas', State Code='TX', Pop_estimate_2014=128353, 2015 median sales price=None),\n",
       " Row(2014 rank=282, City='College Station', State='Texas', State Code='TX', Pop_estimate_2014=103483, 2015 median sales price=None),\n",
       " Row(2014 rank=58, City='Corpus Christi', State='Texas', State Code='TX', Pop_estimate_2014=320434, 2015 median sales price=172.9),\n",
       " Row(2014 rank=9, City='Dallas', State='Texas', State Code='TX', Pop_estimate_2014=1281047, 2015 median sales price=192.5),\n",
       " Row(2014 rank=209, City='Denton', State='Texas', State Code='TX', Pop_estimate_2014=128205, 2015 median sales price=None),\n",
       " Row(2014 rank=19, City='El Paso', State='Texas', State Code='TX', Pop_estimate_2014=679036, 2015 median sales price=138.4),\n",
       " Row(2014 rank=16, City='Fort Worth', State='Texas', State Code='TX', Pop_estimate_2014=812238, 2015 median sales price=None),\n",
       " Row(2014 rank=179, City='Frisco', State='Texas', State Code='TX', Pop_estimate_2014=145035, 2015 median sales price=None),\n",
       " Row(2014 rank=91, City='Garland', State='Texas', State Code='TX', Pop_estimate_2014=235501, 2015 median sales price=None),\n",
       " Row(2014 rank=127, City='Grand Prairie', State='Texas', State Code='TX', Pop_estimate_2014=185453, 2015 median sales price=None),\n",
       " Row(2014 rank=4, City='Houston[7]', State='Texas', State Code='TX', Pop_estimate_2014=2239558, 2015 median sales price=200.3),\n",
       " Row(2014 rank=93, City='Irving', State='Texas', State Code='TX', Pop_estimate_2014=232406, 2015 median sales price=None),\n",
       " Row(2014 rank=188, City='Killeen', State='Texas', State Code='TX', Pop_estimate_2014=138154, 2015 median sales price=None),\n",
       " Row(2014 rank=80, City='Laredo', State='Texas', State Code='TX', Pop_estimate_2014=252309, 2015 median sales price=None),\n",
       " Row(2014 rank=287, City='Lewisville', State='Texas', State Code='TX', Pop_estimate_2014=102889, 2015 median sales price=None),\n",
       " Row(2014 rank=85, City='Lubbock', State='Texas', State Code='TX', Pop_estimate_2014=243839, 2015 median sales price=None),\n",
       " Row(2014 rank=187, City='McAllen', State='Texas', State Code='TX', Pop_estimate_2014=138596, 2015 median sales price=None),\n",
       " Row(2014 rank=157, City='McKinney', State='Texas', State Code='TX', Pop_estimate_2014=156767, 2015 median sales price=None),\n",
       " Row(2014 rank=180, City='Mesquite', State='Texas', State Code='TX', Pop_estimate_2014=144416, 2015 median sales price=None),\n",
       " Row(2014 rank=210, City='Midland', State='Texas', State Code='TX', Pop_estimate_2014=128037, 2015 median sales price=None),\n",
       " Row(2014 rank=239, City='Odessa', State='Texas', State Code='TX', Pop_estimate_2014=114597, 2015 median sales price=None),\n",
       " Row(2014 rank=163, City='Pasadena', State='Texas', State Code='TX', Pop_estimate_2014=153887, 2015 median sales price=None),\n",
       " Row(2014 rank=283, City='Pearland', State='Texas', State Code='TX', Pop_estimate_2014=103441, 2015 median sales price=None),\n",
       " Row(2014 rank=70, City='Plano', State='Texas', State Code='TX', Pop_estimate_2014=278480, 2015 median sales price=None),\n",
       " Row(2014 rank=264, City='Richardson', State='Texas', State Code='TX', Pop_estimate_2014=108617, 2015 median sales price=None),\n",
       " Row(2014 rank=244, City='Round Rock', State='Texas', State Code='TX', Pop_estimate_2014=112744, 2015 median sales price=None),\n",
       " Row(2014 rank=7, City='San Antonio', State='Texas', State Code='TX', Pop_estimate_2014=1436697, 2015 median sales price=184.7),\n",
       " Row(2014 rank=293, City='Tyler', State='Texas', State Code='TX', Pop_estimate_2014=101421, 2015 median sales price=None),\n",
       " Row(2014 rank=199, City='Waco', State='Texas', State Code='TX', Pop_estimate_2014=130194, 2015 median sales price=None),\n",
       " Row(2014 rank=277, City='Wichita Falls', State='Texas', State Code='TX', Pop_estimate_2014=105114, 2015 median sales price=None),\n",
       " Row(2014 rank=237, City='Provo', State='Utah', State Code='UT', Pop_estimate_2014=114801, 2015 median sales price=None),\n",
       " Row(2014 rank=124, City='Salt Lake City', State='Utah', State Code='UT', Pop_estimate_2014=190884, 2015 median sales price=243.3),\n",
       " Row(2014 rank=252, City='West Jordan', State='Utah', State Code='UT', Pop_estimate_2014=110920, 2015 median sales price=None),\n",
       " Row(2014 rank=193, City='West Valley City', State='Utah', State Code='UT', Pop_estimate_2014=134495, 2015 median sales price=None),\n",
       " Row(2014 rank=166, City='Alexandria[15]', State='Virginia', State Code='VA', Pop_estimate_2014=150575, 2015 median sales price=None),\n",
       " Row(2014 rank=92, City='Chesapeake[15]', State='Virginia', State Code='VA', Pop_estimate_2014=233371, 2015 median sales price=None),\n",
       " Row(2014 rank=189, City='Hampton[15]', State='Virginia', State Code='VA', Pop_estimate_2014=136879, 2015 median sales price=None),\n",
       " Row(2014 rank=132, City='Newport News[15]', State='Virginia', State Code='VA', Pop_estimate_2014=182965, 2015 median sales price=None),\n",
       " Row(2014 rank=84, City='Norfolk[15]', State='Virginia', State Code='VA', Pop_estimate_2014=245428, 2015 median sales price=None),\n",
       " Row(2014 rank=98, City='Richmond[15]', State='Virginia', State Code='VA', Pop_estimate_2014=217853, 2015 median sales price=212.5),\n",
       " Row(2014 rank=40, City='Virginia Beach[15]', State='Virginia', State Code='VA', Pop_estimate_2014=450980, 2015 median sales price=190.0),\n",
       " Row(2014 rank=190, City='Bellevue', State='Washington', State Code='WA', Pop_estimate_2014=136426, 2015 median sales price=None),\n",
       " Row(2014 rank=272, City='Everett', State='Washington', State Code='WA', Pop_estimate_2014=106736, 2015 median sales price=None),\n",
       " Row(2014 rank=217, City='Kent', State='Washington', State Code='WA', Pop_estimate_2014=125560, 2015 median sales price=None),\n",
       " Row(2014 rank=20, City='Seattle', State='Washington', State Code='WA', Pop_estimate_2014=668342, 2015 median sales price=352.4),\n",
       " Row(2014 rank=102, City='Spokane', State='Washington', State Code='WA', Pop_estimate_2014=212052, 2015 median sales price=180.2),\n",
       " Row(2014 rank=107, City='Tacoma', State='Washington', State Code='WA', Pop_estimate_2014=205159, 2015 median sales price=None),\n",
       " Row(2014 rank=145, City='Vancouver', State='Washington', State Code='WA', Pop_estimate_2014=169294, 2015 median sales price=None),\n",
       " Row(2014 rank=279, City='Green Bay', State='Wisconsin', State Code='WI', Pop_estimate_2014=104891, 2015 median sales price=None),\n",
       " Row(2014 rank=83, City='Madison', State='Wisconsin', State Code='WI', Pop_estimate_2014=245691, 2015 median sales price=226.2),\n",
       " Row(2014 rank=31, City='Milwaukee', State='Wisconsin', State Code='WI', Pop_estimate_2014=599642, 2015 median sales price=195.4)]"
      ]
     },
     "execution_count": 165,
     "metadata": {},
     "output_type": "execute_result"
    }
   ],
   "source": [
    "pop.collect()"
   ]
  },
  {
   "cell_type": "markdown",
   "metadata": {
    "application/vnd.databricks.v1+cell": {
     "cellMetadata": {
      "byteLimit": 2048000,
      "rowLimit": 10000
     },
     "inputWidgets": {},
     "nuid": "c90e29ef-70bf-4763-968f-9a723b5368e3",
     "showTitle": false,
     "title": ""
    }
   },
   "source": [
    "### (a) (1 điểm): Có bao nhiêu dòng trong dataframe pop?\n"
   ]
  },
  {
   "cell_type": "code",
   "execution_count": null,
   "metadata": {
    "application/vnd.databricks.v1+cell": {
     "cellMetadata": {
      "byteLimit": 2048000,
      "rowLimit": 10000
     },
     "inputWidgets": {},
     "nuid": "46a5859f-aa2e-4843-9fa6-254a193b927a",
     "showTitle": false,
     "title": ""
    }
   },
   "outputs": [
    {
     "name": "stdout",
     "output_type": "stream",
     "text": [
      "Số dòng trong dataframe 'pop': 294\n"
     ]
    }
   ],
   "source": [
    "# Your code goes here\n",
    "row_count = pop.count();\n",
    "print(\"Số dòng trong dataframe 'pop':\", row_count)"
   ]
  },
  {
   "cell_type": "markdown",
   "metadata": {
    "application/vnd.databricks.v1+cell": {
     "cellMetadata": {
      "byteLimit": 2048000,
      "rowLimit": 10000
     },
     "inputWidgets": {},
     "nuid": "fc61c6f3-0ee3-44e3-95b1-d21ff27f0784",
     "showTitle": false,
     "title": ""
    }
   },
   "source": [
    "### (b) (1 điểm): Có bao nhiêu bang (state) trong tập dữ liệu trên?"
   ]
  },
  {
   "cell_type": "code",
   "execution_count": null,
   "metadata": {
    "application/vnd.databricks.v1+cell": {
     "cellMetadata": {
      "byteLimit": 2048000,
      "rowLimit": 10000
     },
     "inputWidgets": {},
     "nuid": "9f4703a9-2712-441f-87bf-36c4a02041a3",
     "showTitle": false,
     "title": ""
    }
   },
   "outputs": [
    {
     "name": "stdout",
     "output_type": "stream",
     "text": [
      "Số bang trong tập dữ liệu: 46\n"
     ]
    }
   ],
   "source": [
    "# Your code goes here\n",
    "num_states = pop.select(\"State\").distinct().count()\n",
    "print(\"Số bang trong tập dữ liệu:\", num_states)"
   ]
  },
  {
   "cell_type": "markdown",
   "metadata": {
    "application/vnd.databricks.v1+cell": {
     "cellMetadata": {
      "byteLimit": 2048000,
      "rowLimit": 10000
     },
     "inputWidgets": {},
     "nuid": "c2581a93-6cd4-47a5-9960-c00018d6ddcb",
     "showTitle": false,
     "title": ""
    }
   },
   "source": [
    "### (c) (3 điểm) Thành phố nào có số dân (2014 Population estimate) đông nhất, thành phố nào có số dân ít nhất?"
   ]
  },
  {
   "cell_type": "code",
   "execution_count": null,
   "metadata": {
    "application/vnd.databricks.v1+cell": {
     "cellMetadata": {
      "byteLimit": 2048000,
      "rowLimit": 10000
     },
     "inputWidgets": {},
     "nuid": "e72ee067-ac12-4b9c-b0db-975f80363c13",
     "showTitle": false,
     "title": ""
    }
   },
   "outputs": [
    {
     "name": "stdout",
     "output_type": "stream",
     "text": [
      "Thành phố có số dân nhiều nhất: New York[6]\n",
      "Thành phố có số dân ít nhất: Macon\n"
     ]
    }
   ],
   "source": [
    "# Your code goes here\n",
    "max_population_city = pop.orderBy(\"Pop_estimate_2014\",  ascending=False).first()\n",
    "min_population_city = pop.orderBy(\"Pop_estimate_2014\",  ascending=True).first()\n",
    "\n",
    "print(\"Thành phố có số dân nhiều nhất:\", max_population_city[\"City\"])\n",
    "print(\"Thành phố có số dân ít nhất:\", min_population_city[\"City\"])"
   ]
  },
  {
   "cell_type": "markdown",
   "metadata": {
    "application/vnd.databricks.v1+cell": {
     "cellMetadata": {
      "byteLimit": 2048000,
      "rowLimit": 10000
     },
     "inputWidgets": {},
     "nuid": "e2944975-0f50-4717-95c0-0b16b5f6d6f9",
     "showTitle": false,
     "title": ""
    }
   },
   "source": [
    "### (d) (5 điểm) Thống kê theo bang:\n",
    "* Số thành phố trong từng bang\n",
    "* Tổng số dân của các thành phố trong bang\n",
    "* Trung bình của giá nhà trung vị\n"
   ]
  },
  {
   "cell_type": "code",
   "execution_count": null,
   "metadata": {
    "application/vnd.databricks.v1+cell": {
     "cellMetadata": {
      "byteLimit": 2048000,
      "rowLimit": 10000
     },
     "inputWidgets": {},
     "nuid": "2684121e-be76-4f0d-b7f3-f0eca996b036",
     "showTitle": false,
     "title": ""
    }
   },
   "outputs": [
    {
     "name": "stdout",
     "output_type": "stream",
     "text": [
      "+--------------------+--------------+--------------+----------------+----------------+\n",
      "|               State|Max Population|Min Population|Max Median Price|Min Median Price|\n",
      "+--------------------+--------------+--------------+----------------+----------------+\n",
      "|                Utah|        190884|        110920|           243.3|           243.3|\n",
      "|             Hawai'i|        350399|        350399|           699.3|           699.3|\n",
      "|           Minnesota|        407207|        111402|           209.4|           209.4|\n",
      "|                Ohio|        835957|        141003|           149.9|            83.8|\n",
      "|            Arkansas|        197706|        197706|           131.8|           131.8|\n",
      "|              Oregon|        619360|        109892|           289.4|           193.9|\n",
      "|               Texas|       2239558|        101421|           249.1|           133.3|\n",
      "|        North Dakota|        115863|        115863|           180.0|           180.0|\n",
      "|        Pennsylvania|       1560297|        119104|           204.9|           162.7|\n",
      "|         Connecticut|        147612|        109307|           342.7|           202.6|\n",
      "|            Nebraska|        446599|        272996|           150.2|           148.1|\n",
      "|              Nevada|        613599|        230788|           268.7|           205.9|\n",
      "|          Washington|        668342|        106736|           352.4|           180.2|\n",
      "|            Illinois|       2722389|        111117|           192.5|            78.6|\n",
      "|            Oklahoma|        620602|        104726|           145.1|           145.1|\n",
      "|District of Columbia|        658893|        658893|           367.8|           367.8|\n",
      "|              Alaska|        301010|        301010|            NULL|            NULL|\n",
      "|          New Mexico|        557169|        101408|           172.2|           172.2|\n",
      "|            Missouri|        470800|        116906|           153.0|           116.5|\n",
      "|        Rhode Island|        179154|        179154|           233.3|           233.3|\n",
      "+--------------------+--------------+--------------+----------------+----------------+\n",
      "only showing top 20 rows\n",
      "\n"
     ]
    }
   ],
   "source": [
    "# Your code goes here\n",
    "from pyspark.sql.functions import max, min\n",
    "\n",
    "state_stats = pop.groupBy(\"State\").agg(\n",
    "    max(\"Pop_estimate_2014\").alias(\"Max Population\"),\n",
    "    min(\"Pop_estimate_2014\").alias(\"Min Population\"),\n",
    "    max(\"2015 median sales price\").alias(\"Max Median Price\"),\n",
    "    min(\"2015 median sales price\").alias(\"Min Median Price\")\n",
    ")\n",
    "\n",
    "state_stats.show()\n"
   ]
  }
 ],
 "metadata": {
  "application/vnd.databricks.v1+notebook": {
   "dashboards": [],
   "language": "python",
   "notebookMetadata": {
    "pythonIndentUnit": 2
   },
   "notebookName": "Lab6_Spark_SQL",
   "widgets": {}
  },
  "kernelspec": {
   "display_name": "Python 3",
   "language": "python",
   "name": "python3"
  },
  "language_info": {
   "codemirror_mode": {
    "name": "ipython",
    "version": 3
   },
   "file_extension": ".py",
   "mimetype": "text/x-python",
   "name": "python",
   "nbconvert_exporter": "python",
   "pygments_lexer": "ipython3",
   "version": "3.10.11"
  }
 },
 "nbformat": 4,
 "nbformat_minor": 0
}
