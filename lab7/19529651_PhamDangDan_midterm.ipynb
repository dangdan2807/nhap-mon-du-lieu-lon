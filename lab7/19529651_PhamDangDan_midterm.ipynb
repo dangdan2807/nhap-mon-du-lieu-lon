{
 "cells": [
  {
   "cell_type": "markdown",
   "metadata": {
    "application/vnd.databricks.v1+cell": {
     "cellMetadata": {},
     "inputWidgets": {},
     "nuid": "5b17345d-fd7a-427d-9bd7-6478dadd4fd1",
     "showTitle": false,
     "title": ""
    }
   },
   "source": [
    "### TRƯỜNG ĐẠI HỌC CÔNG NGHIỆP THÀNH PHỐ HỒ CHÍ MINH\n",
    "### KHOA Công nghệ Thông tin   \n",
    "## ĐỀ THI GIỮA KỲ\n",
    "### Môn thi : Nhập môn dữ liệu lớn \n",
    "### Lớp/Lớp học phần:  DHKHDL16A\n",
    "* Ngày thi: 28/10/2023\n",
    "* Thời gian làm bài: 60 phút (Không kể thời gian phát đề)\n",
    "* Thí sinh được sử dụng tài liệu và tra cứu Internet"
   ]
  },
  {
   "cell_type": "markdown",
   "metadata": {
    "application/vnd.databricks.v1+cell": {
     "cellMetadata": {},
     "inputWidgets": {},
     "nuid": "6ed0438a-5635-4a58-8ea9-d2a08bcaadb0",
     "showTitle": false,
     "title": ""
    }
   },
   "source": [
    "## Lưu ý:\n",
    "\n",
    "* Để chuẩn bị cho thi giữa kỳ hôm nay, các bạn phải tạo một tài khoản community của Databricks. Các bạn làm theo hướng dẫn trong\n",
    "https://lms.iuh.edu.vn/mod/assign/view.php?id=240288\n",
    "(Lab 4 - Databricks and PySpark.pdf)\n",
    "\n",
    "* Đầu buổi thi, giám thị sẽ chỉ dẫn tạo tài khoản Databricks cho các bạn chưa tạo được tài khoản\n",
    "* Các bạn sẽ upload file Introduction_to_Big_Data_midterm.ipynb lên Databricks\n",
    "* Đổi tên file ipynb thành <mã sinh viên>_<Họ Tên>_midterm.ipynb (Ví dụ 123456_NguyenVanA_midterm.ipynb)\n",
    "* Sau khi hoàn thành bài thi trên Databricks, download notebook và nộp file ipynb trong LMS tại địa chỉ do giám thị cung cấp\n",
    "* Các phần code để test chỉ để giúp các bạn viết code, nếu các bài test bị sai, code của bạn vẫn được chấm điểm\n",
    "* Link nộp bài (chỉ nộp file ipynb) \n",
    "https://lms.iuh.edu.vn/mod/assign/view.php?id=246956"
   ]
  },
  {
   "cell_type": "markdown",
   "metadata": {
    "application/vnd.databricks.v1+cell": {
     "cellMetadata": {},
     "inputWidgets": {},
     "nuid": "a6cff1e1-360f-4431-ad75-50b17605e4ea",
     "showTitle": false,
     "title": ""
    }
   },
   "source": [
    "### Họ và tên: Phạm Đăng Đan\n",
    "### Mã sinh viên: 19529651\n",
    "### Số máy:"
   ]
  },
  {
   "cell_type": "markdown",
   "metadata": {
    "application/vnd.databricks.v1+cell": {
     "cellMetadata": {},
     "inputWidgets": {},
     "nuid": "3fb43479-ae77-4d48-a2b4-eaf005c8da14",
     "showTitle": false,
     "title": ""
    }
   },
   "source": [
    "### Câu 1 (0.5 điểm) Tạo RDD từ một list đầu vào\n",
    "Viết một hàm trong Pyspark để tạo một RDD từ một list đầu vào sử dụng method `sc.parallelize`"
   ]
  },
  {
   "cell_type": "code",
   "execution_count": 9,
   "metadata": {
    "application/vnd.databricks.v1+cell": {
     "cellMetadata": {
      "byteLimit": 2048000,
      "rowLimit": 10000
     },
     "inputWidgets": {},
     "nuid": "c22f86e8-bde1-46b1-898d-daeb66358760",
     "showTitle": false,
     "title": ""
    }
   },
   "outputs": [],
   "source": [
    "from pyspark.sql import SparkSession\n",
    "spark = SparkSession.builder.appName(\"19529651_PhamDangDan\").getOrCreate()\n",
    "sc = spark.sparkContext\n",
    "\n",
    "def createRdd(in_list):\n",
    "    rdd_out = sc.parallelize(in_list)\n",
    "    sc.stop()\n",
    "    return rdd_out"
   ]
  },
  {
   "cell_type": "code",
   "execution_count": 10,
   "metadata": {
    "application/vnd.databricks.v1+cell": {
     "cellMetadata": {
      "byteLimit": 2048000,
      "rowLimit": 10000
     },
     "inputWidgets": {},
     "nuid": "1b380411-2886-482c-b952-edb99aea65f3",
     "showTitle": false,
     "title": ""
    }
   },
   "outputs": [
    {
     "ename": "AttributeError",
     "evalue": "'NoneType' object has no attribute 'setCallSite'",
     "output_type": "error",
     "traceback": [
      "\u001b[1;31m---------------------------------------------------------------------------\u001b[0m",
      "\u001b[1;31mAttributeError\u001b[0m                            Traceback (most recent call last)",
      "\u001b[1;32mc:\\Users\\GF66\\Desktop\\Disk_D\\nhap_mon_dl_lon\\19529651_PhamDangDan_midterm.ipynb Cell 6\u001b[0m line \u001b[0;36m5\n\u001b[0;32m      <a href='vscode-notebook-cell:/c%3A/Users/GF66/Desktop/Disk_D/nhap_mon_dl_lon/19529651_PhamDangDan_midterm.ipynb#W5sZmlsZQ%3D%3D?line=1'>2</a>\u001b[0m ds_class \u001b[39m=\u001b[39m [\u001b[39m'\u001b[39m\u001b[39mTuan\u001b[39m\u001b[39m'\u001b[39m, \u001b[39m'\u001b[39m\u001b[39mHoang\u001b[39m\u001b[39m'\u001b[39m, \u001b[39m'\u001b[39m\u001b[39mMinh\u001b[39m\u001b[39m'\u001b[39m, \u001b[39m'\u001b[39m\u001b[39mNga\u001b[39m\u001b[39m'\u001b[39m, \u001b[39m'\u001b[39m\u001b[39mTam\u001b[39m\u001b[39m'\u001b[39m, \u001b[39m'\u001b[39m\u001b[39mTuan\u001b[39m\u001b[39m'\u001b[39m, \u001b[39m'\u001b[39m\u001b[39mMinh\u001b[39m\u001b[39m'\u001b[39m, \u001b[39m'\u001b[39m\u001b[39mTam\u001b[39m\u001b[39m'\u001b[39m, \u001b[39m'\u001b[39m\u001b[39mTuan\u001b[39m\u001b[39m'\u001b[39m, \u001b[39m'\u001b[39m\u001b[39mPhuong\u001b[39m\u001b[39m'\u001b[39m]\n\u001b[0;32m      <a href='vscode-notebook-cell:/c%3A/Users/GF66/Desktop/Disk_D/nhap_mon_dl_lon/19529651_PhamDangDan_midterm.ipynb#W5sZmlsZQ%3D%3D?line=2'>3</a>\u001b[0m is_class \u001b[39m=\u001b[39m [\u001b[39m'\u001b[39m\u001b[39mTuan\u001b[39m\u001b[39m'\u001b[39m, \u001b[39m'\u001b[39m\u001b[39mThanh\u001b[39m\u001b[39m'\u001b[39m, \u001b[39m'\u001b[39m\u001b[39mThong\u001b[39m\u001b[39m'\u001b[39m, \u001b[39m'\u001b[39m\u001b[39mLien\u001b[39m\u001b[39m'\u001b[39m, \u001b[39m'\u001b[39m\u001b[39mMinh\u001b[39m\u001b[39m'\u001b[39m, \u001b[39m'\u001b[39m\u001b[39mQuoc\u001b[39m\u001b[39m'\u001b[39m, \u001b[39m'\u001b[39m\u001b[39mHo\u001b[39m\u001b[39m'\u001b[39m, \u001b[39m'\u001b[39m\u001b[39mThong\u001b[39m\u001b[39m'\u001b[39m, \u001b[39m'\u001b[39m\u001b[39mBinh\u001b[39m\u001b[39m'\u001b[39m, \u001b[39m'\u001b[39m\u001b[39mThuy\u001b[39m\u001b[39m'\u001b[39m]\n\u001b[1;32m----> <a href='vscode-notebook-cell:/c%3A/Users/GF66/Desktop/Disk_D/nhap_mon_dl_lon/19529651_PhamDangDan_midterm.ipynb#W5sZmlsZQ%3D%3D?line=4'>5</a>\u001b[0m \u001b[39massert\u001b[39;00m createRdd(ds_class)\u001b[39m.\u001b[39;49mcollect() \u001b[39m==\u001b[39m ds_class, \u001b[39m\"\u001b[39m\u001b[39mcreateRdd() error!\u001b[39m\u001b[39m\"\u001b[39m\n\u001b[0;32m      <a href='vscode-notebook-cell:/c%3A/Users/GF66/Desktop/Disk_D/nhap_mon_dl_lon/19529651_PhamDangDan_midterm.ipynb#W5sZmlsZQ%3D%3D?line=5'>6</a>\u001b[0m \u001b[39massert\u001b[39;00m createRdd(is_class)\u001b[39m.\u001b[39mcollect() \u001b[39m==\u001b[39m is_class, \u001b[39m\"\u001b[39m\u001b[39mcreateRdd() error!\u001b[39m\u001b[39m\"\u001b[39m\n",
      "File \u001b[1;32m~\\AppData\\Local\\Packages\\PythonSoftwareFoundation.Python.3.10_qbz5n2kfra8p0\\LocalCache\\local-packages\\Python310\\site-packages\\pyspark\\rdd.py:1831\u001b[0m, in \u001b[0;36mRDD.collect\u001b[1;34m(self)\u001b[0m\n\u001b[0;32m   1803\u001b[0m \u001b[39mdef\u001b[39;00m \u001b[39mcollect\u001b[39m(\u001b[39mself\u001b[39m: \u001b[39m\"\u001b[39m\u001b[39mRDD[T]\u001b[39m\u001b[39m\"\u001b[39m) \u001b[39m-\u001b[39m\u001b[39m>\u001b[39m List[T]:\n\u001b[0;32m   1804\u001b[0m     \u001b[39m\"\"\"\u001b[39;00m\n\u001b[0;32m   1805\u001b[0m \u001b[39m    Return a list that contains all the elements in this RDD.\u001b[39;00m\n\u001b[0;32m   1806\u001b[0m \n\u001b[1;32m   (...)\u001b[0m\n\u001b[0;32m   1829\u001b[0m \u001b[39m    ['x', 'y', 'z']\u001b[39;00m\n\u001b[0;32m   1830\u001b[0m \u001b[39m    \"\"\"\u001b[39;00m\n\u001b[1;32m-> 1831\u001b[0m     \u001b[39mwith\u001b[39;00m SCCallSiteSync(\u001b[39mself\u001b[39m\u001b[39m.\u001b[39mcontext):\n\u001b[0;32m   1832\u001b[0m         \u001b[39massert\u001b[39;00m \u001b[39mself\u001b[39m\u001b[39m.\u001b[39mctx\u001b[39m.\u001b[39m_jvm \u001b[39mis\u001b[39;00m \u001b[39mnot\u001b[39;00m \u001b[39mNone\u001b[39;00m\n\u001b[0;32m   1833\u001b[0m         sock_info \u001b[39m=\u001b[39m \u001b[39mself\u001b[39m\u001b[39m.\u001b[39mctx\u001b[39m.\u001b[39m_jvm\u001b[39m.\u001b[39mPythonRDD\u001b[39m.\u001b[39mcollectAndServe(\u001b[39mself\u001b[39m\u001b[39m.\u001b[39m_jrdd\u001b[39m.\u001b[39mrdd())\n",
      "File \u001b[1;32m~\\AppData\\Local\\Packages\\PythonSoftwareFoundation.Python.3.10_qbz5n2kfra8p0\\LocalCache\\local-packages\\Python310\\site-packages\\pyspark\\traceback_utils.py:75\u001b[0m, in \u001b[0;36mSCCallSiteSync.__enter__\u001b[1;34m(self)\u001b[0m\n\u001b[0;32m     73\u001b[0m \u001b[39mdef\u001b[39;00m \u001b[39m__enter__\u001b[39m(\u001b[39mself\u001b[39m):\n\u001b[0;32m     74\u001b[0m     \u001b[39mif\u001b[39;00m SCCallSiteSync\u001b[39m.\u001b[39m_spark_stack_depth \u001b[39m==\u001b[39m \u001b[39m0\u001b[39m:\n\u001b[1;32m---> 75\u001b[0m         \u001b[39mself\u001b[39;49m\u001b[39m.\u001b[39;49m_context\u001b[39m.\u001b[39;49m_jsc\u001b[39m.\u001b[39;49msetCallSite(\u001b[39mself\u001b[39m\u001b[39m.\u001b[39m_call_site)\n\u001b[0;32m     76\u001b[0m     SCCallSiteSync\u001b[39m.\u001b[39m_spark_stack_depth \u001b[39m+\u001b[39m\u001b[39m=\u001b[39m \u001b[39m1\u001b[39m\n",
      "\u001b[1;31mAttributeError\u001b[0m: 'NoneType' object has no attribute 'setCallSite'"
     ]
    }
   ],
   "source": [
    "# Test \n",
    "ds_class = ['Tuan', 'Hoang', 'Minh', 'Nga', 'Tam', 'Tuan', 'Minh', 'Tam', 'Tuan', 'Phuong']\n",
    "is_class = ['Tuan', 'Thanh', 'Thong', 'Lien', 'Minh', 'Quoc', 'Ho', 'Thong', 'Binh', 'Thuy']\n",
    "\n",
    "assert createRdd(ds_class).collect() == ds_class, \"createRdd() error!\"\n",
    "assert createRdd(is_class).collect() == is_class, \"createRdd() error!\"\n"
   ]
  },
  {
   "cell_type": "markdown",
   "metadata": {
    "application/vnd.databricks.v1+cell": {
     "cellMetadata": {},
     "inputWidgets": {},
     "nuid": "2f22ea5f-571d-4696-aa4b-94ad4a601f83",
     "showTitle": false,
     "title": ""
    }
   },
   "source": [
    "### Câu 2 (1 điểm) Viết một hàm để nhận danh sách lớp dưới dạng RDD, tên lớp, và trả về RDD có các thành phần dạng (name, class). Xem minh hoạ trong phần test dưới đây"
   ]
  },
  {
   "cell_type": "code",
   "execution_count": 11,
   "metadata": {
    "application/vnd.databricks.v1+cell": {
     "cellMetadata": {
      "byteLimit": 2048000,
      "rowLimit": 10000
     },
     "inputWidgets": {},
     "nuid": "579e5ebf-7458-4f00-a7fe-1997703fce21",
     "showTitle": false,
     "title": ""
    }
   },
   "outputs": [],
   "source": [
    "def addClass(inRdd, cls):\n",
    "  def add_class_to_name(name):\n",
    "    return (name, cls)\n",
    "\n",
    "  outRdd = inRdd.map(add_class_to_name)\n",
    "  return outRdd"
   ]
  },
  {
   "cell_type": "code",
   "execution_count": 12,
   "metadata": {
    "application/vnd.databricks.v1+cell": {
     "cellMetadata": {
      "byteLimit": 2048000,
      "rowLimit": 10000
     },
     "inputWidgets": {},
     "nuid": "bf7cb416-3f25-44e0-9f66-65f87210d18d",
     "showTitle": false,
     "title": ""
    }
   },
   "outputs": [
    {
     "ename": "AttributeError",
     "evalue": "'NoneType' object has no attribute 'sc'",
     "output_type": "error",
     "traceback": [
      "\u001b[1;31m---------------------------------------------------------------------------\u001b[0m",
      "\u001b[1;31mAttributeError\u001b[0m                            Traceback (most recent call last)",
      "\u001b[1;32mc:\\Users\\GF66\\Desktop\\Disk_D\\nhap_mon_dl_lon\\19529651_PhamDangDan_midterm.ipynb Cell 9\u001b[0m line \u001b[0;36m5\n\u001b[0;32m      <a href='vscode-notebook-cell:/c%3A/Users/GF66/Desktop/Disk_D/nhap_mon_dl_lon/19529651_PhamDangDan_midterm.ipynb#X11sZmlsZQ%3D%3D?line=1'>2</a>\u001b[0m ds_class \u001b[39m=\u001b[39m [\u001b[39m'\u001b[39m\u001b[39mTuan\u001b[39m\u001b[39m'\u001b[39m, \u001b[39m'\u001b[39m\u001b[39mHoang\u001b[39m\u001b[39m'\u001b[39m, \u001b[39m'\u001b[39m\u001b[39mMinh\u001b[39m\u001b[39m'\u001b[39m, \u001b[39m'\u001b[39m\u001b[39mNga\u001b[39m\u001b[39m'\u001b[39m, \u001b[39m'\u001b[39m\u001b[39mTam\u001b[39m\u001b[39m'\u001b[39m, \u001b[39m'\u001b[39m\u001b[39mTuan\u001b[39m\u001b[39m'\u001b[39m, \u001b[39m'\u001b[39m\u001b[39mMinh\u001b[39m\u001b[39m'\u001b[39m, \u001b[39m'\u001b[39m\u001b[39mTam\u001b[39m\u001b[39m'\u001b[39m, \u001b[39m'\u001b[39m\u001b[39mTuan\u001b[39m\u001b[39m'\u001b[39m, \u001b[39m'\u001b[39m\u001b[39mPhuong\u001b[39m\u001b[39m'\u001b[39m]\n\u001b[0;32m      <a href='vscode-notebook-cell:/c%3A/Users/GF66/Desktop/Disk_D/nhap_mon_dl_lon/19529651_PhamDangDan_midterm.ipynb#X11sZmlsZQ%3D%3D?line=2'>3</a>\u001b[0m is_class \u001b[39m=\u001b[39m [\u001b[39m'\u001b[39m\u001b[39mTuan\u001b[39m\u001b[39m'\u001b[39m, \u001b[39m'\u001b[39m\u001b[39mThanh\u001b[39m\u001b[39m'\u001b[39m, \u001b[39m'\u001b[39m\u001b[39mThong\u001b[39m\u001b[39m'\u001b[39m, \u001b[39m'\u001b[39m\u001b[39mLien\u001b[39m\u001b[39m'\u001b[39m, \u001b[39m'\u001b[39m\u001b[39mMinh\u001b[39m\u001b[39m'\u001b[39m, \u001b[39m'\u001b[39m\u001b[39mQuoc\u001b[39m\u001b[39m'\u001b[39m, \u001b[39m'\u001b[39m\u001b[39mHo\u001b[39m\u001b[39m'\u001b[39m, \u001b[39m'\u001b[39m\u001b[39mThong\u001b[39m\u001b[39m'\u001b[39m, \u001b[39m'\u001b[39m\u001b[39mBinh\u001b[39m\u001b[39m'\u001b[39m, \u001b[39m'\u001b[39m\u001b[39mThuy\u001b[39m\u001b[39m'\u001b[39m]\n\u001b[1;32m----> <a href='vscode-notebook-cell:/c%3A/Users/GF66/Desktop/Disk_D/nhap_mon_dl_lon/19529651_PhamDangDan_midterm.ipynb#X11sZmlsZQ%3D%3D?line=4'>5</a>\u001b[0m rdd_ds \u001b[39m=\u001b[39m sc\u001b[39m.\u001b[39;49mparallelize(ds_class)\n\u001b[0;32m      <a href='vscode-notebook-cell:/c%3A/Users/GF66/Desktop/Disk_D/nhap_mon_dl_lon/19529651_PhamDangDan_midterm.ipynb#X11sZmlsZQ%3D%3D?line=5'>6</a>\u001b[0m rdd_is \u001b[39m=\u001b[39m sc\u001b[39m.\u001b[39mparallelize(is_class)\n\u001b[0;32m      <a href='vscode-notebook-cell:/c%3A/Users/GF66/Desktop/Disk_D/nhap_mon_dl_lon/19529651_PhamDangDan_midterm.ipynb#X11sZmlsZQ%3D%3D?line=7'>8</a>\u001b[0m list_ds_out \u001b[39m=\u001b[39m [(\u001b[39m'\u001b[39m\u001b[39mTuan\u001b[39m\u001b[39m'\u001b[39m, \u001b[39m'\u001b[39m\u001b[39mDS\u001b[39m\u001b[39m'\u001b[39m), (\u001b[39m'\u001b[39m\u001b[39mHoang\u001b[39m\u001b[39m'\u001b[39m, \u001b[39m'\u001b[39m\u001b[39mDS\u001b[39m\u001b[39m'\u001b[39m), (\u001b[39m'\u001b[39m\u001b[39mMinh\u001b[39m\u001b[39m'\u001b[39m, \u001b[39m'\u001b[39m\u001b[39mDS\u001b[39m\u001b[39m'\u001b[39m), (\u001b[39m'\u001b[39m\u001b[39mNga\u001b[39m\u001b[39m'\u001b[39m, \u001b[39m'\u001b[39m\u001b[39mDS\u001b[39m\u001b[39m'\u001b[39m), (\u001b[39m'\u001b[39m\u001b[39mTam\u001b[39m\u001b[39m'\u001b[39m, \u001b[39m'\u001b[39m\u001b[39mDS\u001b[39m\u001b[39m'\u001b[39m), (\u001b[39m'\u001b[39m\u001b[39mTuan\u001b[39m\u001b[39m'\u001b[39m, \u001b[39m'\u001b[39m\u001b[39mDS\u001b[39m\u001b[39m'\u001b[39m), (\u001b[39m'\u001b[39m\u001b[39mMinh\u001b[39m\u001b[39m'\u001b[39m, \u001b[39m'\u001b[39m\u001b[39mDS\u001b[39m\u001b[39m'\u001b[39m), (\u001b[39m'\u001b[39m\u001b[39mTam\u001b[39m\u001b[39m'\u001b[39m, \u001b[39m'\u001b[39m\u001b[39mDS\u001b[39m\u001b[39m'\u001b[39m), (\u001b[39m'\u001b[39m\u001b[39mTuan\u001b[39m\u001b[39m'\u001b[39m, \u001b[39m'\u001b[39m\u001b[39mDS\u001b[39m\u001b[39m'\u001b[39m),(\u001b[39m'\u001b[39m\u001b[39mPhuong\u001b[39m\u001b[39m'\u001b[39m, \u001b[39m'\u001b[39m\u001b[39mDS\u001b[39m\u001b[39m'\u001b[39m)]\n",
      "File \u001b[1;32m~\\AppData\\Local\\Packages\\PythonSoftwareFoundation.Python.3.10_qbz5n2kfra8p0\\LocalCache\\local-packages\\Python310\\site-packages\\pyspark\\context.py:783\u001b[0m, in \u001b[0;36mSparkContext.parallelize\u001b[1;34m(self, c, numSlices)\u001b[0m\n\u001b[0;32m    751\u001b[0m \u001b[39mdef\u001b[39;00m \u001b[39mparallelize\u001b[39m(\u001b[39mself\u001b[39m, c: Iterable[T], numSlices: Optional[\u001b[39mint\u001b[39m] \u001b[39m=\u001b[39m \u001b[39mNone\u001b[39;00m) \u001b[39m-\u001b[39m\u001b[39m>\u001b[39m RDD[T]:\n\u001b[0;32m    752\u001b[0m     \u001b[39m\"\"\"\u001b[39;00m\n\u001b[0;32m    753\u001b[0m \u001b[39m    Distribute a local Python collection to form an RDD. Using range\u001b[39;00m\n\u001b[0;32m    754\u001b[0m \u001b[39m    is recommended if the input represents a range for performance.\u001b[39;00m\n\u001b[1;32m   (...)\u001b[0m\n\u001b[0;32m    781\u001b[0m \u001b[39m    [['a'], ['b', 'c']]\u001b[39;00m\n\u001b[0;32m    782\u001b[0m \u001b[39m    \"\"\"\u001b[39;00m\n\u001b[1;32m--> 783\u001b[0m     numSlices \u001b[39m=\u001b[39m \u001b[39mint\u001b[39m(numSlices) \u001b[39mif\u001b[39;00m numSlices \u001b[39mis\u001b[39;00m \u001b[39mnot\u001b[39;00m \u001b[39mNone\u001b[39;00m \u001b[39melse\u001b[39;00m \u001b[39mself\u001b[39;49m\u001b[39m.\u001b[39;49mdefaultParallelism\n\u001b[0;32m    784\u001b[0m     \u001b[39mif\u001b[39;00m \u001b[39misinstance\u001b[39m(c, \u001b[39mrange\u001b[39m):\n\u001b[0;32m    785\u001b[0m         size \u001b[39m=\u001b[39m \u001b[39mlen\u001b[39m(c)\n",
      "File \u001b[1;32m~\\AppData\\Local\\Packages\\PythonSoftwareFoundation.Python.3.10_qbz5n2kfra8p0\\LocalCache\\local-packages\\Python310\\site-packages\\pyspark\\context.py:630\u001b[0m, in \u001b[0;36mSparkContext.defaultParallelism\u001b[1;34m(self)\u001b[0m\n\u001b[0;32m    618\u001b[0m \u001b[39m@property\u001b[39m\n\u001b[0;32m    619\u001b[0m \u001b[39mdef\u001b[39;00m \u001b[39mdefaultParallelism\u001b[39m(\u001b[39mself\u001b[39m) \u001b[39m-\u001b[39m\u001b[39m>\u001b[39m \u001b[39mint\u001b[39m:\n\u001b[0;32m    620\u001b[0m     \u001b[39m\"\"\"\u001b[39;00m\n\u001b[0;32m    621\u001b[0m \u001b[39m    Default level of parallelism to use when not given by user (e.g. for reduce tasks)\u001b[39;00m\n\u001b[0;32m    622\u001b[0m \n\u001b[1;32m   (...)\u001b[0m\n\u001b[0;32m    628\u001b[0m \u001b[39m    True\u001b[39;00m\n\u001b[0;32m    629\u001b[0m \u001b[39m    \"\"\"\u001b[39;00m\n\u001b[1;32m--> 630\u001b[0m     \u001b[39mreturn\u001b[39;00m \u001b[39mself\u001b[39;49m\u001b[39m.\u001b[39;49m_jsc\u001b[39m.\u001b[39;49msc()\u001b[39m.\u001b[39mdefaultParallelism()\n",
      "\u001b[1;31mAttributeError\u001b[0m: 'NoneType' object has no attribute 'sc'"
     ]
    }
   ],
   "source": [
    "# Test \n",
    "ds_class = ['Tuan', 'Hoang', 'Minh', 'Nga', 'Tam', 'Tuan', 'Minh', 'Tam', 'Tuan', 'Phuong']\n",
    "is_class = ['Tuan', 'Thanh', 'Thong', 'Lien', 'Minh', 'Quoc', 'Ho', 'Thong', 'Binh', 'Thuy']\n",
    "\n",
    "rdd_ds = sc.parallelize(ds_class)\n",
    "rdd_is = sc.parallelize(is_class)\n",
    "\n",
    "list_ds_out = [('Tuan', 'DS'), ('Hoang', 'DS'), ('Minh', 'DS'), ('Nga', 'DS'), ('Tam', 'DS'), ('Tuan', 'DS'), ('Minh', 'DS'), ('Tam', 'DS'), ('Tuan', 'DS'),('Phuong', 'DS')]\n",
    "list_is_out = [('Tuan', 'IS'), ('Thanh', 'IS'), ('Thong', 'IS'), ('Lien', 'IS'), ('Minh', 'IS'), ('Quoc', 'IS'), ('Ho', 'IS'), ('Thong', 'IS'), ('Binh', 'IS'),('Thuy', 'IS')]\n",
    "\n",
    "assert addClass(rdd_ds, 'DS').collect() == list_ds_out, \"addClass() error!\"\n",
    "assert addClass(rdd_is, 'IS').collect() == list_is_out, \"addClass() error!\""
   ]
  },
  {
   "cell_type": "markdown",
   "metadata": {
    "application/vnd.databricks.v1+cell": {
     "cellMetadata": {
      "byteLimit": 2048000,
      "rowLimit": 10000
     },
     "inputWidgets": {},
     "nuid": "e9c5cf58-4baf-4876-a9d2-c1a793cab18f",
     "showTitle": false,
     "title": ""
    }
   },
   "source": [
    "### Câu 3 (0.5 điểm) Sử dụng hàm `union()` của Pyspark, viết một hàm để nối 2 RDD đầu vào."
   ]
  },
  {
   "cell_type": "code",
   "execution_count": null,
   "metadata": {
    "application/vnd.databricks.v1+cell": {
     "cellMetadata": {},
     "inputWidgets": {},
     "nuid": "88390443-c2bf-4bf3-97ae-5195bf3b0517",
     "showTitle": false,
     "title": ""
    }
   },
   "outputs": [],
   "source": [
    "def rddMerge(rdd1, rdd2): \n",
    "\n",
    "  # Your code goes here\n",
    "\n",
    "  return rdd_merged\n",
    "\n"
   ]
  },
  {
   "cell_type": "code",
   "execution_count": null,
   "metadata": {
    "application/vnd.databricks.v1+cell": {
     "cellMetadata": {},
     "inputWidgets": {},
     "nuid": "17db76d7-a8a3-4ca4-81cc-d41f6e2a59c0",
     "showTitle": false,
     "title": ""
    }
   },
   "outputs": [],
   "source": [
    "list_ds_out = [('Tuan', 'DS'), ('Hoang', 'DS'), ('Minh', 'DS'), ('Nga', 'DS'), ('Tam', 'DS'), ('Tuan', 'DS'), ('Minh', 'DS'), ('Tam', 'DS'), ('Tuan', 'DS'),('Phuong', 'DS')]\n",
    "list_is_out = [('Tuan', 'IS'), ('Thanh', 'IS'), ('Thong', 'IS'), ('Lien', 'IS'), ('Minh', 'IS'), ('Quoc', 'IS'), ('Ho', 'IS'), ('Thong', 'IS'), ('Binh', 'IS'),('Thuy', 'IS')]\n",
    "\n",
    "assert rddMerge(sc.parallelize(list_ds_out), sc.parallelize(list_is_out)).collect() == \\\n",
    "                              [('Tuan', 'DS'), ('Hoang', 'DS'), ('Minh', 'DS'), ('Nga', 'DS'), ('Tam', 'DS'), ('Tuan', 'DS'), ('Minh', 'DS'), ('Tam', 'DS'), ('Tuan', 'DS'), ('Phuong', 'DS'), ('Tuan', 'IS'), ('Thanh', 'IS'),('Thong', 'IS'), ('Lien', 'IS'), ('Minh', 'IS'), ('Quoc', 'IS'), ('Ho', 'IS'), ('Thong', 'IS'), ('Binh', 'IS'), ('Thuy', 'IS')]"
   ]
  },
  {
   "cell_type": "markdown",
   "metadata": {
    "application/vnd.databricks.v1+cell": {
     "cellMetadata": {},
     "inputWidgets": {},
     "nuid": "b0920652-4fb9-4af4-a3e8-5b2603212cc4",
     "showTitle": false,
     "title": ""
    }
   },
   "source": [
    "### Câu 4 (0.5 điểm) Tìm số lượng tên unique trong cả hai lớp DS và IS trong đó rdd_ds và rdd_is được cho như trong phần tests"
   ]
  },
  {
   "cell_type": "code",
   "execution_count": null,
   "metadata": {
    "application/vnd.databricks.v1+cell": {
     "cellMetadata": {},
     "inputWidgets": {},
     "nuid": "e679ddec-1af3-4bd8-9b47-e7fbed0e6326",
     "showTitle": false,
     "title": ""
    }
   },
   "outputs": [],
   "source": [
    "def numUniqueName(rdd_ds, rdd_is):\n",
    "  \n",
    "  # Your code goes here\n",
    "\n",
    "\n",
    "  return num_names\n",
    "  "
   ]
  },
  {
   "cell_type": "code",
   "execution_count": null,
   "metadata": {
    "application/vnd.databricks.v1+cell": {
     "cellMetadata": {},
     "inputWidgets": {},
     "nuid": "0ba24c11-0189-492c-9aec-e2bf14f29d55",
     "showTitle": false,
     "title": ""
    }
   },
   "outputs": [],
   "source": [
    "# Tests\n",
    "\n",
    "ds_class = ['Tuan', 'Hoang', 'Minh', 'Nga', 'Tam', 'Tuan', 'Minh', 'Tam', 'Tuan', 'Phuong']\n",
    "is_class = ['Tuan', 'Thanh', 'Thong', 'Lien', 'Minh', 'Quoc', 'Ho', 'Thong', 'Binh', 'Thuy']\n",
    "\n",
    "rdd_ds = addClass(sc.parallelize(ds_class), 'DS')\n",
    "rdd_is = addClass(sc.parallelize(is_class), 'IS')\n",
    "\n",
    "assert numUniqueName(rdd_ds, rdd_is) == 13"
   ]
  },
  {
   "cell_type": "markdown",
   "metadata": {
    "application/vnd.databricks.v1+cell": {
     "cellMetadata": {},
     "inputWidgets": {},
     "nuid": "c0565cd1-f35b-4b2f-a662-29ac86eea831",
     "showTitle": false,
     "title": ""
    }
   },
   "source": [
    "## Câu 5 (0.5 điểm): Tìm số lượng sinh viên ứng với mỗi tên sinh viên trong cả hai lớp cho từ đầu vào "
   ]
  },
  {
   "cell_type": "code",
   "execution_count": null,
   "metadata": {
    "application/vnd.databricks.v1+cell": {
     "cellMetadata": {},
     "inputWidgets": {},
     "nuid": "a6bb181e-482c-4a16-ac2f-ebac2145307e",
     "showTitle": false,
     "title": ""
    }
   },
   "outputs": [],
   "source": [
    "def getNumStudentsByName(rdd_ds, rdd_is):\n",
    "  \n",
    "  # Your code goes here\n",
    "\n",
    "\n",
    "  return outRdd"
   ]
  },
  {
   "cell_type": "code",
   "execution_count": null,
   "metadata": {
    "application/vnd.databricks.v1+cell": {
     "cellMetadata": {},
     "inputWidgets": {},
     "nuid": "173a2e63-8553-487b-a381-706ef144dfde",
     "showTitle": false,
     "title": ""
    }
   },
   "outputs": [],
   "source": [
    "# Tests\n",
    "\n",
    "ds_class = ['Tuan', 'Hoang', 'Minh', 'Nga', 'Tam', 'Tuan', 'Minh', 'Tam', 'Tuan', 'Phuong']\n",
    "is_class = ['Tuan', 'Thanh', 'Thong', 'Lien', 'Minh', 'Quoc', 'Ho', 'Thong', 'Binh', 'Thuy']\n",
    "\n",
    "rdd_ds = addClass(sc.parallelize(ds_class), 'DS')\n",
    "rdd_is = addClass(sc.parallelize(is_class), 'IS')\n",
    "\n",
    "assert getNumStudentsByName(rdd_ds, rdd_is).collect() == \\\n",
    "                                [('Ho', 1),('Thanh', 1),('Nga', 1),('Tuan', 4),('Tam', 2),('Binh', 1),                         ('Quoc', 1),\n",
    "                                  ('Thuy', 1),('Minh', 3),('Thong', 2),('Hoang', 1),('Lien', 1),('Phuong', 1)]\n"
   ]
  },
  {
   "cell_type": "markdown",
   "metadata": {
    "application/vnd.databricks.v1+cell": {
     "cellMetadata": {},
     "inputWidgets": {},
     "nuid": "731d9505-a384-4fbd-9a2c-312092864039",
     "showTitle": false,
     "title": ""
    }
   },
   "source": [
    "##  Câu 6 (0.5 điểm) Viết hoa và chấm câu\n",
    "\n",
    "Khi làm việc với dữ liệu thực tế, chúng ta cần xem xét:\n",
    "   + Một từ có thể được viết hoa hoặc viết thường nhưng vẫn coi là cùng một từ (ví dụ: Spark và spark nên được tính là cùng một từ).\n",
    "   + Cần loại bỏ tất cả các dấu câu.\n",
    "   + Bất kỳ khoảng trắng đầu hoặc cuối trên một dòng phải được loại bỏ.\n",
    "\n",
    "Xây dựng hàm removePunctuation() để chuyển đổi tất cả văn bản thành chữ thường, loại bỏ bất kỳ dấu câu nào và xóa các khoảng trắng ở đầu và cuối."
   ]
  },
  {
   "cell_type": "code",
   "execution_count": null,
   "metadata": {
    "application/vnd.databricks.v1+cell": {
     "cellMetadata": {
      "byteLimit": 2048000,
      "rowLimit": 10000
     },
     "inputWidgets": {},
     "nuid": "6c3bfe6d-ad5a-4dd3-bc79-71650039579b",
     "showTitle": false,
     "title": ""
    }
   },
   "outputs": [],
   "source": [
    "import re\n",
    "def removePunctuation(text):\n",
    "    \"\"\"Removes punctuation, changes to lower case, and strips leading and trailing spaces.\n",
    "\n",
    "    Note:\n",
    "        Only spaces, letters, and numbers should be retained.  Other characters should should be\n",
    "        eliminated (e.g. it's becomes its).  Leading and trailing spaces should be removed after\n",
    "        punctuation is removed.\n",
    "\n",
    "    Args:\n",
    "        text (str): A string.\n",
    "\n",
    "    Returns:\n",
    "        str: The cleaned up string.\n",
    "    \"\"\"\n",
    "    # Your code goes here\n",
    "    return output_text"
   ]
  },
  {
   "cell_type": "code",
   "execution_count": null,
   "metadata": {
    "application/vnd.databricks.v1+cell": {
     "cellMetadata": {
      "byteLimit": 2048000,
      "rowLimit": 10000
     },
     "inputWidgets": {},
     "nuid": "da1fbb49-5c65-4f9c-84cc-3c194fa580b0",
     "showTitle": false,
     "title": ""
    }
   },
   "outputs": [],
   "source": [
    "# TEST Capitalization and punctuation (4b)\n",
    "assert  removePunctuation(\" The Elephant's 4 cats. \") == 'the elephants 4 cats',\\\n",
    "                  'removePunctuation() failed'"
   ]
  },
  {
   "cell_type": "markdown",
   "metadata": {
    "application/vnd.databricks.v1+cell": {
     "cellMetadata": {},
     "inputWidgets": {},
     "nuid": "7ed0734d-00be-4578-b449-e0463274def7",
     "showTitle": false,
     "title": ""
    }
   },
   "source": [
    "##  Câu 7 (1 điểm) Đếm từ trong một text file\n",
    "Trong câu này, chúng ta sẽ xây dựng một hàm wordCountForFiles() để đếm từ trong một file text. Chúng ta sẽ sử dụng [Complete Works of William Shakespeare](http://www.gutenberg.org/ebooks/100) từ [Project Gutenberg](http://www.gutenberg.org/wiki/Main_Page). Nếu lấy các từ xuất hiện nhiều nhất, kết quả của các bạn sẽ có dạng dưới đây:\n",
    "\n",
    "* the: 27361\n",
    "* and: 26028\n",
    "* i: 20681\n",
    "* to: 19150\n",
    "* of: 17463\n",
    "* a: 14593\n",
    "* you: 13615\n",
    "* my: 12481\n",
    "* in: 10956\n",
    "* that: 10890\n",
    "* is: 9134\n",
    "* not: 8497\n",
    "* with: 7771\n",
    "* me: 7769\n",
    "* it: 7678"
   ]
  },
  {
   "cell_type": "markdown",
   "metadata": {
    "application/vnd.databricks.v1+cell": {
     "cellMetadata": {},
     "inputWidgets": {},
     "nuid": "5f6e3f1e-accd-4cda-bc72-08382feddd07",
     "showTitle": false,
     "title": ""
    }
   },
   "source": [
    "### Load các vở kịch của Shakespeare"
   ]
  },
  {
   "cell_type": "code",
   "execution_count": null,
   "metadata": {
    "application/vnd.databricks.v1+cell": {
     "cellMetadata": {},
     "inputWidgets": {},
     "nuid": "2b68c69e-2fad-4961-a351-c0dae4a29b99",
     "showTitle": false,
     "title": ""
    }
   },
   "outputs": [
    {
     "name": "stdout",
     "output_type": "stream",
     "text": [
      "['1609', '', 'the sonnets', '', 'by william shakespeare', '', '', '', '1', 'from fairest creatures we desire increase', 'that thereby beautys rose might never die', 'but as the riper should by time decease', 'his tender heir might bear his memory', 'but thou contracted to thine own bright eyes', 'feedst thy lights flame with selfsubstantial fuel']\n",
      "0: 1609\n",
      "1: \n",
      "2: the sonnets\n",
      "3: \n",
      "4: by william shakespeare\n",
      "5: \n",
      "6: \n",
      "7: \n",
      "8: 1\n",
      "9: from fairest creatures we desire increase\n",
      "10: that thereby beautys rose might never die\n",
      "11: but as the riper should by time decease\n",
      "12: his tender heir might bear his memory\n",
      "13: but thou contracted to thine own bright eyes\n",
      "14: feedst thy lights flame with selfsubstantial fuel\n"
     ]
    }
   ],
   "source": [
    "import os.path\n",
    "fileName = \"dbfs:/\" + os.path.join('databricks-datasets', 'cs100', 'lab1', 'data-001', 'shakespeare.txt')\n",
    "\n",
    "shakespeareRDD = sc.textFile(fileName, 8).map(removePunctuation)\n",
    "print(shakespeareRDD.take(15))\n",
    "print('\\n'.join(shakespeareRDD\\\n",
    "                .zipWithIndex().map(lambda x: '{0}: {1}'.format(x[1], x[0]))\\\n",
    "                .take(15)))"
   ]
  },
  {
   "cell_type": "code",
   "execution_count": null,
   "metadata": {
    "application/vnd.databricks.v1+cell": {
     "cellMetadata": {},
     "inputWidgets": {},
     "nuid": "c67bb86a-b483-489c-ad1a-a182b7e1f0d7",
     "showTitle": false,
     "title": ""
    }
   },
   "outputs": [],
   "source": [
    "# Your code goes here"
   ]
  },
  {
   "cell_type": "markdown",
   "metadata": {
    "application/vnd.databricks.v1+cell": {
     "cellMetadata": {},
     "inputWidgets": {},
     "nuid": "5faeab1d-a202-4bb6-92da-e73d42518f4c",
     "showTitle": false,
     "title": ""
    }
   },
   "source": [
    "##  Câu 8 (0.5 điểm)\n",
    "\n",
    "Đoạn mã sau liệt kê tất cả các bộ dữ liệu Databricks có sẵn trong thư mục flights."
   ]
  },
  {
   "cell_type": "code",
   "execution_count": null,
   "metadata": {
    "application/vnd.databricks.v1+cell": {
     "cellMetadata": {
      "byteLimit": 2048000,
      "rowLimit": 10000
     },
     "inputWidgets": {},
     "nuid": "f0d099a5-1ad7-4dfa-b684-5b166415a5c6",
     "showTitle": false,
     "title": ""
    }
   },
   "outputs": [
    {
     "data": {
      "text/html": [
       "<style scoped>\n",
       "  .table-result-container {\n",
       "    max-height: 300px;\n",
       "    overflow: auto;\n",
       "  }\n",
       "  table, th, td {\n",
       "    border: 1px solid black;\n",
       "    border-collapse: collapse;\n",
       "  }\n",
       "  th, td {\n",
       "    padding: 5px;\n",
       "  }\n",
       "  th {\n",
       "    text-align: left;\n",
       "  }\n",
       "</style><div class='table-result-container'><table class='table-result'><thead style='background-color: white'><tr><th>path</th><th>name</th><th>size</th><th>modificationTime</th></tr></thead><tbody><tr><td>dbfs:/databricks-datasets/learning-spark-v2/flights/README.md</td><td>README.md</td><td>412</td><td>1577997753000</td></tr><tr><td>dbfs:/databricks-datasets/learning-spark-v2/flights/airport-codes-na.txt</td><td>airport-codes-na.txt</td><td>11411</td><td>1577997753000</td></tr><tr><td>dbfs:/databricks-datasets/learning-spark-v2/flights/departuredelays.csv</td><td>departuredelays.csv</td><td>33396236</td><td>1577997754000</td></tr><tr><td>dbfs:/databricks-datasets/learning-spark-v2/flights/summary-data/</td><td>summary-data/</td><td>0</td><td>0</td></tr></tbody></table></div>"
      ]
     },
     "metadata": {
      "application/vnd.databricks.v1+output": {
       "addedWidgets": {},
       "aggData": [],
       "aggError": "",
       "aggOverflow": false,
       "aggSchema": [],
       "aggSeriesLimitReached": false,
       "aggType": "",
       "arguments": {},
       "columnCustomDisplayInfos": {},
       "data": [
        [
         "dbfs:/databricks-datasets/learning-spark-v2/flights/README.md",
         "README.md",
         412,
         1577997753000
        ],
        [
         "dbfs:/databricks-datasets/learning-spark-v2/flights/airport-codes-na.txt",
         "airport-codes-na.txt",
         11411,
         1577997753000
        ],
        [
         "dbfs:/databricks-datasets/learning-spark-v2/flights/departuredelays.csv",
         "departuredelays.csv",
         33396236,
         1577997754000
        ],
        [
         "dbfs:/databricks-datasets/learning-spark-v2/flights/summary-data/",
         "summary-data/",
         0,
         0
        ]
       ],
       "datasetInfos": [],
       "dbfsResultPath": null,
       "isJsonSchema": true,
       "metadata": {},
       "overflow": false,
       "plotOptions": {
        "customPlotOptions": {},
        "displayType": "table",
        "pivotAggregation": null,
        "pivotColumns": null,
        "xColumns": null,
        "yColumns": null
       },
       "removedWidgets": [],
       "schema": [
        {
         "metadata": "{}",
         "name": "path",
         "type": "\"string\""
        },
        {
         "metadata": "{}",
         "name": "name",
         "type": "\"string\""
        },
        {
         "metadata": "{}",
         "name": "size",
         "type": "\"long\""
        },
        {
         "metadata": "{}",
         "name": "modificationTime",
         "type": "\"long\""
        }
       ],
       "type": "table"
      }
     },
     "output_type": "display_data"
    }
   ],
   "source": [
    "display(dbutils.fs.ls('/databricks-datasets/learning-spark-v2/flights'))"
   ]
  },
  {
   "cell_type": "markdown",
   "metadata": {
    "application/vnd.databricks.v1+cell": {
     "cellMetadata": {},
     "inputWidgets": {},
     "nuid": "33fbbe3c-7ea3-4e4d-aee3-09580c59ad48",
     "showTitle": false,
     "title": ""
    }
   },
   "source": [
    "`departuredelays.csv` có 5 cột:\n",
    "* Cột date chứa một string dạng mmddhhmm (ví dụ '02190925', tương ứng với ngày 19/02 09:25 AM).\n",
    "* Cột delay cho biết độ trễ tính bằng phút giữa thời gian khởi hành theo lịch trình và thời gian khởi hành thực tế. Khởi hành sớm hiển thị số âm.\n",
    "* Cột distance cho biết khoảng cách tính bằng dặm từ sân bay xuất phát đến sân bay đích.\n",
    "* Cột origin chứa mã sân bay điểm xuất phát (theo IATA).\n",
    "* Cột destination chứa mã sân bay điểm đến (theo IATA).\n",
    "\n",
    "Sử dụng đường dẫn \"/databricks-datasets/learning-spark-v2/flights/departuredelays.csv\" để đọc dữ liệu từ file departuredelays.csv vào DataFrame delay\n"
   ]
  },
  {
   "cell_type": "code",
   "execution_count": null,
   "metadata": {
    "application/vnd.databricks.v1+cell": {
     "cellMetadata": {
      "byteLimit": 2048000,
      "rowLimit": 10000
     },
     "inputWidgets": {},
     "nuid": "98f9cc57-8ffa-4d6a-afaa-4978114011c4",
     "showTitle": false,
     "title": ""
    }
   },
   "outputs": [],
   "source": [
    "from pyspark.sql import SQLContext \n",
    "from pyspark.sql.types import StructType, StructField, StringType, IntegerType\n",
    "\n",
    "# Your code goes here\n",
    "\n",
    "# Define the schema with specified data types\n",
    "my_schema = StructType([\n",
    "    StructField(\"date\", StringType(), True),\n",
    "    StructField(\"delay\", IntegerType(), True),\n",
    "    StructField(\"distance\", IntegerType(), True),\n",
    "    StructField(\"origin\", StringType(), True),\n",
    "    StructField(\"destination\", StringType(), True)\n",
    "])\n",
    "\n",
    "# Your code goes here\n",
    "\n",
    "\n",
    "delay.printSchema()"
   ]
  },
  {
   "cell_type": "markdown",
   "metadata": {
    "application/vnd.databricks.v1+cell": {
     "cellMetadata": {},
     "inputWidgets": {},
     "nuid": "0198d80a-4f16-4d39-aeaf-160e25cc529a",
     "showTitle": false,
     "title": ""
    }
   },
   "source": [
    "##  Thực hiện các câu sau bằng SQL Query và DataFrame Operations\n",
    "##  Câu 9 (0.5 điểm) Hiển thị 5 dòng dữ liệu đầu tiên của file departuredelays.csv\n",
    "\n"
   ]
  },
  {
   "cell_type": "code",
   "execution_count": null,
   "metadata": {
    "application/vnd.databricks.v1+cell": {
     "cellMetadata": {},
     "inputWidgets": {},
     "nuid": "88c61a51-7281-4ce0-9f46-44de5dcb3dfc",
     "showTitle": false,
     "title": ""
    }
   },
   "outputs": [],
   "source": [
    "# SQL Query\n",
    "# Your code goes here"
   ]
  },
  {
   "cell_type": "code",
   "execution_count": null,
   "metadata": {
    "application/vnd.databricks.v1+cell": {
     "cellMetadata": {},
     "inputWidgets": {},
     "nuid": "20d2087e-17a9-48a2-b095-a7421e18ad81",
     "showTitle": false,
     "title": ""
    }
   },
   "outputs": [],
   "source": [
    "# DataFrame Operations\n",
    "# Your code goes here"
   ]
  },
  {
   "cell_type": "markdown",
   "metadata": {
    "application/vnd.databricks.v1+cell": {
     "cellMetadata": {},
     "inputWidgets": {},
     "nuid": "78a8e1c9-c324-483b-9845-f1a7a4841b3b",
     "showTitle": false,
     "title": ""
    }
   },
   "source": [
    "##  Câu 10 (0.5 điểm) Tìm các chuyến bay ngày 06 tháng 01 lúc 12:15 cất cánh từ sân bay Chicago O'Hare"
   ]
  },
  {
   "cell_type": "code",
   "execution_count": null,
   "metadata": {
    "application/vnd.databricks.v1+cell": {
     "cellMetadata": {},
     "inputWidgets": {},
     "nuid": "d10f2a89-6ac6-4746-89fc-b7cca6ad2738",
     "showTitle": false,
     "title": ""
    }
   },
   "outputs": [],
   "source": [
    "# SQL Query\n",
    "# Your code goes here"
   ]
  },
  {
   "cell_type": "code",
   "execution_count": null,
   "metadata": {
    "application/vnd.databricks.v1+cell": {
     "cellMetadata": {},
     "inputWidgets": {},
     "nuid": "2e74cd92-bcf7-41a1-a821-209aceaf4082",
     "showTitle": false,
     "title": ""
    }
   },
   "outputs": [],
   "source": [
    "# DataFrame Operations\n",
    "# Your code goes here"
   ]
  },
  {
   "cell_type": "markdown",
   "metadata": {
    "application/vnd.databricks.v1+cell": {
     "cellMetadata": {},
     "inputWidgets": {},
     "nuid": "8eae8b8c-2df5-4cb3-b291-7a8c3f1ca876",
     "showTitle": false,
     "title": ""
    }
   },
   "source": [
    "## Câu 11  (1 điểm) Tìm số lượng các chuyến bay có khoảng cách lớn 2000 dặm đến sân bay John F Kennedy (mã 'JFK').\n"
   ]
  },
  {
   "cell_type": "code",
   "execution_count": null,
   "metadata": {
    "application/vnd.databricks.v1+cell": {
     "cellMetadata": {},
     "inputWidgets": {},
     "nuid": "4135baef-1aea-4012-9808-053599f3d6da",
     "showTitle": false,
     "title": ""
    }
   },
   "outputs": [],
   "source": [
    "# SQL Query\n",
    "# Your code goes here"
   ]
  },
  {
   "cell_type": "code",
   "execution_count": null,
   "metadata": {
    "application/vnd.databricks.v1+cell": {
     "cellMetadata": {},
     "inputWidgets": {},
     "nuid": "6c284ddb-b4ab-4c50-8e02-03356879233c",
     "showTitle": false,
     "title": ""
    }
   },
   "outputs": [],
   "source": [
    "# DataFrame Operations\n",
    "# Your code goes here"
   ]
  },
  {
   "cell_type": "markdown",
   "metadata": {
    "application/vnd.databricks.v1+cell": {
     "cellMetadata": {},
     "inputWidgets": {},
     "nuid": "ec35fcab-0f28-49f9-b9f7-4713e311a498",
     "showTitle": false,
     "title": ""
    }
   },
   "source": [
    "## Câu 12 (1 điểm) Liệt kê các chuyến bay từ JFK (New York) đến ORD (Chicago) trong tháng 1"
   ]
  },
  {
   "cell_type": "code",
   "execution_count": null,
   "metadata": {
    "application/vnd.databricks.v1+cell": {
     "cellMetadata": {},
     "inputWidgets": {},
     "nuid": "5c6f131c-c572-43da-97df-6e05d07ef33f",
     "showTitle": false,
     "title": ""
    }
   },
   "outputs": [],
   "source": [
    "# SQL Query\n",
    "# Your code goes here\n",
    "\n"
   ]
  },
  {
   "cell_type": "code",
   "execution_count": null,
   "metadata": {
    "application/vnd.databricks.v1+cell": {
     "cellMetadata": {},
     "inputWidgets": {},
     "nuid": "8f812c41-bc67-4dc8-85ad-ea11ec13d4e1",
     "showTitle": false,
     "title": ""
    }
   },
   "outputs": [],
   "source": [
    "# DataFrame Operations\n",
    "# Your code goes here"
   ]
  },
  {
   "cell_type": "markdown",
   "metadata": {
    "application/vnd.databricks.v1+cell": {
     "cellMetadata": {},
     "inputWidgets": {},
     "nuid": "dde05e98-db9f-4715-8f6a-e1e6ba31897f",
     "showTitle": false,
     "title": ""
    }
   },
   "source": [
    "## Câu 13 (1 điểm) Tính  độ trễ trung bình (theo phút) của các chuyến bay từ JFK (New York) đến ORD (Chicago) trong tháng 1"
   ]
  },
  {
   "cell_type": "code",
   "execution_count": null,
   "metadata": {
    "application/vnd.databricks.v1+cell": {
     "cellMetadata": {},
     "inputWidgets": {},
     "nuid": "5fa670af-b87c-4008-95f8-54a2e14d526a",
     "showTitle": false,
     "title": ""
    }
   },
   "outputs": [],
   "source": [
    "# SQL Query\n",
    "# Your code goes here"
   ]
  },
  {
   "cell_type": "code",
   "execution_count": null,
   "metadata": {
    "application/vnd.databricks.v1+cell": {
     "cellMetadata": {},
     "inputWidgets": {},
     "nuid": "d85aa28b-2511-4c3d-b48d-d9676a10eea4",
     "showTitle": false,
     "title": ""
    }
   },
   "outputs": [],
   "source": [
    "# DataFrame Operations\n",
    "# Your code goes here"
   ]
  },
  {
   "cell_type": "markdown",
   "metadata": {
    "application/vnd.databricks.v1+cell": {
     "cellMetadata": {},
     "inputWidgets": {},
     "nuid": "d07e8a3d-974d-4454-9865-94b296e31c6d",
     "showTitle": false,
     "title": ""
    }
   },
   "source": [
    "## Câu 14 (1 điểm) Tính độ trễ lớn nhất (phút) của các chuyến bay từ JFK (New York) đến ORD (Chicago) trong tháng 1"
   ]
  },
  {
   "cell_type": "code",
   "execution_count": null,
   "metadata": {
    "application/vnd.databricks.v1+cell": {
     "cellMetadata": {},
     "inputWidgets": {},
     "nuid": "d2c2761a-d9c7-4c26-a5a3-d155e362588b",
     "showTitle": false,
     "title": ""
    }
   },
   "outputs": [],
   "source": [
    "# SQL Query\n",
    "# Your code goes here"
   ]
  },
  {
   "cell_type": "code",
   "execution_count": null,
   "metadata": {
    "application/vnd.databricks.v1+cell": {
     "cellMetadata": {},
     "inputWidgets": {},
     "nuid": "c213b7b1-327c-4bbc-8ffc-72f01288adb5",
     "showTitle": false,
     "title": ""
    }
   },
   "outputs": [],
   "source": [
    "# DataFrame Operations\n",
    "# Your code goes here"
   ]
  }
 ],
 "metadata": {
  "application/vnd.databricks.v1+notebook": {
   "dashboards": [],
   "language": "python",
   "notebookMetadata": {
    "pythonIndentUnit": 2
   },
   "notebookName": "Introduction_to_Big_Data_midterm_3",
   "widgets": {}
  },
  "kernelspec": {
   "display_name": "Python 3 (ipykernel)",
   "language": "python",
   "name": "python3"
  },
  "language_info": {
   "codemirror_mode": {
    "name": "ipython",
    "version": 3
   },
   "file_extension": ".py",
   "mimetype": "text/x-python",
   "name": "python",
   "nbconvert_exporter": "python",
   "pygments_lexer": "ipython3",
   "version": "3.10.11"
  }
 },
 "nbformat": 4,
 "nbformat_minor": 0
}
